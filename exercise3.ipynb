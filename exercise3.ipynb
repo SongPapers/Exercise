   "metadata": {},
   "outputs": [
    {
     "data": {
      "text/plain": [
       "((__main__.B,), (object,))"
      ]
     },
     "execution_count": 137,
     "metadata": {},
     "output_type": "execute_result"
    }
   ],
   "source": [
    "class A(object):\n",
    "    def test(self):\n",
    "        print('AAA')\n",
    "class B(object):\n",
    "    def test(self):\n",
    "        print('BBB')\n",
    "class C(B):\n",
    "    def test(self):\n",
    "        print('CCC')\n",
    "C.__bases__,B.__bases__"
   ]
  },
  {
   "cell_type": "code",
   "execution_count": 138,
   "id": "6fadc5dd-e270-4a4f-b3df-1ceb32fe066d",
   "metadata": {},
   "outputs": [
    {
     "name": "stdout",
     "output_type": "stream",
     "text": [
      "AAA\n"
     ]
    },
    {
     "data": {
      "text/plain": [
       "((__main__.A, __main__.B), (object,))"
      ]
     },
     "execution_count": 138,
     "metadata": {},
     "output_type": "execute_result"
    }
   ],
   "source": [
    "class A(object):\n",
    "    def test(self):\n",
    "        print('AAA')\n",
    "class B(object):\n",
    "    def test(self):\n",
    "        print('BBB')\n",
    "class C(A, B):\n",
    "    # def test(self):\n",
    "    #     print('CCC')\n",
    "    pass\n",
    "c = C()\n",
    "c.test()\n",
    "C.__bases__,B.__bases__"
   ]
  },
  {
   "cell_type": "code",
   "execution_count": 139,
   "id": "f2c88f7d-8dd3-4233-9fcc-ddf0953152d2",
   "metadata": {},
   "outputs": [
    {
     "name": "stdout",
     "output_type": "stream",
     "text": [
      "你好 猪八戒\n"
     ]
    },
    {
     "data": {
      "text/plain": [
       "10"
      ]
     },
     "execution_count": 139,
     "metadata": {},
     "output_type": "execute_result"
    }
   ],
   "source": [
    "class A:\n",
    "    def __init__(self, name):\n",
    "        self._name = name\n",
    "        \n",
    "    @property\n",
    "    def name(self):\n",
    "        return self._name\n",
    "    \n",
    "    @name.setter\n",
    "    def name(self, name):\n",
    "        self._name = name\n",
    "        \n",
    "class B:\n",
    "    def __init__(self, name):\n",
    "        self._name = name\n",
    "    def __len__(self):\n",
    "        return 10\n",
    "    @property\n",
    "    def name(self):\n",
    "        return self._name\n",
    "    \n",
    "    @name.setter\n",
    "    def name(self, name):\n",
    "        self._name = name\n",
    "class C:\n",
    "    pass\n",
    "\n",
    "a = A('猪八戒')\n",
    "b = B('孙悟空')\n",
    "\n",
    "def say_hello(obj):\n",
    "    print('你好 %s' % obj.name)\n",
    "    \n",
    "say_hello(a)\n",
    "len(b)"
   ]
  },
  {
   "cell_type": "markdown",
   "id": "3c8e261e-bd44-4764-b5dc-a4d984de0945",
   "metadata": {},
   "source": [
    "## 7.5类中的属性和方法\n",
    "    类属性：直接在类中定义的属性\n",
    "        类属性只能通过类对象来修改，无法通过实例对象修改\n",
    "    实例属性：通过实例对象添加的属性属于实例属性\n",
    "        实例属性只能通过实例对象来访问和修改，类对象无法访问修改\n",
    "    \n",
    "    实例方法：以self作为第一个参数的方法都是实例方法   \n",
    "        实例方法可以通过实例和类去调用\n",
    "            当通过实例调用时，会自动将当前调用对象作为self传入\n",
    "            当通过类调用时，不会自动传递self，此时需要手动传递self\n",
    "        实例方法在调用时，python会将当前调用对象作为self传入\n",
    "    类方法：\n",
    "        在类内部使用 @classmethod 来修饰的方法\n",
    "        类方法的第一个参数是cls，也会被自动传递，cls就是当前的类对象\n",
    "        \n",
    "    类方法与实例方法区别：\n",
    "        类方法第一个参数是cls，实例方法第一个参数是self\n",
    "        类方法可以通过类去调用，也可以通过实例去调用，没有区别\n",
    "        \n",
    "    静态方法\n",
    "        在类中使用 @staticmethod 来修饰的方法\n",
    "        静态方法不需要指定任何默认参数，静态方法可以通过类和实例去调用\n",
    "        静态方法，基本上是一个和当前类无关的方法，只是一个保存到当前类中的函数\n",
    "        静态方法一般是一个工具方法，和当前类无关\n",
    "        \n",
    "## 7.6垃圾回收\n",
    "    没有被引用时，成为垃圾\n",
    "    python 自动垃圾回收机制，不需要手动处理\n",
    "    特殊方法：__del__\n",
    "\n",
    "## 7.7特殊方法（魔术方法）\n",
    "    特殊方法都是使用__开头和结尾的\n",
    "    特殊方法不需要手动调用，需要在一些特殊情况下自动执行\n",
    "    __new__()\n",
    "    __init__()\n",
    "    __del__()\n",
    "    __str__() 打印对象\n",
    "        会在尝试将对象转换为字符串的时候调用\n",
    "        它的作用可以用来指定对象转换为字符串的结果\n",
    "    __repr__()\n",
    "        会在对当前对象使用repr()函数时调用\n",
    "        他的作用是指定对象在 “交互模式”中直接输出的效果\n",
    "    比较\n",
    "        object.__lt__(self, other) 小于\n",
    "        object.__le__(self, other) 小于等于\n",
    "        object.__eq__(self, other) 等于\n",
    "        object.__ne__(self, other) 不等于\n",
    "        object.__gt__(self, other) 大于\n",
    "        object.__ge__(self, other) 大于等于\n",
    "    __bool__()\n",
    "    运算\n",
    "        object.__add__(self, other) 等等"
   ]
  },
  {
   "cell_type": "code",
   "execution_count": 140,
   "id": "e8582602-5939-44d6-b457-04a945e8eaf0",
   "metadata": {},
   "outputs": [
    {
     "name": "stdout",
     "output_type": "stream",
     "text": [
      "10\n",
      "100\n",
      "AAA\n",
      "AAA\n",
      "这是test2方法,是类方法 <class '__main__.A'>\n",
      "100\n",
      "这是test3方法,是静态类\n"
     ]
    }
   ],
   "source": [
    "class A:\n",
    "    count = 10\n",
    "    def __init__(self, name):\n",
    "        self._name = name\n",
    "        \n",
    "    @property\n",
    "    def name(self):\n",
    "        return self._name\n",
    "    \n",
    "    @name.setter\n",
    "    def name(self, name):\n",
    "        self._name = name\n",
    "        \n",
    "    def test(self):\n",
    "        print('AAA')\n",
    "    @classmethod\n",
    "    def test2(cls):\n",
    "        print('这是test2方法,是类方法',cls)\n",
    "        print(cls.count)\n",
    "    @staticmethod\n",
    "    def test3():\n",
    "        print('这是test3方法,是静态类')\n",
    "        \n",
    "a = A('孙悟空')\n",
    "print(a.count)\n",
    "A.count = 100\n",
    "print(a.count)\n",
    "# 两种等价\n",
    "a.test()\n",
    "A.test(a)\n",
    "a.test2()\n",
    "a.test3()"
   ]
  },
  {
   "cell_type": "code",
   "execution_count": 141,
   "id": "dcd6a4c2-6142-4f19-8052-66f7d7857290",
   "metadata": {},
   "outputs": [
    {
     "name": "stdout",
     "output_type": "stream",
     "text": [
      "A class\n",
      "delete A class\n"
     ]
    }
   ],
   "source": [
    "# 垃圾回收\n",
    "class A:\n",
    "    def __init__(self):\n",
    "        self.name = 'A class'\n",
    "    \n",
    "    def __del__(self):\n",
    "        print('delete A class')\n",
    "a = A()\n",
    "print(a.name)\n",
    "a = None"
   ]
  },
  {
   "cell_type": "code",
   "execution_count": 142,
   "id": "069a9a96-bb39-4d58-aaeb-12dff1a60d5c",
   "metadata": {},
   "outputs": [
    {
     "name": "stdout",
     "output_type": "stream",
     "text": [
      "A class\n"
     ]
    }
   ],
   "source": [
    "a = A()\n",
    "b = a\n",
    "print(a.name)\n",
    "a = None"
   ]
  },
  {
   "cell_type": "code",
   "execution_count": 143,
   "id": "dd890726-87c9-401c-bdc3-aa22106ad03d",
   "metadata": {},
   "outputs": [
    {
     "name": "stdout",
     "output_type": "stream",
     "text": [
      "aaaa\n",
      "hello\n"
     ]
    },
    {
     "data": {
      "text/plain": [
       "(None, None, True, True)"
      ]
     },
     "execution_count": 143,
     "metadata": {},
     "output_type": "execute_result"
    }
   ],
   "source": [
    "class Person(object):\n",
    "    def __init__(self, name, age):\n",
    "        self.name = name\n",
    "        self.age = age\n",
    "        \n",
    "    def __str__(self):\n",
    "        return 'aaaa'\n",
    "    \n",
    "    def __repr__(self):\n",
    "        return 'hello'\n",
    "    \n",
    "    def __gt__(self, other):\n",
    "        return self.age > other.age\n",
    "    \n",
    "    def __bool___(self):\n",
    "        return self.age>17\n",
    "    \n",
    "p1 = Person('猪八戒', 18)\n",
    "p2 = Person('孙悟空',19)\n",
    "print(p1),print(repr(p2)), p1<p2, bool(p1)"
   ]
  },
  {
   "cell_type": "markdown",
   "id": "3621af8e-1ad6-44c4-9255-58005aee7af5",
   "metadata": {},
   "source": [
    "## 7.8模块（module）\n",
    "    模块化：将一个完整的程序分解为一个一个小的模块，通过模块组合，搭建一个完整的程序\n",
    "    不采用模块化，统一将所有的代码编写到一个文件里\n",
    "    采用模块化，将程序分别编写到多个文件中\n",
    "    优点：\n",
    "        方便开发\n",
    "        方便维护\n",
    "        方便复用\n",
    "    在python中一个py文件就是一个模块\n",
    "    在一个模块中引入外部模块\n",
    "        import\n",
    "        as\n",
    "        from import\n",
    "        import *\n",
    "    每一个模块内部都有一个 __main__属性，通过这个属性可以获取模块的名字\n",
    "    __name__属性值为__main__的模块是主模块，一个程序中只会有一个主模块\n",
    "    \n",
    "    添加了下划线的变量 _变量 ，只能在模块内部访问，在通过import*引入时，不会引入_开头的变量\n",
    "    \n",
    "    判断当前模块是否主模块\n",
    "        if __name__ == '__main__'\n",
    "\n",
    "## 7.9包（package）\n",
    "    包也是模块\n",
    "    当模块中代码过多时，或者一个模块需要分解成多个模块时，这时需要使用包\n",
    "    普通模块是一个py文件，包是一个文件夹\n",
    "    包必须要有一个__init__.py文件，这个文件可以包含包中的主要内容\n",
    "    \n",
    "    __pycache__ 是模块的缓存文件\n",
    "        py文件代码在执行前，需要被解析器先转换为机器码，然后再执行\n",
    "        为提高性能，python会在编译一次以后，将代码保存在一个缓存文件中\n",
    "        \n",
    "## 7.10标准库\n",
    "    开箱即用\n",
    "    sys\n",
    "    pprint"
   ]
  },
  {
   "cell_type": "markdown",
   "id": "74fbb468-210d-4d18-a60a-56885c6f0845",
   "metadata": {},
   "source": [
    "# 8.异常和文件\n",
    "## 8.1异常\n",
    "    出现异常会导致程序中止，异常以后代码不会执行\n",
    "\n",
    "## 8.2异常处理\n",
    "    try:\n",
    "        代码块（可能出现错误的语句）\n",
    "    except:\n",
    "        代码块（出现错误以后的处理方式）\n",
    "    else:\n",
    "        代码块（没出错时要执行的语句）\n",
    "    finally:\n",
    "        代码块（总会执行的语句）\n",
    "## 8.3异常的传播(抛出异常)\n",
    "    ZeroDivisionError\n",
    "    NameError\n",
    "    \n",
    "    try:\n",
    "        代码块（可能出现错误的语句）\n",
    "    except:\n",
    "        如果except后不跟任何内容，则此时它会捕捉到所有的异常\n",
    "        如果except后跟着一个异常的类型，此时他只会捕获该类型的异常\n",
    "        \n",
    "    try是必须的，else可以没有\n",
    "    except和finally必须有一个\n",
    "## 8.4自定义异常\n",
    "    抛出异常的目的：\n",
    "        告诉调用者调用时出现问题，希望你自己处理一下\n",
    "    可以通过 if else 处理异常"
   ]
  },
  {
   "cell_type": "code",
   "execution_count": 144,
   "id": "3206ad48-2271-4788-b7ea-8b647a3ef135",
   "metadata": {},
   "outputs": [
    {
     "name": "stdout",
     "output_type": "stream",
     "text": [
      "hello\n",
      "try\n",
      "hahah\n",
      "你好\n"
     ]
    }
   ],
   "source": [
    "print('hello')\n",
    "try:\n",
    "    print('try')\n",
    "    print(10/0)\n",
    "except:\n",
    "    print('hahah')\n",
    "else:\n",
    "    print('程序正常执行没有错误')\n",
    "print('你好')"
   ]
  },
  {
   "cell_type": "code",
   "execution_count": 145,
   "id": "92e6a25d-aa54-453b-99c4-6b3c03ba45b7",
   "metadata": {},
   "outputs": [
    {
     "name": "stdout",
     "output_type": "stream",
     "text": [
      "try\n",
      "hello fn3\n",
      "hello fn2\n",
      "hello fn\n",
      "hahah\n"
     ]
    }
   ],
   "source": [
    "def fn():\n",
    "    print('hello fn')\n",
    "    print(10/0)\n",
    "def fn2():\n",
    "    print('hello fn2')\n",
    "    fn()\n",
    "def fn3():\n",
    "    print('hello fn3')\n",
    "    fn2()\n",
    "    \n",
    "try:\n",
    "    print('try')\n",
    "    fn3()\n",
    "except:\n",
    "    print('hahah')\n",
    "else:\n",
    "    print('程序正常执行没有错误')"
   ]
  },
  {
   "cell_type": "code",
   "execution_count": 146,
   "id": "b0d219a3-49d5-45c6-be3b-60ef9bc04a80",
   "metadata": {},
   "outputs": [
    {
     "name": "stdout",
     "output_type": "stream",
     "text": [
      "IndexError 父类 unsupported operand type(s) for +: 'int' and 'str' <class 'TypeError'>\n",
      "无论是否有异常，都会执行\n"
     ]
    }
   ],
   "source": [
    "try:\n",
    "    1 + 'hello'\n",
    "    print(10/0)\n",
    "except NameError:\n",
    "    print('NameError')\n",
    "except ZeroDivisionError:\n",
    "    print('ZeroDivisionError')\n",
    "except IndexError:\n",
    "    print('IndexError')\n",
    "# except Exception:\n",
    "#     print('IndexError 父类')\n",
    "except Exception as e:\n",
    "    print('IndexError 父类',e,type(e))\n",
    "finally:\n",
    "    print('无论是否有异常，都会执行')"
   ]
  },
  {
   "cell_type": "code",
   "execution_count": 147,
   "id": "68d9e7cf-eaca-4892-8aff-91ca42759a53",
   "metadata": {},
   "outputs": [],
   "source": [
    "# def add(a,b):\n",
    "#     # 如果a和b中有负数，就向调用处抛出异常\n",
    "#     if a<0 or b<0:\n",
    "#         raise Exception('两个参数不能有参数')\n",
    "#     return a+b\n",
    "\n",
    "# print(add(-123,456))"
   ]
  },
  {
   "cell_type": "code",
   "execution_count": 148,
   "id": "12753253-ddc7-4d26-8b83-b351ab8a70c3",
   "metadata": {},
   "outputs": [],
   "source": [
    "# class MyError(Exception):\n",
    "#     pass\n",
    "\n",
    "# def add(a,b):\n",
    "#     # 如果a和b中有负数，就向调用处抛出异常\n",
    "#     if a<0 or b<0:\n",
    "#         raise MyError('自定义异常')\n",
    "#     return a+b\n",
    "\n",
    "# print(add(-123,456))"
   ]
  },
  {
   "cell_type": "markdown",
   "id": "1721d084-4a84-4568-8083-4d6898a032a2",
   "metadata": {},
   "source": [
    "## 8.5文件\n",
    "    通过python程序对计算机的各种文件进行增删改查的操作\n",
    "    I/O (Input / Output)\n",
    "    操作文件的步骤：\n",
    "        1.打开文件\n",
    "        2.对文件进行各种操作（读、写）然后保存\n",
    "        3.关闭文件\n",
    "    在windows中使用路径，\n",
    "        可以使用使用 / 来代替 \\ ，\n",
    "        或者使用\\\\来代替 \\，\n",
    "        或者使用原始字符串"
   ]
  },
  {
   "cell_type": "code",
   "execution_count": 149,
   "id": "959ea4a2-ff59-42ac-a726-ef2ee9ae212c",
   "metadata": {},
   "outputs": [
    {
     "data": {
      "text/plain": [
       "<_io.TextIOWrapper name='demo.txt' mode='r' encoding='cp936'>"
      ]
     },
     "execution_count": 149,
     "metadata": {},
     "output_type": "execute_result"
    }
   ],
   "source": [
    "# 使用open函数打开文件\n",
    "# 进入子目录\n",
    "# file_name = 'hello\\\\demo.txt'\n",
    "# file_name = r'hello\\demo.txt'\n",
    "# 返回上级目录\n",
    "# file_name = '../hello/demo.txt'\n",
    "# 可以使用绝对目录\n",
    "file_name = 'demo.txt'\n",
    "open(file_name)"
   ]
  },
  {
   "cell_type": "code",
   "execution_count": 150,
   "id": "3e5d79a5-fbd1-4f22-844e-293b7631132a",
   "metadata": {},
   "outputs": [
    {
     "name": "stdout",
     "output_type": "stream",
     "text": [
      "demo\n",
      "123\n",
      "'hello'\n",
      "锄禾日当午\n",
      "汗滴禾下土\n"
     ]
    }
   ],
   "source": [
    "# 关闭文件\n",
    "file_obj = open(file_name, encoding='utf-8')\n",
    "# 返回字符串\n",
    "print(file_obj.read())\n",
    "file_obj.close()"
   ]
  },
  {
   "cell_type": "code",
   "execution_count": 151,
   "id": "bc934df2-15d9-4b98-89b4-06666402e188",
   "metadata": {},
   "outputs": [
    {
     "name": "stdout",
     "output_type": "stream",
     "text": [
      "demo\n",
      "123\n",
      "'hello'\n",
      "锄禾日当午\n",
      "汗滴禾下土\n"
     ]
    }
   ],
   "source": [
    "# with as 语句\n",
    "with open(file_name, encoding='utf-8') as file_obj:\n",
    "    \n",
    "    # 此时这个文件只能在with中使用，一旦with结束则文件会自动close()\n",
    "    print(file_obj.read())"
   ]
  },
  {
   "cell_type": "code",
   "execution_count": 152,
   "id": "ea373fb5-e7e2-4b60-b495-7a14b59e9665",
   "metadata": {},
   "outputs": [
    {
     "name": "stdout",
     "output_type": "stream",
     "text": [
      "demo\n",
      "123\n",
      "'hello'\n",
      "锄禾日当午\n",
      "汗滴禾下土\n"
     ]
    }
   ],
   "source": [
    "try:\n",
    "    with open(file_name, encoding='utf-8') as file_obj:\n",
    "    # 此时这个文件只能在with中使用，一旦with结束则文件会自动close()\n",
    "        print(file_obj.read())\n",
    "except FileNotFoundError:\n",
    "    print(f'{file_name}文件不存在')"
   ]
  },
  {
   "cell_type": "code",
   "execution_count": 153,
   "id": "a41317e2-f55b-4e90-8d43-3af6aa4c6891",
   "metadata": {},
   "outputs": [
    {
     "name": "stdout",
     "output_type": "stream",
     "text": [
      "demo\n",
      "123\n",
      "'hello'\n",
      "锄禾日当午\n",
      "汗滴禾下土\n"
     ]
    }
   ],
   "source": [
    "try:\n",
    "    # 调用open()来打开一个文件，可以将文件分成两种类型\n",
    "    # 一种，是纯文本文件（使用utf-8等编码编写的文本文件）\n",
    "    # 一种，是二进制文件（图片，mp3，ppt等这些文件）\n",
    "    with open(file_name, encoding='utf-8') as file_obj:\n",
    "    # 此时这个文件只能在with中使用，一旦with结束则文件会自动close()\n",
    "        # 较大文件不要直接调用read()\n",
    "        print(file_obj.read())\n",
    "except FileNotFoundError:\n",
    "    print(f'{file_name}文件不存在')"
   ]
  },
  {
   "cell_type": "code",
   "execution_count": 154,
   "id": "ab13a178-fb6a-4915-b1b3-c9af3569a425",
   "metadata": {},
   "outputs": [
    {
     "name": "stdout",
     "output_type": "stream",
     "text": [
      "demo\n",
      "\n",
      "123\n",
      "'hello'\n",
      "\n",
      "['锄禾日当午\\n', '汗滴禾下土']\n"
     ]
    }
   ],
   "source": [
    "# 文件读取\n",
    "with open(file_name, encoding='utf-8') as file_obj:\n",
    "    # 读一行数据\n",
    "    print(file_obj.readline())\n",
    "    print(file_obj.readline(),end='')\n",
    "    print(file_obj.readline())\n",
    "    \n",
    "    # readlines()\n",
    "    # 该方法用于一行一行的读取内容，会一次性将读取到的内容封装到一个列表中返回\n",
    "    r = file_obj.readlines()\n",
    "    print(r)"
   ]
  },
  {
   "cell_type": "code",
   "execution_count": 155,
   "id": "ba9d7da4-c0b3-44f7-8b9a-880e696a81e0",
   "metadata": {},
   "outputs": [
    {
     "name": "stdout",
     "output_type": "stream",
     "text": [
      "8\n",
      "4\n"
     ]
    }
   ],
   "source": [
    "# 写入\n",
    "# mode='w' 可写,文件存在则会截断文件，不存在会创建新文件\n",
    "# mode='r' 只读\n",
    "# mode='a' 追加内容，不存在会创建新文件\n",
    "# x 用来新建文件，文件不存在创建新的文件，存在则报错，避免覆盖\n",
    "# b 读取二进制文件\n",
    "# r+ 即可读，又可写\n",
    "# w+\n",
    "# a+\n",
    "\n",
    "file_name = 'demo1.txt'\n",
    "with open(file_name, mode='w', encoding='utf-8') as file_obj:\n",
    "    file_obj.write('aa\\n')\n",
    "    file_obj.write('bb')\n",
    "    file_obj.write('cc\\n')\n",
    "    r = file_obj.write(str(132)+'sjsjs')\n",
    "    print(r)\n",
    "    r = file_obj.write('天气不错')\n",
    "    print(r)"
   ]
  },
  {
   "cell_type": "code",
   "execution_count": 156,
   "id": "d2b5fba1-443b-49a2-a9c2-2f53b926ae12",
   "metadata": {},
   "outputs": [
    {
     "name": "stdout",
     "output_type": "stream",
     "text": [
      "8\n"
     ]
    }
   ],
   "source": [
    "file_name = 'demo1.txt'\n",
    "with open(file_name, mode='a', encoding='utf-8') as file_obj:\n",
    "    file_obj.write('\\naa\\n')\n",
    "    file_obj.write('bb')\n",
    "    file_obj.write('cc\\n')\n",
    "    r = file_obj.write(str(132)+'sjsjs')\n",
    "    print(r)"
   ]
  },
  {
   "cell_type": "code",
   "execution_count": 157,
   "id": "06c681b8-bd08-4af5-a438-c40c08ecae40",
   "metadata": {},
   "outputs": [
    {
     "name": "stdout",
     "output_type": "stream",
     "text": [
      "b'123\\r\\n456\\r\\n'\n",
      "10\n",
      "b'456\\r\\n789\\r\\n'\n",
      "b'\\xe5\\x95\\xa6'\n",
      "b'\\r\\n\\xe5\\x95\\xa6'\n"
     ]
    }
   ],
   "source": [
    "# 二进制读\n",
    "file_name = 'demo2.txt'\n",
    "with open(file_name, mode='rb') as file_obj:\n",
    "    print(file_obj.read(10))\n",
    "    \n",
    "    # tell() 方法用来查看当前读取的位置\n",
    "    print(file_obj.tell())\n",
    "    \n",
    "    # seek()可以修改当前读取位置\n",
    "        # 两个参数：\n",
    "        # 第一个 切换的位置， \n",
    "        # 第二个 计算位置方式 0 从头计算，默认值 1 从当前位置计算， 2从最后位置开始计算\n",
    "    file_obj.seek(5)\n",
    "    print(file_obj.read(10))\n",
    "    \n",
    "    file_obj.seek(5,1)\n",
    "    print(file_obj.read(10))\n",
    "        \n",
    "    file_obj.seek(-5,2)\n",
    "    print(file_obj.read(10))"
   ]
  },
  {
   "cell_type": "code",
   "execution_count": 158,
   "id": "40de9fa3-4e8a-4a76-9fac-3d376d5d7442",
   "metadata": {},
   "outputs": [
    {
     "name": "stdout",
     "output_type": "stream",
     "text": [
      "['.ipynb_checkpoints',\n",
      " 'demo.txt',\n",
      " 'demo1.txt',\n",
      " 'demo2.txt',\n",
      " 'exercise1.ipynb',\n",
      " 'try.ipynb']\n",
      "['collection.emmx',\n",
      " 'data',\n",
      " 'Fttx-maintence_tools',\n",
      " 'jupyter',\n",
      " 'linux命令集合 (collection.py).emmx',\n",
      " 'Test_Fttx-maintence_tools',\n",
      " '测试工具优化.emmx',\n",
      " '铜线驱动运维工具V2.0.1.5.emmx',\n",
      " '项目布局与功能.emmx']\n"
     ]
    },
    {
     "data": {
      "text/plain": [
       "(None, None)"
      ]
     },
     "execution_count": 158,
     "metadata": {},
     "output_type": "execute_result"
    }
   ],
   "source": [
    "import os\n",
    "from pprint import pprint\n",
    "\n",
    "# 获取指定目录，默认为当前目录\n",
    "pprint(os.listdir()),pprint(os.listdir('..'))"
   ]
  },
  {
   "cell_type": "code",
   "execution_count": 159,
   "id": "93c6a9e0-e638-468d-866d-5a504054bd17",
   "metadata": {},
   "outputs": [
    {
     "data": {
      "text/plain": [
       "'D:\\\\Code\\\\jupyter'"
      ]
     },
     "execution_count": 159,
     "metadata": {},
     "output_type": "execute_result"
    }
   ],
   "source": [
    "# 获取当前所在目录\n",
    "os.getcwd()"
   ]
  },
  {
   "cell_type": "code",
   "execution_count": 160,
   "id": "9778e714-d235-42eb-8cc7-4fd4486e6765",
   "metadata": {},
   "outputs": [],
   "source": [
    "# 切换当前所在目录，相当于cd\n",
    "os.chdir('..')"
   ]
  },
  {
   "cell_type": "code",
   "execution_count": null,
   "id": "da555f01-9a80-4183-807a-c8bd3094785d",
   "metadata": {},
   "outputs": [],
   "source": []
  }
 ],
 "metadata": {
  "kernelspec": {
   "display_name": "Python 3",
   "language": "python",
   "name": "python3"
  },
  "language_info": {
   "codemirror_mode": {
    "name": "ipython",
    "version": 3
   },
   "file_extension": ".py",
   "mimetype": "text/x-python",
   "name": "python",
   "nbconvert_exporter": "python",
   "pygments_lexer": "ipython3",
   "version": "3.6.5"
  }
 },
 "nbformat": 4,
 "nbformat_minor": 5
}
