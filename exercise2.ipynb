   "metadata": {},
   "outputs": [
    {
     "data": {
      "text/plain": [
       "(1, 4, 6)"
      ]
     },
     "execution_count": 75,
     "metadata": {},
     "output_type": "execute_result"
    }
   ],
   "source": [
    "s1 = {-5,4,8,9,6,1,10,30}\n",
    "s1.pop(),s1.pop(),s1.pop()"
   ]
  },
  {
   "cell_type": "code",
   "execution_count": 76,
   "id": "3cd9482f-f4a8-418e-bf0f-1186a497f3e8",
   "metadata": {},
   "outputs": [
    {
     "data": {
      "text/plain": [
       "(None, {-5, 4, 6, 8, 9, 10, 30})"
      ]
     },
     "execution_count": 76,
     "metadata": {},
     "output_type": "execute_result"
    }
   ],
   "source": [
    "s1 = {-5,4,8,9,6,1,10,30}\n",
    "s1.remove(1),s1"
   ]
  },
  {
   "cell_type": "code",
   "execution_count": 77,
   "id": "d6b8b823-9833-42ef-8a52-058632db2cbd",
   "metadata": {},
   "outputs": [
    {
     "data": {
      "text/plain": [
       "set()"
      ]
     },
     "execution_count": 77,
     "metadata": {},
     "output_type": "execute_result"
    }
   ],
   "source": [
    "s1.clear()\n",
    "s1"
   ]
  },
  {
   "cell_type": "code",
   "execution_count": 78,
   "id": "05149187-3bbf-401d-8700-31ea24470e70",
   "metadata": {},
   "outputs": [],
   "source": [
    "# # 浅复制\n",
    "# copy()"
   ]
  },
  {
   "cell_type": "code",
   "execution_count": 79,
   "id": "948cd3f0-172a-4553-84af-5e9a32b0495e",
   "metadata": {},
   "outputs": [
    {
     "data": {
      "text/plain": [
       "({3, 4, 5}, {1, 2, 3, 4, 5, 6, 7}, {1, 2}, {6, 7}, {1, 2, 6, 7})"
      ]
     },
     "execution_count": 79,
     "metadata": {},
     "output_type": "execute_result"
    }
   ],
   "source": [
    "s1 = {1,2,3,4,5}\n",
    "s2 = {3,4,5,6,7}\n",
    "s1&s2, s1|s2, s1-s2, s2-s1, s1^s2"
   ]
  },
  {
   "cell_type": "code",
   "execution_count": 80,
   "id": "6942c588-6ffe-415e-8304-311de29bccf8",
   "metadata": {},
   "outputs": [
    {
     "data": {
      "text/plain": [
       "(True, False, True, True, True, False)"
      ]
     },
     "execution_count": 80,
     "metadata": {},
     "output_type": "execute_result"
    }
   ],
   "source": [
    "s3 = {1,2,3}\n",
    "s3<=s1,s1<=s3,s3<=s3,s1>=s1,s3<s1,s1<s1"
   ]
  },
  {
   "cell_type": "markdown",
   "id": "d5d0a04b-56d6-4f38-84e5-27e181adfc8f",
   "metadata": {},
   "source": [
    "# 6.函数\n",
    "    函数也是对象\n",
    "## 6.1函数参数\n",
    "    实参传递方式\n",
    "        位置参数 fn(1,2,3)\n",
    "        关键字参数 fn(b=2,a=1.c=3)\n",
    "        不定长参数 fn(a,b,*c) 参数装包\n",
    "            *形参只能接收位置参数\n",
    "            **形参可以接收其他的关键字参数，它会将这些参数统一保存到一个字典中\n",
    "        参数解包\n",
    "## 6.2返回值\n",
    "    return 返回的是None\n",
    "    fn() 和 fn 的区别\n",
    "## 6.3文档字符串\n",
    "    定义函数时写说明文档\n",
    "    help()\n",
    "## 6.4作用域（scope）\n",
    "    python两种\n",
    "        全局作用域\n",
    "            在程序执行时创建，在程序执行结束时销毁\n",
    "            所有函数以外的区域都是全局作用域\n",
    "        函数作用域\n",
    "            在函数调用时创建，在函数调用结束时销毁\n",
    "    globe\n",
    "## 6.5命名空间\n",
    "    locals()"
   ]
  },
  {
   "cell_type": "code",
   "execution_count": 81,
   "id": "3e145c7e-01e5-4a55-98a2-9bb2b5f8ad28",
   "metadata": {},
   "outputs": [
    {
     "name": "stdout",
     "output_type": "stream",
     "text": [
      "(1, 2, 3, 4, 5) <class 'tuple'>\n",
      "() <class 'tuple'>\n"
     ]
    },
    {
     "data": {
      "text/plain": [
       "(None, None)"
      ]
     },
     "execution_count": 81,
     "metadata": {},
     "output_type": "execute_result"
    }
   ],
   "source": [
    "def fn(*c):\n",
    "    print(c,type(c))\n",
    "fn(1,2,3,4,5),fn()"
   ]
  },
  {
   "cell_type": "code",
   "execution_count": 82,
   "id": "cc817ebd-025e-43b9-b690-a9f9f6b0d93b",
   "metadata": {},
   "outputs": [
    {
     "name": "stdout",
     "output_type": "stream",
     "text": [
      "a =  1\n",
      "b =  2\n",
      "c =  ()\n",
      "a =  1\n",
      "b =  2\n",
      "c =  (3, 4, 5, 6)\n"
     ]
    },
    {
     "data": {
      "text/plain": [
       "(None, None)"
      ]
     },
     "execution_count": 82,
     "metadata": {},
     "output_type": "execute_result"
    }
   ],
   "source": [
    "def fn2(a,b,*c):\n",
    "    print('a = ',a)\n",
    "    print('b = ',b)\n",
    "    print('c = ',c)\n",
    "fn2(1,2),fn2(1,2,3,4,5,6)"
   ]
  },
  {
   "cell_type": "code",
   "execution_count": 83,
   "id": "3740b924-79c0-481e-ade5-17c568acb4dc",
   "metadata": {},
   "outputs": [
    {
     "name": "stdout",
     "output_type": "stream",
     "text": [
      "a =  1\n",
      "b =  6\n",
      "c =  (2, 3, 4, 5)\n",
      "a =  1\n",
      "b =  2\n",
      "c =  (1, 2, 3)\n"
     ]
    },
    {
     "data": {
      "text/plain": [
       "(None, None)"
      ]
     },
     "execution_count": 83,
     "metadata": {},
     "output_type": "execute_result"
    }
   ],
   "source": [
    "def fn3(a,*c, b):\n",
    "    print('a = ',a)\n",
    "    print('b = ',b)\n",
    "    print('c = ',c)\n",
    "def fn4(*c,a, b):\n",
    "    print('a = ',a)\n",
    "    print('b = ',b)\n",
    "    print('c = ',c)\n",
    "fn3(1,2,3,4,5,b=6),fn4(1,2,3,b=2,a=1)"
   ]
  },
  {
   "cell_type": "code",
   "execution_count": 84,
   "id": "04e339dd-8a44-43e9-9d1c-69c0002973d6",
   "metadata": {},
   "outputs": [
    {
     "name": "stdout",
     "output_type": "stream",
     "text": [
      "a =  1\n",
      "b =  2\n",
      "c =  {}\n",
      "a =  2\n",
      "b =  1\n",
      "c =  {'c': 3}\n",
      "a =  2\n",
      "b =  3\n",
      "c =  {'c': 1, 'e': 4, 'f': 5}\n"
     ]
    },
    {
     "data": {
      "text/plain": [
       "(None, None, None)"
      ]
     },
     "execution_count": 84,
     "metadata": {},
     "output_type": "execute_result"
    }
   ],
   "source": [
    "def fn5(a,b,**c,):\n",
    "    print('a = ',a)\n",
    "    print('b = ',b)\n",
    "    print('c = ',c)\n",
    "fn5(1,2,),fn5(b=1,a=2,c=3),fn5(c=1,a=2,b=3,e=4,f=5)"
   ]
  },
  {
   "cell_type": "code",
   "execution_count": 85,
   "id": "4657ac2d-6237-4efe-954a-b57b2bf6ed11",
   "metadata": {},
   "outputs": [
    {
     "name": "stdout",
     "output_type": "stream",
     "text": [
      "a =  10\n",
      "b =  20\n",
      "c =  30\n",
      "a =  1\n",
      "b =  2\n",
      "c =  3\n"
     ]
    },
    {
     "data": {
      "text/plain": [
       "(None, None)"
      ]
     },
     "execution_count": 85,
     "metadata": {},
     "output_type": "execute_result"
    }
   ],
   "source": [
    "def fn4(a,b,c):\n",
    "    print('a = ',a)\n",
    "    print('b = ',b)\n",
    "    print('c = ',c)\n",
    "t = (10,20,30)\n",
    "t2 = {'a':1,'b':2,'c':3}\n",
    "fn4(*t),fn4(**t2)"
   ]
  },
  {
   "cell_type": "code",
   "execution_count": 86,
   "id": "64439307-f64b-4597-ad23-b17879ac89c8",
   "metadata": {},
   "outputs": [
    {
     "name": "stdout",
     "output_type": "stream",
     "text": [
      "a =  10\n",
      "b =  20\n",
      "c =  (30, 40, 50)\n",
      "a =  10\n",
      "b =  20\n",
      "c =  (30, 40, 50)\n"
     ]
    },
    {
     "data": {
      "text/plain": [
       "(None, None)"
      ]
     },
     "execution_count": 86,
     "metadata": {},
     "output_type": "execute_result"
    }
   ],
   "source": [
    "def fn4(a,b,*c):\n",
    "    print('a = ',a)\n",
    "    print('b = ',b)\n",
    "    print('c = ',c)\n",
    "t = (10,20,30,40,50)\n",
    "t1 = [10,20,30,40,50]\n",
    "fn4(*t),fn4(*t1)"
   ]
  },
  {
   "cell_type": "code",
   "execution_count": 87,
   "id": "9eed803c-e360-48d5-b06e-17367f1806f9",
   "metadata": {},
   "outputs": [
    {
     "data": {
      "text/plain": [
       "3"
      ]
     },
     "execution_count": 87,
     "metadata": {},
     "output_type": "execute_result"
    }
   ],
   "source": [
    "# fn() 和 fn 的区别\n",
    "a = sum\n",
    "a([1,2])"
   ]
  },
  {
   "cell_type": "code",
   "execution_count": 88,
   "id": "9e0e2b4c-dcec-4139-8676-49ffa08643b3",
   "metadata": {},
   "outputs": [
    {
     "name": "stdout",
     "output_type": "stream",
     "text": [
      "Help on built-in function print in module builtins:\n",
      "\n",
      "print(...)\n",
      "    print(value, ..., sep=' ', end='\\n', file=sys.stdout, flush=False)\n",
      "    \n",
      "    Prints the values to a stream, or to sys.stdout by default.\n",
      "    Optional keyword arguments:\n",
      "    file:  a file-like object (stream); defaults to the current sys.stdout.\n",
      "    sep:   string inserted between values, default a space.\n",
      "    end:   string appended after the last value, default a newline.\n",
      "    flush: whether to forcibly flush the stream.\n",
      "\n"
     ]
    }
   ],
   "source": [
    "help(print)"
   ]
  },
  {
   "cell_type": "code",
   "execution_count": 89,
   "id": "1dd9ab41-9377-4b8b-98ac-ec13791ac4d4",
   "metadata": {},
   "outputs": [
    {
     "name": "stdout",
     "output_type": "stream",
     "text": [
      "Help on function fn in module __main__:\n",
      "\n",
      "fn(a:int, b:bool, c:str='hello') -> int\n",
      "    这是一个文档字符串的实例\n",
      "    \n",
      "    函数的作用;\n",
      "    函数的参数：\n",
      "        a，作用，类型，默认值。。。\n",
      "        b，作用，类型，默认值。。。\n",
      "        c，作用，类型，默认值。。。\n",
      "\n",
      "a =  1\n",
      "b =  2\n",
      "c =  hello\n"
     ]
    },
    {
     "data": {
      "text/plain": [
       "(None, 10)"
      ]
     },
     "execution_count": 89,
     "metadata": {},
     "output_type": "execute_result"
    }
   ],
   "source": [
    "def fn(a:int,b:bool,c:str='hello')->int:\n",
    "    '''\n",
    "    这是一个文档字符串的实例\n",
    "    \n",
    "    函数的作用;\n",
    "    函数的参数：\n",
    "        a，作用，类型，默认值。。。\n",
    "        b，作用，类型，默认值。。。\n",
    "        c，作用，类型，默认值。。。\n",
    "    '''\n",
    "    print('a = ',a)\n",
    "    print('b = ',b)\n",
    "    print('c = ',c)\n",
    "    return 10\n",
    "help(fn),fn(1,2)"
   ]
  },
  {
   "cell_type": "code",
   "execution_count": 90,
   "id": "ef03de8d-2636-47e2-bca1-c251a7ec0cbb",
   "metadata": {},
   "outputs": [
    {
     "name": "stdout",
     "output_type": "stream",
     "text": [
      "fn3中：a = 3\n"
     ]
    }
   ],
   "source": [
    "def fn2():\n",
    "    a = 2\n",
    "    def fn3():\n",
    "        a = 3\n",
    "        print('fn3中：a =',a)\n",
    "    fn3()\n",
    "fn2()"
   ]
  },
  {
   "cell_type": "code",
   "execution_count": 91,
   "id": "855d97f4-3aee-460f-b8b9-ef8a55184dd3",
   "metadata": {},
   "outputs": [
    {
     "name": "stdout",
     "output_type": "stream",
     "text": [
      "fn3中：a = 2\n"
     ]
    }
   ],
   "source": [
    "def fn2():\n",
    "    a = 2\n",
    "    def fn3():\n",
    "        print('fn3中：a =',a)\n",
    "    fn3()\n",
    "fn2()"
   ]
  },
  {
   "cell_type": "code",
   "execution_count": 92,
   "id": "e143c67c-de60-4b8d-950c-674d4d0e4925",
   "metadata": {},
   "outputs": [
    {
     "name": "stdout",
     "output_type": "stream",
     "text": [
      "fn3中：a = 2\n"
     ]
    }
   ],
   "source": [
    "a = 2\n",
    "def fn2():\n",
    "    def fn3():\n",
    "        print('fn3中：a =',a)\n",
    "    fn3()\n",
    "fn2()"
   ]
  },
  {
   "cell_type": "code",
   "execution_count": 93,
   "id": "ca8aeefd-a095-4d25-a4eb-cc0e7862e430",
   "metadata": {},
   "outputs": [
    {
     "name": "stdout",
     "output_type": "stream",
     "text": [
      "fn3中：a = 4\n"
     ]
    },
    {
     "data": {
      "text/plain": [
       "(None, 4)"
      ]
     },
     "execution_count": 93,
     "metadata": {},
     "output_type": "execute_result"
    }
   ],
   "source": [
    "a = 2\n",
    "def fn2():\n",
    "    global a\n",
    "    a = 4\n",
    "    print('fn3中：a =',a)\n",
    "    \n",
    "fn2(),a"
   ]
  },
  {
   "cell_type": "code",
   "execution_count": null,
   "id": "a76a7eaf-eb3b-4b56-9b16-3cf78d7b95ff",
   "metadata": {},
   "outputs": [],
   "source": [
    "space = locals()\n",
    "space['a'],space"
   ]
  },
  {
   "cell_type": "code",
   "execution_count": 95,
   "id": "fd892a4e-53e5-4b46-8fbc-a7b57b5cdb5b",
   "metadata": {},
   "outputs": [
    {
     "name": "stdout",
     "output_type": "stream",
     "text": [
      "10\n"
     ]
    }
   ],
   "source": [
    "# 添加一个键值\n",
    "space['cc'] = 10\n",
    "print(cc)"
   ]
  },
  {
   "cell_type": "code",
   "execution_count": 96,
   "id": "0c2d5e86-35ce-4caa-9d47-d3313709a647",
   "metadata": {},
   "outputs": [
    {
     "name": "stdout",
     "output_type": "stream",
     "text": [
      "{'a': 10}\n",
      "10\n",
      "{'a': 10, 'cc': 10}\n"
     ]
    }
   ],
   "source": [
    "def fn4():\n",
    "    a = 10\n",
    "    space = locals()\n",
    "    print(space)\n",
    "    space['cc'] = 10\n",
    "    print(cc)\n",
    "    print(space)\n",
    "fn4()"
   ]
  },
  {
   "cell_type": "code",
   "execution_count": null,
   "id": "3c60bd8a-a135-4749-9dd2-dcd9dd832547",
   "metadata": {},
   "outputs": [],
   "source": [
    "def fn4():\n",
    "    a = 10\n",
    "    space = globals()\n",
    "    print(space)\n",
    "\n",
    "fn4()"
   ]
  },
  {
   "cell_type": "markdown",
   "id": "f4dbc5df-c1f7-4c39-a6a9-f9f6c0c3a00d",
   "metadata": {},
