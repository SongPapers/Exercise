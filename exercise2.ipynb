   "metadata": {},
   "outputs": [
    {
     "data": {
      "text/plain": [
       "(1, 4, 6)"
      ]
     },
     "execution_count": 75,
     "metadata": {},
     "output_type": "execute_result"
    }
   ],
   "source": [
    "s1 = {-5,4,8,9,6,1,10,30}\n",
    "s1.pop(),s1.pop(),s1.pop()"
   ]
  },
  {
   "cell_type": "code",
   "execution_count": 76,
   "id": "3cd9482f-f4a8-418e-bf0f-1186a497f3e8",
   "metadata": {},
   "outputs": [
    {
     "data": {
      "text/plain": [
       "(None, {-5, 4, 6, 8, 9, 10, 30})"
      ]
     },
     "execution_count": 76,
     "metadata": {},
     "output_type": "execute_result"
    }
   ],
   "source": [
    "s1 = {-5,4,8,9,6,1,10,30}\n",
    "s1.remove(1),s1"
   ]
  },
  {
   "cell_type": "code",
   "execution_count": 77,
   "id": "d6b8b823-9833-42ef-8a52-058632db2cbd",
   "metadata": {},
   "outputs": [
    {
     "data": {
      "text/plain": [
       "set()"
      ]
     },
     "execution_count": 77,
     "metadata": {},
     "output_type": "execute_result"
    }
   ],
   "source": [
    "s1.clear()\n",
    "s1"
   ]
  },
  {
   "cell_type": "code",
   "execution_count": 78,
   "id": "05149187-3bbf-401d-8700-31ea24470e70",
   "metadata": {},
   "outputs": [],
   "source": [
    "# # 浅复制\n",
    "# copy()"
   ]
  },
  {
   "cell_type": "code",
   "execution_count": 79,
   "id": "948cd3f0-172a-4553-84af-5e9a32b0495e",
   "metadata": {},
   "outputs": [
    {
     "data": {
      "text/plain": [
       "({3, 4, 5}, {1, 2, 3, 4, 5, 6, 7}, {1, 2}, {6, 7}, {1, 2, 6, 7})"
      ]
     },
     "execution_count": 79,
     "metadata": {},
     "output_type": "execute_result"
    }
   ],
   "source": [
    "s1 = {1,2,3,4,5}\n",
    "s2 = {3,4,5,6,7}\n",
    "s1&s2, s1|s2, s1-s2, s2-s1, s1^s2"
   ]
  },
  {
   "cell_type": "code",
   "execution_count": 80,
   "id": "6942c588-6ffe-415e-8304-311de29bccf8",
   "metadata": {},
   "outputs": [
    {
     "data": {
      "text/plain": [
       "(True, False, True, True, True, False)"
      ]
     },
     "execution_count": 80,
     "metadata": {},
     "output_type": "execute_result"
    }
   ],
   "source": [
    "s3 = {1,2,3}\n",
    "s3<=s1,s1<=s3,s3<=s3,s1>=s1,s3<s1,s1<s1"
   ]
  },
  {
   "cell_type": "markdown",
   "id": "d5d0a04b-56d6-4f38-84e5-27e181adfc8f",
   "metadata": {},
   "source": [
    "# 6.函数\n",
    "    函数也是对象\n",
    "## 6.1函数参数\n",
    "    实参传递方式\n",
    "        位置参数 fn(1,2,3)\n",
    "        关键字参数 fn(b=2,a=1.c=3)\n",
    "        不定长参数 fn(a,b,*c) 参数装包\n",
    "            *形参只能接收位置参数\n",
    "            **形参可以接收其他的关键字参数，它会将这些参数统一保存到一个字典中\n",
    "        参数解包\n",
    "## 6.2返回值\n",
    "    return 返回的是None\n",
    "    fn() 和 fn 的区别\n",
    "## 6.3文档字符串\n",
    "    定义函数时写说明文档\n",
    "    help()\n",
    "## 6.4作用域（scope）\n",
    "    python两种\n",
    "        全局作用域\n",
    "            在程序执行时创建，在程序执行结束时销毁\n",
    "            所有函数以外的区域都是全局作用域\n",
    "        函数作用域\n",
    "            在函数调用时创建，在函数调用结束时销毁\n",
    "    globe\n",
    "## 6.5命名空间\n",
    "    locals()"
   ]
  },
  {
   "cell_type": "code",
   "execution_count": 81,
   "id": "3e145c7e-01e5-4a55-98a2-9bb2b5f8ad28",
   "metadata": {},
   "outputs": [
    {
     "name": "stdout",
     "output_type": "stream",
     "text": [
      "(1, 2, 3, 4, 5) <class 'tuple'>\n",
      "() <class 'tuple'>\n"
     ]
    },
    {
     "data": {
      "text/plain": [
       "(None, None)"
      ]
     },
     "execution_count": 81,
     "metadata": {},
     "output_type": "execute_result"
    }
   ],
   "source": [
    "def fn(*c):\n",
    "    print(c,type(c))\n",
    "fn(1,2,3,4,5),fn()"
   ]
  },
  {
   "cell_type": "code",
   "execution_count": 82,
   "id": "cc817ebd-025e-43b9-b690-a9f9f6b0d93b",
   "metadata": {},
   "outputs": [
    {
     "name": "stdout",
     "output_type": "stream",
     "text": [
      "a =  1\n",
      "b =  2\n",
      "c =  ()\n",
      "a =  1\n",
      "b =  2\n",
      "c =  (3, 4, 5, 6)\n"
     ]
    },
    {
     "data": {
      "text/plain": [
       "(None, None)"
      ]
     },
     "execution_count": 82,
     "metadata": {},
     "output_type": "execute_result"
    }
   ],
   "source": [
    "def fn2(a,b,*c):\n",
    "    print('a = ',a)\n",
    "    print('b = ',b)\n",
    "    print('c = ',c)\n",
    "fn2(1,2),fn2(1,2,3,4,5,6)"
   ]
  },
  {
   "cell_type": "code",
   "execution_count": 83,
   "id": "3740b924-79c0-481e-ade5-17c568acb4dc",
   "metadata": {},
   "outputs": [
    {
     "name": "stdout",
     "output_type": "stream",
     "text": [
      "a =  1\n",
      "b =  6\n",
      "c =  (2, 3, 4, 5)\n",
      "a =  1\n",
      "b =  2\n",
      "c =  (1, 2, 3)\n"
     ]
    },
    {
     "data": {
      "text/plain": [
       "(None, None)"
      ]
     },
     "execution_count": 83,
     "metadata": {},
     "output_type": "execute_result"
    }
   ],
   "source": [
    "def fn3(a,*c, b):\n",
    "    print('a = ',a)\n",
    "    print('b = ',b)\n",
    "    print('c = ',c)\n",
    "def fn4(*c,a, b):\n",
    "    print('a = ',a)\n",
    "    print('b = ',b)\n",
    "    print('c = ',c)\n",
    "fn3(1,2,3,4,5,b=6),fn4(1,2,3,b=2,a=1)"
   ]
  },
  {
   "cell_type": "code",
   "execution_count": 84,
   "id": "04e339dd-8a44-43e9-9d1c-69c0002973d6",
   "metadata": {},
   "outputs": [
    {
     "name": "stdout",
     "output_type": "stream",
     "text": [
      "a =  1\n",
      "b =  2\n",
      "c =  {}\n",
      "a =  2\n",
      "b =  1\n",
      "c =  {'c': 3}\n",
      "a =  2\n",
      "b =  3\n",
      "c =  {'c': 1, 'e': 4, 'f': 5}\n"
     ]
    },
    {
     "data": {
      "text/plain": [
       "(None, None, None)"
      ]
     },
     "execution_count": 84,
     "metadata": {},
     "output_type": "execute_result"
    }
   ],
   "source": [
    "def fn5(a,b,**c,):\n",
    "    print('a = ',a)\n",
    "    print('b = ',b)\n",
    "    print('c = ',c)\n",
    "fn5(1,2,),fn5(b=1,a=2,c=3),fn5(c=1,a=2,b=3,e=4,f=5)"
   ]
  },
  {
   "cell_type": "code",
   "execution_count": 85,
   "id": "4657ac2d-6237-4efe-954a-b57b2bf6ed11",
   "metadata": {},
   "outputs": [
    {
     "name": "stdout",
     "output_type": "stream",
     "text": [
      "a =  10\n",
      "b =  20\n",
      "c =  30\n",
      "a =  1\n",
      "b =  2\n",
      "c =  3\n"
     ]
    },
    {
     "data": {
      "text/plain": [
       "(None, None)"
      ]
     },
     "execution_count": 85,
     "metadata": {},
     "output_type": "execute_result"
    }
   ],
   "source": [
    "def fn4(a,b,c):\n",
    "    print('a = ',a)\n",
    "    print('b = ',b)\n",
    "    print('c = ',c)\n",
    "t = (10,20,30)\n",
    "t2 = {'a':1,'b':2,'c':3}\n",
    "fn4(*t),fn4(**t2)"
   ]
  },
  {
   "cell_type": "code",
   "execution_count": 86,
   "id": "64439307-f64b-4597-ad23-b17879ac89c8",
   "metadata": {},
   "outputs": [
    {
     "name": "stdout",
     "output_type": "stream",
     "text": [
      "a =  10\n",
      "b =  20\n",
      "c =  (30, 40, 50)\n",
      "a =  10\n",
      "b =  20\n",
      "c =  (30, 40, 50)\n"
     ]
    },
    {
     "data": {
      "text/plain": [
       "(None, None)"
      ]
     },
     "execution_count": 86,
     "metadata": {},
     "output_type": "execute_result"
    }
   ],
   "source": [
    "def fn4(a,b,*c):\n",
    "    print('a = ',a)\n",
    "    print('b = ',b)\n",
    "    print('c = ',c)\n",
    "t = (10,20,30,40,50)\n",
    "t1 = [10,20,30,40,50]\n",
    "fn4(*t),fn4(*t1)"
   ]
  },
  {
   "cell_type": "code",
   "execution_count": 87,
   "id": "9eed803c-e360-48d5-b06e-17367f1806f9",
   "metadata": {},
   "outputs": [
    {
     "data": {
      "text/plain": [
       "3"
      ]
     },
     "execution_count": 87,
     "metadata": {},
     "output_type": "execute_result"
    }
   ],
   "source": [
    "# fn() 和 fn 的区别\n",
    "a = sum\n",
    "a([1,2])"
   ]
  },
  {
   "cell_type": "code",
   "execution_count": 88,
   "id": "9e0e2b4c-dcec-4139-8676-49ffa08643b3",
   "metadata": {},
   "outputs": [
    {
     "name": "stdout",
     "output_type": "stream",
     "text": [
      "Help on built-in function print in module builtins:\n",
      "\n",
      "print(...)\n",
      "    print(value, ..., sep=' ', end='\\n', file=sys.stdout, flush=False)\n",
      "    \n",
      "    Prints the values to a stream, or to sys.stdout by default.\n",
      "    Optional keyword arguments:\n",
      "    file:  a file-like object (stream); defaults to the current sys.stdout.\n",
      "    sep:   string inserted between values, default a space.\n",
      "    end:   string appended after the last value, default a newline.\n",
      "    flush: whether to forcibly flush the stream.\n",
      "\n"
     ]
    }
   ],
   "source": [
    "help(print)"
   ]
  },
  {
   "cell_type": "code",
   "execution_count": 89,
   "id": "1dd9ab41-9377-4b8b-98ac-ec13791ac4d4",
   "metadata": {},
   "outputs": [
    {
     "name": "stdout",
     "output_type": "stream",
     "text": [
      "Help on function fn in module __main__:\n",
      "\n",
      "fn(a:int, b:bool, c:str='hello') -> int\n",
      "    这是一个文档字符串的实例\n",
      "    \n",
      "    函数的作用;\n",
      "    函数的参数：\n",
      "        a，作用，类型，默认值。。。\n",
      "        b，作用，类型，默认值。。。\n",
      "        c，作用，类型，默认值。。。\n",
      "\n",
      "a =  1\n",
      "b =  2\n",
      "c =  hello\n"
     ]
    },
    {
     "data": {
      "text/plain": [
       "(None, 10)"
      ]
     },
     "execution_count": 89,
     "metadata": {},
     "output_type": "execute_result"
    }
   ],
   "source": [
    "def fn(a:int,b:bool,c:str='hello')->int:\n",
    "    '''\n",
    "    这是一个文档字符串的实例\n",
    "    \n",
    "    函数的作用;\n",
    "    函数的参数：\n",
    "        a，作用，类型，默认值。。。\n",
    "        b，作用，类型，默认值。。。\n",
    "        c，作用，类型，默认值。。。\n",
    "    '''\n",
    "    print('a = ',a)\n",
    "    print('b = ',b)\n",
    "    print('c = ',c)\n",
    "    return 10\n",
    "help(fn),fn(1,2)"
   ]
  },
  {
   "cell_type": "code",
   "execution_count": 90,
   "id": "ef03de8d-2636-47e2-bca1-c251a7ec0cbb",
   "metadata": {},
   "outputs": [
    {
     "name": "stdout",
     "output_type": "stream",
     "text": [
      "fn3中：a = 3\n"
     ]
    }
   ],
   "source": [
    "def fn2():\n",
    "    a = 2\n",
    "    def fn3():\n",
    "        a = 3\n",
    "        print('fn3中：a =',a)\n",
    "    fn3()\n",
    "fn2()"
   ]
  },
  {
   "cell_type": "code",
   "execution_count": 91,
   "id": "855d97f4-3aee-460f-b8b9-ef8a55184dd3",
   "metadata": {},
   "outputs": [
    {
     "name": "stdout",
     "output_type": "stream",
     "text": [
      "fn3中：a = 2\n"
     ]
    }
   ],
   "source": [
    "def fn2():\n",
    "    a = 2\n",
    "    def fn3():\n",
    "        print('fn3中：a =',a)\n",
    "    fn3()\n",
    "fn2()"
   ]
  },
  {
   "cell_type": "code",
   "execution_count": 92,
   "id": "e143c67c-de60-4b8d-950c-674d4d0e4925",
   "metadata": {},
   "outputs": [
    {
     "name": "stdout",
     "output_type": "stream",
     "text": [
      "fn3中：a = 2\n"
     ]
    }
   ],
   "source": [
    "a = 2\n",
    "def fn2():\n",
    "    def fn3():\n",
    "        print('fn3中：a =',a)\n",
    "    fn3()\n",
    "fn2()"
   ]
  },
  {
   "cell_type": "code",
   "execution_count": 93,
   "id": "ca8aeefd-a095-4d25-a4eb-cc0e7862e430",
   "metadata": {},
   "outputs": [
    {
     "name": "stdout",
     "output_type": "stream",
     "text": [
      "fn3中：a = 4\n"
     ]
    },
    {
     "data": {
      "text/plain": [
       "(None, 4)"
      ]
     },
     "execution_count": 93,
     "metadata": {},
     "output_type": "execute_result"
    }
   ],
   "source": [
    "a = 2\n",
    "def fn2():\n",
    "    global a\n",
    "    a = 4\n",
    "    print('fn3中：a =',a)\n",
    "    \n",
    "fn2(),a"
   ]
  },
  {
   "cell_type": "code",
   "execution_count": null,
   "id": "a76a7eaf-eb3b-4b56-9b16-3cf78d7b95ff",
   "metadata": {},
   "outputs": [],
   "source": [
    "space = locals()\n",
    "space['a'],space"
   ]
  },
  {
   "cell_type": "code",
   "execution_count": 95,
   "id": "fd892a4e-53e5-4b46-8fbc-a7b57b5cdb5b",
   "metadata": {},
   "outputs": [
    {
     "name": "stdout",
     "output_type": "stream",
     "text": [
      "10\n"
     ]
    }
   ],
   "source": [
    "# 添加一个键值\n",
    "space['cc'] = 10\n",
    "print(cc)"
   ]
  },
  {
   "cell_type": "code",
   "execution_count": 96,
   "id": "0c2d5e86-35ce-4caa-9d47-d3313709a647",
   "metadata": {},
   "outputs": [
    {
     "name": "stdout",
     "output_type": "stream",
     "text": [
      "{'a': 10}\n",
      "10\n",
      "{'a': 10, 'cc': 10}\n"
     ]
    }
   ],
   "source": [
    "def fn4():\n",
    "    a = 10\n",
    "    space = locals()\n",
    "    print(space)\n",
    "    space['cc'] = 10\n",
    "    print(cc)\n",
    "    print(space)\n",
    "fn4()"
   ]
  },
  {
   "cell_type": "code",
   "execution_count": null,
   "id": "3c60bd8a-a135-4749-9dd2-dcd9dd832547",
   "metadata": {},
   "outputs": [],
   "source": [
    "def fn4():\n",
    "    a = 10\n",
    "    space = globals()\n",
    "    print(space)\n",
    "\n",
    "fn4()"
   ]
  },
  {
   "cell_type": "markdown",
   "id": "f4dbc5df-c1f7-4c39-a6a9-f9f6c0c3a00d",
   "metadata": {},
   "source": [
    "## 6.6递归练习\n",
    "## 6.7函数式编程\n",
    "    python中，函数是一等对象\n",
    "    高阶函数\n",
    "        接收函数作为参数，或者将函数作为返回值的函数\n",
    "## 6.8匿名函数\n",
    "    lambda\n",
    "    一般用作参数使用\n",
    "## 6.9sort(),sorted()\n",
    "## 6.10闭包\n",
    "    将函数作为返回值返回，也是一种高阶函数,这种高阶函数也成为闭包\n",
    "    可以将私有的数据藏到闭包中\n",
    "    形成闭包的条件\n",
    "        函数嵌套\n",
    "        将内部函数作为返回值返回\n",
    "        内部函数必须要使用外部函数的变量\n",
    "## 6.11装饰器\n",
    "    目的\n",
    "        不方便后期维护\n",
    "        违反开闭原则\n",
    "        直接修改函数过多，麻烦\n",
    "        \n",
    "    OCP原则：开放对程序的扩展，关闭对程序的修改\n",
    "    不修改原函数的情况下，来对函数进行扩展\n",
    "    根据现有函数，创建一个新函数\n",
    "    \n",
    "    通过装饰器，可以在不修改原来函数的情况下对函数扩展\n",
    "    多个装饰器，将会从内部装饰器开始"
   ]
  },
  {
   "cell_type": "code",
   "execution_count": 98,
   "id": "e1cdd53a-be8c-479c-a520-9af98b97777a",
   "metadata": {},
   "outputs": [
    {
     "data": {
      "text/plain": [
       "6"
      ]
     },
     "execution_count": 98,
     "metadata": {},
     "output_type": "execute_result"
    }
   ],
   "source": [
    "def fn(n):\n",
    "    s = 1\n",
    "    for i in range(1,n+1):\n",
    "        s *= i\n",
    "    return s\n",
    "fn(3)"
   ]
  },
  {
   "cell_type": "code",
   "execution_count": 99,
   "id": "6bc786bc-5e91-43a9-b931-b83ee570f9ca",
   "metadata": {},
   "outputs": [
    {
     "data": {
      "text/plain": [
       "24"
      ]
     },
     "execution_count": 99,
     "metadata": {},
     "output_type": "execute_result"
    }
   ],
   "source": [
    "# 阶乘\n",
    "def factorial(n):\n",
    "    if n>1:\n",
    "        return n*factorial(n-1)\n",
    "    elif n<0:\n",
    "        raise('n<0 error!')\n",
    "    else:\n",
    "        return 1\n",
    "factorial(4)"
   ]
  },
  {
   "cell_type": "code",
   "execution_count": 100,
   "id": "14daa904-a714-47f0-bc32-ae4aaf157d54",
   "metadata": {},
   "outputs": [
    {
     "data": {
      "text/plain": [
       "(False, True, True)"
      ]
     },
     "execution_count": 100,
     "metadata": {},
     "output_type": "execute_result"
    }
   ],
   "source": [
    "# 检查回文\n",
    "def check(s):\n",
    "    l = len(s)\n",
    "    if l>2 and s[0]==s[-1]:\n",
    "        return check(s[1:-1])\n",
    "    elif s[0]!=s[-1]:\n",
    "        return False\n",
    "    elif (l==2 or l==1) and s[0]==s[-1]:\n",
    "        return True\n",
    "# 优化\n",
    "def check1(s):\n",
    "    if len(s)<2:\n",
    "        return True\n",
    "    elif s[0]==s[-1]:\n",
    "        return check(s[1:-1])\n",
    "    elif s[0]!=s[-1]:\n",
    "        return False\n",
    "check1('abcdtcba'),check1('abcdcba'),check1('abccba')"
   ]
  },
  {
   "cell_type": "code",
   "execution_count": 101,
   "id": "a04e366c-e940-4c84-814e-0218d5be7ec7",
   "metadata": {},
   "outputs": [
    {
     "data": {
      "text/plain": [
       "False"
      ]
     },
     "execution_count": 101,
     "metadata": {},
     "output_type": "execute_result"
    }
   ],
   "source": [
    "check('abcdtcba')"
   ]
  },
  {
   "cell_type": "code",
   "execution_count": 102,
   "id": "fb7a4d86-30d7-465f-8699-d9308ad1881b",
   "metadata": {},
   "outputs": [
    {
     "data": {
      "text/plain": [
       "27"
      ]
     },
     "execution_count": 102,
     "metadata": {},
     "output_type": "execute_result"
    }
   ],
   "source": [
    "# 幂运算\n",
    "def power(n, i):\n",
    "    if i>1:\n",
    "        return power(n,i-1)*n\n",
    "    elif i==1:\n",
    "        return n\n",
    "power(3,3)"
   ]
  },
  {
   "cell_type": "code",
   "execution_count": 103,
   "id": "7af45228-85a3-43d6-9451-fb94774fe5d7",
   "metadata": {},
   "outputs": [
    {
     "data": {
      "text/plain": [
       "(None, ['778', 'aa', 'bb', 'c', 'dddddddd', 'fff'])"
      ]
     },
     "execution_count": 103,
     "metadata": {},
     "output_type": "execute_result"
    }
   ],
   "source": [
    "l = ['aa','bb','c','dddddddd','fff','778']\n",
    "l.sort(),l"
   ]
  },
  {
   "cell_type": "code",
   "execution_count": 104,
   "id": "562002b9-87e9-4237-aded-5ba17b3c6d77",
   "metadata": {},
   "outputs": [
    {
     "name": "stdout",
     "output_type": "stream",
     "text": [
      "['c', 'aa', 'bb', '778', 'fff', 'dddddddd']\n"
     ]
    }
   ],
   "source": [
    "l.sort(key=len)\n",
    "print(l)\n",
    "# l.sort(key=int)\n",
    "# print(l)"
   ]
  },
  {
   "cell_type": "code",
   "execution_count": 105,
   "id": "db536cea-2831-4561-85bc-86682c7748ad",
   "metadata": {},
   "outputs": [
    {
     "data": {
      "text/plain": [
       "(['778', 'aa', 'bb', 'c', 'dddddddd', 'fff'],\n",
       " ['aa', 'bb', 'c', 'dddddddd', 'fff', '778'])"
      ]
     },
     "execution_count": 105,
     "metadata": {},
     "output_type": "execute_result"
    }
   ],
   "source": [
    "l = ['aa','bb','c','dddddddd','fff','778']\n",
    "sorted(l),l"
   ]
  },
  {
   "cell_type": "code",
   "execution_count": 106,
   "id": "08734501-f6ba-4040-809e-73ab6506b063",
   "metadata": {},
   "outputs": [
    {
     "data": {
      "text/plain": [
       "(['778', 'aa', 'bb', 'c', 'dddddddd', 'fff'], ['4', '4', '5', '5', '5'])"
      ]
     },
     "execution_count": 106,
     "metadata": {},
     "output_type": "execute_result"
    }
   ],
   "source": [
    "sorted(l,key=str),sorted('54545')"
   ]
  },
  {
   "cell_type": "code",
   "execution_count": 107,
   "id": "9ea262e3-b0ed-4d55-9b15-0a42f239f7bd",
   "metadata": {},
   "outputs": [
    {
     "name": "stdout",
     "output_type": "stream",
     "text": [
      "I am fn2\n",
      "None\n"
     ]
    },
    {
     "data": {
      "text/plain": [
       "(<function __main__.fn.<locals>.inner()>, None)"
      ]
     },
     "execution_count": 107,
     "metadata": {},
     "output_type": "execute_result"
    }
   ],
   "source": [
    "# 闭包\n",
    "def fn():\n",
    "    def inner():\n",
    "        print('I am fn2')\n",
    "    return inner\n",
    "fn(),print(fn()())"
   ]
  },
  {
   "cell_type": "code",
   "execution_count": 108,
   "id": "65b23cda-ae77-4a75-b665-6c7d8d329063",
   "metadata": {},
   "outputs": [
    {
     "data": {
      "text/plain": [
       "2.0"
      ]
     },
     "execution_count": 108,
     "metadata": {},
     "output_type": "execute_result"
    }
   ],
   "source": [
    "# 创建函数，求平均值\n",
    "nums = []\n",
    "def average(n):\n",
    "    nums.append(n)\n",
    "    return sum(nums)/len(nums)\n",
    "average(2)"
   ]
  },
  {
   "cell_type": "code",
   "execution_count": 109,
   "id": "2f94abd0-13a3-4353-a4cf-a006531c932a",
   "metadata": {},
   "outputs": [
    {
     "data": {
      "text/plain": [
       "(10.0, 15.0)"
      ]
     },
     "execution_count": 109,
     "metadata": {},
     "output_type": "execute_result"
    }
   ],
   "source": [
    "def make_average():\n",
    "    nums = []\n",
    "    def average(n):\n",
    "        nums.append(n)\n",
    "        return sum(nums)/len(nums)\n",
    "    return average\n",
    "average = make_average()\n",
    "average(10),average(20)"
   ]
  },
  {
   "cell_type": "code",
   "execution_count": 110,
   "id": "e1be1c4b-97c3-40b2-b4b1-d442deeea8ca",
   "metadata": {},
   "outputs": [
    {
     "data": {
      "text/plain": [
       "121"
      ]
     },
     "execution_count": 110,
     "metadata": {},
     "output_type": "execute_result"
    }
   ],
   "source": [
    "# 装饰器\n",
    "# 希望计算前打印开始计算，计算结束后打印计算完毕\n",
    "def add(a,b):\n",
    "    r = a+b\n",
    "    return r\n",
    "\n",
    "def mul(a,b):\n",
    "    r = a*b\n",
    "    return r\n",
    "\n",
    "r = mul(11,11)\n",
    "r"
   ]
  },
  {
   "cell_type": "code",
   "execution_count": 111,
   "id": "90fcfac3-8df4-49d0-8b11-3ef5e0a51081",
   "metadata": {},
   "outputs": [
    {
     "name": "stdout",
     "output_type": "stream",
     "text": [
      "函数开始执行\n",
      "I am fn\n",
      "函数执行结束\n"
     ]
    }
   ],
   "source": [
    "def fn():\n",
    "    print('I am fn')\n",
    "def fn2():\n",
    "    print('函数开始执行')\n",
    "    fn()\n",
    "    print('函数执行结束')\n",
    "fn2()"
   ]
  },
  {
   "cell_type": "code",
   "execution_count": 112,
   "id": "2fd5f388-b055-4de1-81dd-690ffd6af5e9",
   "metadata": {},
   "outputs": [
    {
     "name": "stdout",
     "output_type": "stream",
     "text": [
      "函数开始执行\n",
      "函数执行结束\n"
     ]
    },
    {
     "data": {
      "text/plain": [
       "3"
      ]
     },
     "execution_count": 112,
     "metadata": {},
     "output_type": "execute_result"
    }
   ],
   "source": [
    "def new_add(a,b):\n",
    "    print('函数开始执行')\n",
    "    r = add(a,b)\n",
    "    print('函数执行结束')\n",
    "    return r\n",
    "new_add(1,2)"
   ]
  },
  {
   "cell_type": "code",
   "execution_count": 113,
   "id": "dc35bb80-bfb3-4cbf-99ea-15dcd870282b",
   "metadata": {},
   "outputs": [
    {
     "name": "stdout",
     "output_type": "stream",
     "text": [
      "函数开始执行\n",
      "函数执行结束\n"
     ]
    },
    {
     "data": {
      "text/plain": [
       "3"
      ]
     },
     "execution_count": 113,
     "metadata": {},
     "output_type": "execute_result"
    }
   ],
   "source": [
    "def begin_end(old):\n",
    "    def new_function(a,b):\n",
    "        print('函数开始执行')\n",
    "        result = old(a,b)\n",
    "        print('函数执行结束')\n",
    "        return result\n",
    "    return new_function\n",
    "f = begin_end(add)\n",
    "f(1,2)"
   ]
  },
  {
   "cell_type": "code",
   "execution_count": 114,
   "id": "ada1b262-466a-4c44-ba8f-13e413a60bdb",
   "metadata": {},
   "outputs": [
    {
     "name": "stdout",
     "output_type": "stream",
     "text": [
      "函数开始执行\n",
      "函数执行结束\n"
     ]
    },
    {
     "data": {
      "text/plain": [
       "3"
      ]
     },
     "execution_count": 114,
     "metadata": {},
     "output_type": "execute_result"
    }
   ],
   "source": [
    "# 装饰器\n",
    "def begin_end(old):\n",
    "    def new_function(*args, **kwarg):\n",
    "        print('函数开始执行')\n",
    "        result = old(*args, **kwarg)\n",
    "        print('函数执行结束')\n",
    "        return result\n",
    "    return new_function\n",
    "f = begin_end(add)\n",
    "f(1,2)"
   ]
  },
  {
   "cell_type": "code",
   "execution_count": 115,
   "id": "02e8ddc7-7698-4130-98be-973266c2eebf",
   "metadata": {},
   "outputs": [
    {
     "name": "stdout",
     "output_type": "stream",
     "text": [
      "函数开始执行\n",
      "I am fn\n",
      "函数执行结束\n"
     ]
    }
   ],
   "source": [
    "f = begin_end(fn)\n",
    "f()"
   ]
  },
  {
   "cell_type": "code",
   "execution_count": 116,
   "id": "274e43bc-1b2f-4c0f-88cf-5c92c600d7bb",
   "metadata": {},
   "outputs": [
    {
     "name": "stdout",
     "output_type": "stream",
     "text": [
      "函数开始执行\n",
      "hello!\n",
      "函数执行结束\n"
     ]
    }
   ],
   "source": [
    "@begin_end\n",
    "def say_hello():\n",
    "    print('hello!')\n",
    "say_hello()"
   ]
  },
  {
   "cell_type": "code",
   "execution_count": 117,
   "id": "8e8f6e13-e4f8-4401-aec4-d121bc75782a",
   "metadata": {},
   "outputs": [
    {
     "name": "stdout",
     "output_type": "stream",
     "text": [
      "fn3函数开始执行\n",
      "函数开始执行\n",
      "hello!\n",
      "函数执行结束\n",
      "fn3函数执行结束\n"
     ]
    }
   ],
   "source": [
    "def fn3(old):\n",
    "    def new_function(*args, **kwarg):\n",
    "        print('fn3函数开始执行')\n",
    "        result = old(*args, **kwarg)\n",
    "        print('fn3函数执行结束')\n",
    "        return result\n",
    "    return new_function\n",
    "\n",
    "@fn3\n",
    "@begin_end\n",
    "def say_hello():\n",
    "    print('hello!')\n",
    "say_hello()"
   ]
  },
  {
   "cell_type": "markdown",
   "id": "9536bf52-48d0-43c6-b2f1-e8cff90884af",
   "metadata": {},
   "source": [
    "# 7.对象（Object）\n",
    "    对象由三部分组成\n",
    "        标识（id）\n",
    "        类型（type）\n",
    "        值（value）\n",
    "        \n",
    "## 7.1面向对象 (oop)\n",
    "    python是一门面向对象的语言\n",
    "    面向对象语言：所有操作都是通过对象来进行\n",
    "    面向过程\n",
    "        指将我们的程序的逻辑分解为一个一个的步骤，通过对每个步骤的抽象，来完成程序\n",
    "        例子：孩子上学\n",
    "            1.妈妈起床\n",
    "            2.妈妈上厕所\n",
    "            3.妈妈洗漱\n",
    "            4.妈妈做早饭\n",
    "            5.妈妈叫孩子起床\n",
    "            6.孩子上厕所\n",
    "            7.孩子洗漱\n",
    "            8.孩子吃饭\n",
    "            9.孩子背着书包上学校\n",
    "        优点：\n",
    "            符合人类思维\n",
    "            编写简单\n",
    "        这种方式编写代码往往只适用于一个功能\n",
    "            如果要在事先别的功能，往往要重新写代码，可复用性比较低\n",
    "    面向对象的编程语言\n",
    "        关注的是对象，而不是过程\n",
    "        对于面向对象语言来说，一切都是对象\n",
    "        例子：孩子上学\n",
    "            1.孩子他妈叫孩子上学\n",
    "            对象：妈妈\n",
    "    面向对象思想：\n",
    "        1.找对象\n",
    "        2.搞对象\n",
    "## 7.2类（class）\n",
    "    内置对象\n",
    "    自定义对象\n",
    "    我们也称对象是类的实例（instance）\n",
    "    如果对象是通过一个类创建的，我们称这些对象是一类对象\n",
    "    类：int() float() bool() str() list() dict()\n",
    "    \n",
    "    自定义类使用大写字母开头，使用大驼峰命名法\n",
    "    \n",
    "    类的定义：\n",
    "        类和对象都是对现实生活中或程序中的内容的抽象\n",
    "        1.属性\n",
    "        2.方法\n",
    "\n",
    "## 7.3类的特殊方法init\n",
    "    特殊方法： __开头，__结尾（魔术方法）\n",
    "        不需要自己调用\n",
    "        \n",
    "## 7.4面向对象的三大特性：封装、继承、多态\n",
    "    封装：隐藏对象中一些不希望被外部所访问到的属性或方法\n",
    "        如何获取（修改）对象中的属性？\n",
    "            提供一个getter和setter方法使外部可以访问到属性\n",
    "                getter 获取对象中的指定属性（get_属性名）\n",
    "                setter 用来设置对象的指定属性（set_属性名）\n",
    "        隐藏属性：__属性\n",
    "            隐藏属性是不过是python自动为属性改了一个名字\n",
    "            实际名字改为 _类名__属性名 比如 __name -> _Person__name\n",
    "            其实用了和没用一样，一般不用，一般将一些私有属性以_开头 \n",
    "    装饰器 property\n",
    "        用来将一个get方法，转换为对象的属性\n",
    "        添加property装饰器以后，我们就可以调用属性一样使用get方法\n",
    "        使用property装饰器的方法，必须和属性名是一样的\n",
    "    装饰器 setter\n",
    "        setter方法的装饰器：@属性名.setter\n",
    "        使用sette前必须先使用property\n",
    "    \n",
    "    继承：\n",
    "        基类 超类 父类\n",
    "        子类 衍生类\n",
    "            在创建类时，如果省略了父类（没有括号），则默认父类为object\n",
    "                object是所有类的父类，所有类都继承自object\n",
    "            issubclass()\n",
    "            重写：\n",
    "                如果在子类中有和父类同名的方法，则通过子类实例去调用方法时，\n",
    "                回调用子类的方法而不是父类的方法，称为方法的重写（覆盖，override）\n",
    "        super() 可以直接调用父类的__init__来初始化父类中定义的属性\n",
    "        类名.__bases__ 这个属性可以用来获取当前类的所有父类\n",
    "        多重继承\n",
    "            可以为一个类同时指定多个父类\n",
    "            开发时尽量避免多重继承\n",
    "\n",
    "    多态：一个对象可以以不同的形态去呈现\n",
    "        特殊方法 __len__，可以轻松扩展\n",
    "        \n",
    "    总结：\n",
    "        封装：确保了对象中的数据安全\n",
    "        继承：保证了对象的可扩展性\n",
    "        多态：保证了程序的灵活性"
   ]
  },
  {
   "cell_type": "code",
   "execution_count": 118,
   "id": "20a77e7c-5c83-4343-a042-e793639b76ff",
   "metadata": {},
   "outputs": [
    {
     "data": {
      "text/plain": [
       "(10, 'hello', int, str)"
      ]
     },
     "execution_count": 118,
     "metadata": {},
     "output_type": "execute_result"
    }
   ],
   "source": [
    "a = int(10)\n",
    "b = str('hello')\n",
    "a,b,type(a),type(b)"
   ]
  },
  {
   "cell_type": "code",
   "execution_count": 119,
   "id": "4d3bafd8-0ffc-4eb3-8d6f-d5e59a090a87",
   "metadata": {},
   "outputs": [
    {
     "data": {
      "text/plain": [
       "(True, False)"
      ]
     },
     "execution_count": 119,
     "metadata": {},
     "output_type": "execute_result"
    }
   ],
   "source": [
    "# 检查一个对象是否是一个类的实例\n",
    "class MyClass():\n",
    "    pass\n",
    "mc1 = MyClass()\n",
    "isinstance(mc1,MyClass),isinstance(mc1,str)"
   ]
  },
  {
   "cell_type": "code",
   "execution_count": 120,
   "id": "c8e39adc-c512-444d-a0b7-b03d31f290e2",
   "metadata": {},
   "outputs": [],
   "source": [
    "class MyClass:\n",
    "    pass\n",
    "\n",
    "mc1 = MyClass()"
   ]
  },
  {
   "cell_type": "code",
   "execution_count": 121,
   "id": "13ee3dba-65cf-4a74-8f59-776eb7426619",
   "metadata": {},
   "outputs": [
    {
     "data": {
      "text/plain": [
       "'孙悟空'"
      ]
     },
     "execution_count": 121,
     "metadata": {},
     "output_type": "execute_result"
    }
   ],
   "source": [
    "mc1.name = '孙悟空'\n",
    "mc1.name"
   ]
  },
  {
   "cell_type": "code",
   "execution_count": 122,
   "id": "e569adab-6ffb-45e3-bd8e-d81a258fe9b7",
   "metadata": {},
   "outputs": [
    {
     "name": "stdout",
     "output_type": "stream",
     "text": [
      "init hello\n",
      "hello\n",
      "init hello\n",
      "hello\n"
     ]
    }
   ],
   "source": [
    "class Person:\n",
    "    def __init__(self):\n",
    "        print('init hello')\n",
    "    name = 'swk'\n",
    "    def say_hello(a):\n",
    "        print('hello')\n",
    "        \n",
    "pl = Person()\n",
    "pl.say_hello()\n",
    "p2 = Person()\n",
    "p2.say_hello()"
   ]
  },
  {
   "cell_type": "code",
   "execution_count": 123,
   "id": "1f0c33b8-22f1-4ff9-9d13-b467a5b3a187",
   "metadata": {},
   "outputs": [
    {
     "name": "stdout",
     "output_type": "stream",
     "text": [
      "init hello\n",
      "hello 猪八戒\n",
      "init hello\n",
      "hello 孙悟空\n"
     ]
    }
   ],
   "source": [
    "class Person:\n",
    "    def __init__(self,name):\n",
    "        self.name = name\n",
    "        print('init hello')\n",
    "    name = 'swk'\n",
    "    def say_hello(self):\n",
    "        print('hello',self.name)\n",
    "        \n",
    "pl = Person('猪八戒')\n",
    "pl.say_hello()\n",
    "p2 = Person('孙悟空')\n",
    "p2.say_hello()"
   ]
  },
  {
   "cell_type": "code",
   "execution_count": 124,
   "id": "c70ac237-381f-4113-a957-6443d4030468",
   "metadata": {},
   "outputs": [
    {
     "name": "stdout",
     "output_type": "stream",
     "text": [
      "旺财,快乐的奔跑~~~\n"
     ]
    }
   ],
   "source": [
    "# 自定义类 狗 Dog\n",
    "# 属性：\n",
    "#     name age gender height\n",
    "# 方法：\n",
    "#     jiao() yao() run()\n",
    "class Dog():\n",
    "    def __init__(self,name, age, gender, height):\n",
    "        self.name = name\n",
    "        self.age = age\n",
    "        self.gender = gender\n",
    "        self.height = height\n",
    "    \n",
    "    def jiao(self):\n",
    "        print('汪汪汪~~~')\n",
    "        \n",
    "    def yao(self):\n",
    "        print('我咬你~~~')    \n",
    "        \n",
    "    def run(self):\n",
    "        print('%s,快乐的奔跑~~~'%self.name)\n",
    "        \n",
    "dog = Dog('旺财',18,'male',30)\n",
    "dog.run()"
   ]
  },
  {
   "cell_type": "code",
   "execution_count": 125,
   "id": "c3783c7b-841a-4a8c-bafc-110124a1f7ac",
   "metadata": {},
   "outputs": [
    {
     "name": "stdout",
     "output_type": "stream",
     "text": [
      "旺财,快乐的奔跑~~~\n",
      "大家好，我是旺财\n",
      "大家好，我是小黑\n"
     ]
    }
   ],
   "source": [
    "class Dog():\n",
    "    def __init__(self,name, age, gender, height):\n",
    "        self.hidden_name = name\n",
    "        self.hidden_age = age\n",
    "        self.gender = gender\n",
    "        self.height = height\n",
    "    \n",
    "    def jiao(self):\n",
    "        print('汪汪汪~~~')\n",
    "        \n",
    "    def yao(self):\n",
    "        print('我咬你~~~')    \n",
    "        \n",
    "    def run(self):\n",
    "        print('%s,快乐的奔跑~~~'%self.hidden_name)\n",
    "     \n",
    "    def say_hello(self):\n",
    "        print('大家好，我是%s'% self.hidden_name)\n",
    "        \n",
    "    def get_name(self):\n",
    "        return self.hidden_name\n",
    "    def set_name(self, name):\n",
    "        self.hidden_name = name\n",
    "    def set_age(self, age):\n",
    "        if age >0:\n",
    "            self.hidden_age = age\n",
    "        \n",
    "dog = Dog('旺财',18,'male',30)\n",
    "dog.run()\n",
    "dog.say_hello()\n",
    "dog.set_name('小黑')\n",
    "dog.say_hello()"
   ]
  },
  {
   "cell_type": "code",
   "execution_count": 126,
   "id": "b4709076-18f3-451d-83fe-82c3006d033f",
   "metadata": {},
   "outputs": [
    {
     "data": {
      "text/plain": [
       "30"
      ]
     },
     "execution_count": 126,
     "metadata": {},
     "output_type": "execute_result"
    }
   ],
   "source": [
    "class Rectangle:\n",
    "    '''\n",
    "        表示矩形的类\n",
    "    '''\n",
    "    def __init__(self, width, height):\n",
    "        self.width = width\n",
    "        self.height = height\n",
    "        \n",
    "    def get_width(self):\n",
    "        return self.width\n",
    "    \n",
    "    def set_width(self, width):\n",
    "        self.width = width\n",
    "        \n",
    "    def get_height(self):\n",
    "        return self.height\n",
    "    \n",
    "    def set_height(self, height):\n",
    "        self.height = height\n",
    "    \n",
    "    def get_area(self):\n",
    "        return self.width*self.height\n",
    "    \n",
    "r = Rectangle(5,6)\n",
    "r.get_area()"
   ]
  },
  {
   "cell_type": "code",
   "execution_count": 127,
   "id": "53c34448-83c2-4625-8855-2ef2a146f0a2",
   "metadata": {},
   "outputs": [
    {
     "name": "stdout",
     "output_type": "stream",
     "text": [
      "猪八戒\n",
      "猪八戒\n",
      "孙悟空\n"
     ]
    }
   ],
   "source": [
    "class Person:\n",
    "    def __init__(self, name):\n",
    "        self.__hidden_name = name\n",
    "        \n",
    "    def get_name(self):\n",
    "        return self.__hidden_name\n",
    "    \n",
    "    def set_name(self, name):\n",
    "        self.__hidden_name = name\n",
    "        \n",
    "p = Person('孙悟空')\n",
    "p.set_name('猪八戒')\n",
    "print(p.get_name())\n",
    "p.__hidden_name = '孙悟空'\n",
    "print(p.get_name())\n",
    "p._Person__hidden_name = '孙悟空'\n",
    "print(p.get_name())"
   ]
  },
  {
   "cell_type": "code",
   "execution_count": 128,
   "id": "2b838ab3-1dc4-4285-9de9-c928cf7c4e7d",
   "metadata": {},
   "outputs": [
    {
     "name": "stdout",
     "output_type": "stream",
     "text": [
      "get方法执行了\n",
      "猪八戒\n"
     ]
    }
   ],
   "source": [
    "class Person:\n",
    "    def __init__(self, name):\n",
    "        self._name = name\n",
    "    \n",
    "    @property\n",
    "    def name(self):\n",
    "        print('get方法执行了')\n",
    "        return self._name\n",
    "        \n",
    "    @property\n",
    "    def age(self):\n",
    "        print('get方法执行了')\n",
    "        return self._age\n",
    "    \n",
    "    @name.setter\n",
    "    def name(self, name):\n",
    "        self._name = name\n",
    "    \n",
    "    @name.setter\n",
    "    def age(self, age):\n",
    "        self._age = age\n",
    "        \n",
    "p = Person('猪八戒')\n",
    "print(p.name)"
   ]
  },
  {
   "cell_type": "code",
   "execution_count": 129,
   "id": "356189a9-cd05-4d29-b1da-69b514525c62",
   "metadata": {},
   "outputs": [
    {
     "name": "stdout",
     "output_type": "stream",
     "text": [
      "get方法执行了\n",
      "get方法执行了\n",
      "孙悟空 孙悟空\n"
     ]
    }
   ],
   "source": [
    "p.name = '孙悟空'\n",
    "p.age = 18\n",
    "print(p.name,p.age)"
   ]
  },
  {
   "cell_type": "code",
   "execution_count": 130,
   "id": "e2266dc3-c7ab-4926-aa27-87c90d62afda",
   "metadata": {},
   "outputs": [
    {
     "name": "stdout",
     "output_type": "stream",
     "text": [
      "动物会跑\n",
      "动物嚎叫\n",
      "傻傻的\n"
     ]
    }
   ],
   "source": [
    "# 继承\n",
    "class Animal:\n",
    "    def run(self):\n",
    "        print('动物会跑')\n",
    "        \n",
    "    def sleep(self):\n",
    "        print('动物睡觉')\n",
    "\n",
    "class Dog(Animal):\n",
    "    def bark(self):\n",
    "        print('动物嚎叫')\n",
    "\n",
    "class Hashiqi(Dog):\n",
    "    def fangsha(self):\n",
    "        print('傻傻的')\n",
    "dog = Dog()\n",
    "dog.run()\n",
    "dog.bark()\n",
    "\n",
    "h = Hashiqi()\n",
    "h.fangsha()"
   ]
  },
  {
   "cell_type": "code",
   "execution_count": 131,
   "id": "aaa2e9a5-a299-46c3-b185-614b111fbfb3",
   "metadata": {},
   "outputs": [
    {
     "data": {
      "text/plain": [
       "(True, True)"
      ]
     },
     "execution_count": 131,
     "metadata": {},
     "output_type": "execute_result"
    }
   ],
   "source": [
    "isinstance(dog,Dog),isinstance(dog,Animal)"
   ]
  },
  {
   "cell_type": "code",
   "execution_count": 132,
   "id": "fe86ef08-7a94-41f8-894f-76bdd12c2176",
   "metadata": {},
   "outputs": [
    {
     "data": {
      "text/plain": [
       "(True, True, False)"
      ]
     },
     "execution_count": 132,
     "metadata": {},
     "output_type": "execute_result"
    }
   ],
   "source": [
    "issubclass(Dog,object),issubclass(Dog,Animal),issubclass(Animal,Dog),"
   ]
  },
  {
   "cell_type": "code",
   "execution_count": 133,
   "id": "3c4368d4-1c0f-4b6d-aff0-329e098ea44d",
   "metadata": {},
   "outputs": [
    {
     "name": "stdout",
     "output_type": "stream",
     "text": [
      "CCC\n"
     ]
    }
   ],
   "source": [
    "class A(object):\n",
    "    def test(self):\n",
    "        print('AAA')\n",
    "class B(A):\n",
    "    def test(self):\n",
    "        print('BBB')\n",
    "class C(B):\n",
    "    def test(self):\n",
    "        print('CCC')\n",
    "c = C()\n",
    "c.test()"
   ]
  },
  {
   "cell_type": "code",
   "execution_count": 134,
   "id": "839edd30-d314-4e29-bc6c-d59c4d020f4b",
   "metadata": {},
   "outputs": [
    {
     "name": "stdout",
     "output_type": "stream",
     "text": [
      "动物嚎叫\n",
      "旺财 17\n",
      "小黑 18\n"
     ]
    }
   ],
   "source": [
    "# 继承\n",
    "class Animal:\n",
    "    def __init__(self, name):\n",
    "        self._name = name\n",
    "        \n",
    "    def run(self):\n",
    "        print('动物会跑')\n",
    "        \n",
    "    def sleep(self):\n",
    "        print('动物睡觉')\n",
    "    \n",
    "    @property\n",
    "    def name(self):\n",
    "        return self._name\n",
    "    \n",
    "    @name.setter\n",
    "    def name(self, name):\n",
    "        self._name = name\n",
    "        \n",
    "class Dog(Animal):\n",
    "    def __init__(self, name, age):\n",
    "        self._name = name\n",
    "        self._age = age\n",
    "    \n",
    "    @property\n",
    "    def age(self):\n",
    "        return self._age\n",
    "    \n",
    "    @age.setter\n",
    "    def age(self, age):\n",
    "        self._age = age   \n",
    "        \n",
    "    def bark(self):\n",
    "        print('动物嚎叫')\n",
    "\n",
    "dog = Dog('旺财',17)\n",
    "dog.bark()\n",
    "print(dog.name, dog.age)\n",
    "dog.name = '小黑'\n",
    "dog.age = 18\n",
    "print(dog.name, dog.age)"
   ]
  },
  {
   "cell_type": "code",
   "execution_count": 135,
   "id": "b034cd14-60e3-4dc8-a334-bf65677db52c",
   "metadata": {},
   "outputs": [
    {
     "name": "stdout",
     "output_type": "stream",
     "text": [
      "动物嚎叫\n",
      "旺财 17\n"
     ]
    }
   ],
   "source": [
    "# 继承\n",
    "class Animal:\n",
    "    def __init__(self, name):\n",
    "        self._name = name\n",
    "        \n",
    "    def run(self):\n",
    "        print('动物会跑')\n",
    "        \n",
    "    def sleep(self):\n",
    "        print('动物睡觉')\n",
    "    \n",
    "    @property\n",
    "    def name(self):\n",
    "        return self._name\n",
    "    \n",
    "    @name.setter\n",
    "    def name(self, name):\n",
    "        self._name = name\n",
    "        \n",
    "class Dog(Animal):\n",
    "    def __init__(self, age):\n",
    "        self._age = age\n",
    "    \n",
    "    @property\n",
    "    def age(self):\n",
    "        return self._age\n",
    "    \n",
    "    @age.setter\n",
    "    def age(self, age):\n",
    "        self._age = age   \n",
    "        \n",
    "    def bark(self):\n",
    "        print('动物嚎叫')\n",
    "        \n",
    "dog = Dog(17)\n",
    "dog.bark()\n",
    "dog.name = '旺财'\n",
    "print(dog.name, dog.age)"
   ]
  },
  {
   "cell_type": "code",
   "execution_count": 136,
   "id": "88a5fec6-012f-490e-8baf-58ff6921d7c7",
   "metadata": {},
   "outputs": [
    {
     "name": "stdout",
     "output_type": "stream",
     "text": [
      "动物嚎叫\n",
      "旺财 17\n"
     ]
    }
   ],
   "source": [
    "# 继承\n",
    "class Animal:\n",
    "    def __init__(self, name):\n",
    "        self._name = name\n",
    "        \n",
    "    def run(self):\n",
    "        print('动物会跑')\n",
    "        \n",
    "    def sleep(self):\n",
    "        print('动物睡觉')\n",
    "    \n",
    "    @property\n",
    "    def name(self):\n",
    "        return self._name\n",
    "    \n",
    "    @name.setter\n",
    "    def name(self, name):\n",
    "        self._name = name\n",
    "        \n",
    "class Dog(Animal):\n",
    "    def __init__(self, name, age):\n",
    "        super().__init__(name)\n",
    "        self._age = age\n",
    "    \n",
    "    @property\n",
    "    def age(self):\n",
    "        return self._age\n",
    "    \n",
    "    @age.setter\n",
    "    def age(self, age):\n",
    "        self._age = age   \n",
    "        \n",
    "    def bark(self):\n",
    "        print('动物嚎叫')\n",
    "        \n",
    "dog = Dog('旺财',17)\n",
    "dog.bark()\n",
    "dog.name = '旺财'\n",
    "print(dog.name, dog.age)"
   ]
  },
  {
   "cell_type": "code",
   "execution_count": 137,
   "id": "140244dc-dcea-495e-be0e-ce194175ac03",
