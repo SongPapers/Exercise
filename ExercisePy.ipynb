{
 "cells": [
  {
   "cell_type": "markdown",
   "id": "6ac3d9e1-62ec-40a2-87f9-56da803d6308",
   "metadata": {
    "tags": []
   },
   "source": [
    "# 0 计算机上基础\n",
    "\n",
    "## 0.1 计算机定义\n",
    "\n",
    "## 0.2 计算机组成\n",
    "    计算机由两个部分组成：硬件、软件\n",
    "\n",
    "## 0.3 计算机的使用方式\n",
    "    通过软件对计算机进行操作\n",
    "\n",
    "## 0.4 windows的命令行\n",
    "    命令行就是文本交互界面\n",
    "\n",
    "    命令行有多个不同的名字：命令行窗口、DOS窗口、命令提示符、CMD窗口、终端、Terminal\n",
    "\n",
    "    常用的DOS命令：\n",
    "\n",
    "    dir  \n",
    "    cd  \n",
    "        cd.  当前目录  \n",
    "        cd.. 上一级目录   \n",
    "    md 创建一个目录  \n",
    "    rd 删除一个目录  \n",
    "    del 删除一个文件  \n",
    "    cls 清除屏幕  \n",
    "## 0.5 环境变量\n",
    "    环境变量指的就是操作系统当中的一些变量\n",
    "## 0.6 path环境变量\n",
    "    path环境变量中保存的是一个一个路径  \n",
    "    当我们在命令中输入一个命令或访问一个文件时， \n",
    "        系统会首先在当前目录寻找  \n",
    "        如果没有找到，则会依次去path  \n",
    "## 0.7进制\n",
    "    十进制\n",
    "    二进制 0 1 \n",
    "        bit 计算机最小单位\n",
    "        byte 最小的可操作 单位\n",
    "        \n",
    "        8bit = 1byte（字节）\n",
    "        1024byte = 1kb（千字节）\n",
    "        1024kb = 1mb（兆字节）\n",
    "        1024mb = 1gb\n",
    "        1014gb = 1tb\n",
    "        \n",
    "    八进制 0 - 8\n",
    "    十六进制 0 - 9 a b c d e f\n",
    "        查看二进制数据时，一般会以十六进制的形式显示\n",
    "## 0.8文本文件和字符集\n",
    "    文本：纯文本，富文本\n",
    "    编码：字符转二进制码\n",
    "    解码：二进制码转字符\n",
    "    字符集：编码和解码时所采用的规则\n",
    "        ACSII  美国 7位 128个\n",
    "        ISO-8859-1 欧洲 8位 256个\n",
    "        GB2312 国标码，中国\n",
    "        GBK 国标码，中国\n",
    "        Unicode 万国码，包括世界所有的语言和符号\n",
    "            UTF-8 最常用\n",
    "            UTF-16\n",
    "            UTF-32\n",
    "     乱码：检查字符集是否正确\n",
    "     \n",
    "## 0.9计算机语言简介\n",
    "    机器语言\n",
    "    汇编语言（符号语言 符号转机器码 ）\n",
    "        汇编语言一般只适用于某些硬件，兼容性比较差，硬件驱动会用\n",
    "    高级语言\n",
    "## 0.10编译型语言和解释性语言\n",
    "    计算机只能识别二进制编码（机器码），语言要交给计算机执行时必须转换为机器码\n",
    "    根据转换时机的不同，语言分为两大类：\n",
    "        编译型语言\n",
    "            C语言\n",
    "            a(源码) --编译--> b(编译后的机器码)\n",
    "            执行速度快，跨平台性差\n",
    "            \n",
    "        解释性语言：一边执行一遍编译\n",
    "            python Js Java\n",
    "            a(源码) --解释器--> 解释执行\n",
    "            执行速度慢，跨平台性好"
   ]
  },
  {
   "cell_type": "markdown",
   "id": "b30aec69-a993-4710-b6f9-786ce7cfe459",
   "metadata": {},
   "source": [
    "# 1 python基本数据类型\n",
    "\n",
    "## 1.1换行\\"
   ]
  },
  {
   "cell_type": "code",
   "execution_count": 1,
   "id": "b7ff9178-de82-4d91-b328-c0cca92986d6",
   "metadata": {},
   "outputs": [
    {
     "name": "stdout",
     "output_type": "stream",
     "text": [
      "1+5 +5\n"
     ]
    },
    {
     "data": {
      "text/plain": [
       "7"
      ]
     },
     "execution_count": 1,
     "metadata": {},
     "output_type": "execute_result"
    }
   ],
   "source": [
    "print(\"1+5 \\\n",
    "+5\")\n",
    "s = 1+5\\\n",
    "+1\n",
    "s"
   ]
  },
  {
   "cell_type": "markdown",
   "id": "2f1dee9d-49c1-4cc3-947b-a3d681864f4c",
   "metadata": {},
   "source": [
    "## 1.2字面量和变量\n",
    "## 1.3变量和标识符\n",
    "    标识符：变量函数名、类名，不能数字开头\n",
    "        标识符不能是关键字和保留字"
   ]
  },
  {
   "cell_type": "code",
   "execution_count": 2,
   "id": "1f523f67-3e2f-44ec-a00f-46fadb266efc",
   "metadata": {},
   "outputs": [],
   "source": [
    "# print = 1\n",
    "# print(print)\n",
    "# 运行错误，会被覆盖"
   ]
  },
  {
   "cell_type": "markdown",
   "id": "a1d2b6b3-1a1d-413c-8089-02d1476840ac",
   "metadata": {},
   "source": [
    "## 1.4数值\n",
    "## 1.5字符串\n",
    "    长字符串\n",
    "        三重引号可以换行\n",
    "    转义字符"
   ]
  },
  {
   "cell_type": "code",
   "execution_count": 3,
   "id": "b0a05680-ff46-4d42-b7c7-a339bbc79cfb",
   "metadata": {},
   "outputs": [
    {
     "name": "stdout",
     "output_type": "stream",
     "text": [
      "锄禾日当午，\n",
      "哈尼和夏天\n"
     ]
    }
   ],
   "source": [
    "s = '''锄禾日当午，\n",
    "哈尼和夏天'''\n",
    "print(s)"
   ]
  },
  {
   "cell_type": "code",
   "execution_count": 4,
   "id": "cb4123eb-ad4e-42f9-9e70-eca1d59a5fa3",
   "metadata": {},
   "outputs": [
    {
     "name": "stdout",
     "output_type": "stream",
     "text": [
      "\u000ea1\n",
      "≐\n"
     ]
    }
   ],
   "source": [
    "s = '\\16a1'\n",
    "print(s)\n",
    "print('\\u2250')"
   ]
  },
  {
   "cell_type": "markdown",
   "id": "1d6623c6-e807-43b5-9864-744084922173",
   "metadata": {},
   "source": [
    "## 1.6格式化字符串"
   ]
  },
  {
   "cell_type": "code",
   "execution_count": 5,
   "id": "edddecc2-712a-44c3-8ca7-0cfe25959d9d",
   "metadata": {},
   "outputs": [
    {
     "name": "stdout",
     "output_type": "stream",
     "text": [
      "hello 孙悟空\n",
      "hello 1 和 女巫\n",
      "hello 12341\n",
      "hello          12.s\n",
      "hello 132hh\n"
     ]
    }
   ],
   "source": [
    "b = 'hello %s' % '孙悟空'\n",
    "print(b)\n",
    "tone = 1\n",
    "b = \"hello %s 和 %s\" %(tone,\"女巫\")\n",
    "print(b)\n",
    "b = 'hello %3.5s'% '12341234567'\n",
    "print(b)\n",
    "b = 'hello %13.5s'% '12.s'\n",
    "print(b)\n",
    "\n",
    "# 格式化字符串\n",
    "a = 132\n",
    "b = 'hh'\n",
    "c = f'hello {a}{b}'\n",
    "print(c)"
   ]
  },
  {
   "cell_type": "markdown",
   "id": "1ec1cfac-e0fd-460a-8333-075d933a4802",
   "metadata": {},
   "source": [
    "## 1.7字符串复制"
   ]
  },
  {
   "cell_type": "code",
   "execution_count": 6,
   "id": "bd0b933f-51d6-4000-aa79-1c14337b3444",
   "metadata": {},
   "outputs": [
    {
     "data": {
      "text/plain": [
       "'abcabc'"
      ]
     },
     "execution_count": 6,
     "metadata": {},
     "output_type": "execute_result"
    }
   ],
   "source": [
    "a = 'abc'\n",
    "a = a*2\n",
    "a"
   ]
  },
  {
   "cell_type": "markdown",
   "id": "b2503229-5ac3-4798-9c6f-ac722c6e5455",
   "metadata": {},
   "source": [
    "## 1.8布尔值和空值\n",
    "    True False None"
   ]
  },
  {
   "cell_type": "code",
   "execution_count": 7,
   "id": "ff860109-199d-42a7-a017-1a564608d90d",
   "metadata": {},
   "outputs": [
    {
     "name": "stdout",
     "output_type": "stream",
     "text": [
      "True False None\n"
     ]
    }
   ],
   "source": [
    "print(True,False,None)"
   ]
  },
  {
   "cell_type": "markdown",
   "id": "e438cde1-563a-4975-ba23-0fb24c98cef1",
   "metadata": {},
   "source": [
    "## 1.9类型检查\n",
    "    数据类型：整型 浮点 复数 字符型 Bool 空值\n",
    "    类型检查（值的检查）type "
   ]
  },
  {
   "cell_type": "code",
   "execution_count": 8,
   "id": "381f7691-92ac-4d4c-a382-d6daa5ce2175",
   "metadata": {},
   "outputs": [
    {
     "name": "stdout",
     "output_type": "stream",
     "text": [
      "132\n",
      "132\n"
     ]
    },
    {
     "data": {
      "text/plain": [
       "(int, str, float, bool, NoneType)"
      ]
     },
     "execution_count": 8,
     "metadata": {},
     "output_type": "execute_result"
    }
   ],
   "source": [
    "print(132)\n",
    "print('132')\n",
    "type(132),type('132'),type(13.2),type(True),type(None)"
   ]
  },
  {
   "cell_type": "markdown",
   "id": "53f4016f-6f88-4463-ab19-9aaa9dad15ff",
   "metadata": {
    "tags": []
   },
   "source": [
    "# 2 对象(object)\n",
    "Python是一门面向对象的语言\n",
    "\n",
    "一切皆对象\n",
    "\n",
    "对象就是内存中专门用来存储指定数据的一块区域\n",
    "\n",
    "对象实际上就是一个容器，专门用来存储数据\n",
    "\n",
    "数值、字符串、布尔值、None都是对象\n",
    "\n",
    "## 2.1对象的结构\n",
    "    id（标识），对象的内存地址\n",
    "        对象创建以后id不再改变\n",
    "    type（类型），类型决定了对象的哪些功能\n",
    "        Python是一门强类型语言，对象一旦创建不能再更改\n",
    "    value（值）\n",
    "    \n",
    "    对象分两类：\n",
    "        可变对象\n",
    "        不可变对象\n",
    "        \n",
    "## 2.2变量和对象\n",
    "    对象并没有直接存储到变量中，在python中变量更像是存储了一个别名\n",
    "    变量中存储的不是对象的值，而是对象的id\n",
    "    \n",
    "## 2.3类型转换\n",
    "    类型转换不是改变对象本身的类型，而是根据当前对象的值创建一个新对象\n",
    "    类型转换的四个函数\n",
    "        int() float() str() bool()\n",
    "\n"
   ]
  },
  {
   "cell_type": "code",
   "execution_count": 9,
   "id": "ed4bec7e-c69f-4653-a1d4-b203b155f479",
   "metadata": {},
   "outputs": [
    {
     "data": {
      "text/plain": [
       "(140712121210352, 140712121210352, 140712121208496)"
      ]
     },
     "execution_count": 9,
     "metadata": {},
     "output_type": "execute_result"
    }
   ],
   "source": [
    "# id由解析器生成的\n",
    "id(123),id(123),id(65)"
   ]
  },
  {
   "cell_type": "code",
   "execution_count": 10,
   "id": "69acfe77-1e9c-4de8-a1e7-37b5c1ad7906",
   "metadata": {},
   "outputs": [
    {
     "data": {
      "text/plain": [
       "(1, 0, 'True', 1, '1.0', False, True, False, False)"
      ]
     },
     "execution_count": 10,
     "metadata": {},
     "output_type": "execute_result"
    }
   ],
   "source": [
    "# int('None') int('1.1')不可以\n",
    "int(True),int(False),str(True),int('1'),str(1.0),bool(0),bool(5),bool(None),bool('')"
   ]
  },
  {
   "cell_type": "markdown",
   "id": "125faec9-d419-4e83-b965-a44fc472a31e",
   "metadata": {},
   "source": [
    "# 3 运算符（操作符）\n",
    "    运算符可以对一个值和多个值进行运算或各种操作\n",
    "    运算符分类：\n",
    "        算数运算符\n",
    "        赋值运算符\n",
    "        逻辑运算符\n",
    "        比较运算符\n",
    "        条件运算符\n",
    "        \n",
    "## 3.1算数运算符\n",
    "    + - * / ** // %\n",
    "    \n",
    "## 3.2赋值运算符\n",
    "    = += -= *= **= /= //= %=\n",
    "    \n",
    "## 3.3关系运算符\n",
    "    > < >= <= == !=\n",
    "    is    is not\n",
    "    python可以对两个字符串进行大于（等于、小于）比较的运算，实际上比较的是Unicode编码\n",
    "    \n",
    "    相等和不等比较的是对象的值，而不是id\n",
    "    is和is not 比较的是对象的id\n",
    "    \n",
    "## 3.4逻辑运算符\n",
    "    not and or\n",
    "\n",
    "## 3.5非布尔值的与或非运算\n",
    "    对非布尔值进行或与非运算时，python会将其当作布尔值运算，最终返回原值\n",
    "    \n",
    "## 3.6条件运算符（三元运算符）\n",
    "    if  else\n",
    "\n",
    "## 3.7运算符优先级\n",
    "    / * + -\n",
    "    and or "
   ]
  },
  {
   "cell_type": "code",
   "execution_count": 11,
   "id": "ed805302-3fd7-4d95-afe3-0f8a11d593f3",
   "metadata": {},
   "outputs": [
    {
     "data": {
      "text/plain": [
       "(1, 0)"
      ]
     },
     "execution_count": 11,
     "metadata": {},
     "output_type": "execute_result"
    }
   ],
   "source": [
    "5 % 2,6%3"
   ]
  },
  {
   "cell_type": "code",
   "execution_count": 12,
   "id": "78084a58-111d-49b0-a1b6-b303d3dad683",
   "metadata": {},
   "outputs": [
    {
     "name": "stdout",
     "output_type": "stream",
     "text": [
      "4\n",
      "4\n"
     ]
    },
    {
     "data": {
      "text/plain": [
       "2.0"
      ]
     },
     "execution_count": 12,
     "metadata": {},
     "output_type": "execute_result"
    }
   ],
   "source": [
    "a = 10\n",
    "a %= 6\n",
    "print(a)\n",
    "a %= 6\n",
    "print(a)\n",
    "a //= 1.5\n",
    "a"
   ]
  },
  {
   "cell_type": "code",
   "execution_count": 13,
   "id": "c89ff964-c53c-47f7-9b4c-6fc7bbf58ada",
   "metadata": {},
   "outputs": [
    {
     "data": {
      "text/plain": [
       "(True, False, False, True)"
      ]
     },
     "execution_count": 13,
     "metadata": {},
     "output_type": "execute_result"
    }
   ],
   "source": [
    "30>20,30<20,30<=20,30>=20"
   ]
  },
  {
   "cell_type": "code",
   "execution_count": 14,
   "id": "4bc9986e-26c7-4c27-9c8e-c871f0b10a36",
   "metadata": {},
   "outputs": [
    {
     "data": {
      "text/plain": [
       "(True, False, False, True)"
      ]
     },
     "execution_count": 14,
     "metadata": {},
     "output_type": "execute_result"
    }
   ],
   "source": [
    "# python 可以对两个字符串进行大于（等于、小于）比较的运算，实际上比较的是Unicode编码\n",
    "# 字符串编码逐位比较,比较出结果后就不再往后比较\n",
    "'2'>'11','a'>'b','ab'>'b','abc'>'aac'"
   ]
  },
  {
   "cell_type": "code",
   "execution_count": 15,
   "id": "f3fddd90-de37-46ed-89be-8aa612af0845",
   "metadata": {},
   "outputs": [
    {
     "data": {
      "text/plain": [
       "False"
      ]
     },
     "execution_count": 15,
     "metadata": {},
     "output_type": "execute_result"
    }
   ],
   "source": [
    "a = True\n",
    "not a"
   ]
  },
  {
   "cell_type": "code",
   "execution_count": 16,
   "id": "a15388bb-cd63-4603-8e0c-826ea6211c2a",
   "metadata": {},
   "outputs": [
    {
     "name": "stdout",
     "output_type": "stream",
     "text": [
      "1\n"
     ]
    },
    {
     "data": {
      "text/plain": [
       "False"
      ]
     },
     "execution_count": 16,
     "metadata": {},
     "output_type": "execute_result"
    }
   ],
   "source": [
    "True and print('1')\n",
    "False and print('0')"
   ]
  },
  {
   "cell_type": "code",
   "execution_count": 17,
   "id": "731ae5d8-8762-4d14-acd1-2a204c4c551b",
   "metadata": {},
   "outputs": [
    {
     "name": "stdout",
     "output_type": "stream",
     "text": [
      "0\n"
     ]
    },
    {
     "data": {
      "text/plain": [
       "True"
      ]
     },
     "execution_count": 17,
     "metadata": {},
     "output_type": "execute_result"
    }
   ],
   "source": [
    "False or print('0')\n",
    "True or print('1')"
   ]
  },
  {
   "cell_type": "code",
   "execution_count": 18,
   "id": "a70861a7-e4c3-453f-aebc-65ff2c871ed0",
   "metadata": {},
   "outputs": [
    {
     "data": {
      "text/plain": [
       "(2, 0, 0, 0, None, None, 2)"
      ]
     },
     "execution_count": 18,
     "metadata": {},
     "output_type": "execute_result"
    }
   ],
   "source": [
    "1 and 2, 1 and 0, 0 and 1, 0 and None, None and None, None and 2, 1 and 2"
   ]
  },
  {
   "cell_type": "code",
   "execution_count": 19,
   "id": "944ae6e7-3422-4ca2-8f25-f499adcbc32b",
   "metadata": {},
   "outputs": [
    {
     "data": {
      "text/plain": [
       "(1, 1, 1, 0, None, None, 1, 0, 1, 2)"
      ]
     },
     "execution_count": 19,
     "metadata": {},
     "output_type": "execute_result"
    }
   ],
   "source": [
    "1 or 1, 1 or 0, 0 or 1, 0 or 0, 0 or None, None or None, None or 1, None or 0, 1 or None, 2 or 0"
   ]
  },
  {
   "cell_type": "code",
   "execution_count": 20,
   "id": "3e9c537f-ec2e-4d21-a513-db99071181bd",
   "metadata": {},
   "outputs": [
    {
     "name": "stdout",
     "output_type": "stream",
     "text": [
      "1\n",
      "0\n"
     ]
    }
   ],
   "source": [
    "print('1') if True else print('0')\n",
    "print('1') if False else print('0')"
   ]
  },
  {
   "cell_type": "code",
   "execution_count": 21,
   "id": "f4c3fec3-2ea2-4468-aff5-52125c30b0e8",
   "metadata": {},
   "outputs": [
    {
     "data": {
      "text/plain": [
       "(True, True, False, True, True, False, False, True)"
      ]
     },
     "execution_count": 21,
     "metadata": {},
     "output_type": "execute_result"
    }
   ],
   "source": [
    "1<2<3, 2>1 and 2<3, 2>3<4, 2<3<4<5, 2<3<4<5<6,2<3<4<1<5,2<4<6<3,2<=2<=3"
   ]
  },
  {
   "cell_type": "markdown",
   "id": "3cc9ba03-908a-45c1-be9a-381e0695811c",
   "metadata": {},
   "source": [
    "# 4 流程控制语句\n",
    "\n",
    "## 4.1条件判断语句（if语句）\n",
    "    代码块：代码块保存一组代码，同一个代码块中的代码，要么都执行要么都不执行\n",
    "    if \n",
    "    if else\n",
    "    if elif else\n",
    "## 4.2循环语句\n",
    "    for\n",
    "    while\n",
    "    循环嵌套\n",
    "## break continue\n",
    "    只对离他最近的循环起作用"
   ]
  },
  {
   "cell_type": "code",
   "execution_count": 22,
   "id": "4a128b9e-a81d-4a3c-a8fc-4fe0a78da6c7",
   "metadata": {},
   "outputs": [
    {
     "name": "stdout",
     "output_type": "stream",
     "text": [
      "1\n",
      "01\n",
      "11\n"
     ]
    }
   ],
   "source": [
    "if False : print('0')\n",
    "if True : print('1')\n",
    "if True:\n",
    "    print('01')\n",
    "    print('11')"
   ]
  },
  {
   "cell_type": "code",
   "execution_count": 23,
   "id": "90b6fc31-9cda-43bd-bedf-4186ca8a8284",
   "metadata": {},
   "outputs": [
    {
     "name": "stdout",
     "output_type": "stream",
     "text": [
      "输入内容 3\n"
     ]
    }
   ],
   "source": [
    "a = input('输入内容')"
   ]
  },
  {
   "cell_type": "code",
   "execution_count": 24,
   "id": "58882282-d00d-4af4-974e-a407f3da76ae",
   "metadata": {},
   "outputs": [],
   "source": [
    "age = 8\n",
    "if age>=18:\n",
    "    print('18')\n",
    "elif age>=20:\n",
    "    print('20')\n",
    "elif age>=40:\n",
    "    print('40')"
   ]
  },
  {
   "cell_type": "code",
   "execution_count": 25,
   "id": "0188b473-283a-4801-a535-db3dfa5c7207",
   "metadata": {},
   "outputs": [
    {
     "name": "stdout",
     "output_type": "stream",
     "text": [
      "0\n",
      "1\n",
      "2\n",
      "3\n",
      "4\n"
     ]
    }
   ],
   "source": [
    "i = 0\n",
    "while i <5:\n",
    "    print(i)\n",
    "    i+=1"
   ]
  },
  {
   "cell_type": "code",
   "execution_count": 26,
   "id": "298c3915-e97d-400c-b7e8-b6b2697d61a6",
   "metadata": {},
   "outputs": [
    {
     "name": "stdout",
     "output_type": "stream",
     "text": [
      "153\n",
      "370\n",
      "371\n",
      "407\n"
     ]
    }
   ],
   "source": [
    "# 水仙花数\n",
    "# 指一个 n 位数（n≥3 ），它的每个位上的数字的 n 次幂之和等于它本身（例如：1^3 + 5^3+ 3^3 = 153）\n",
    "n = 100\n",
    "i = 3\n",
    "while n<999:\n",
    "    n3 = n // 100\n",
    "    n2 = n // 10 % 10\n",
    "    n1 = n % 10\n",
    "    # n1 = n % 10\n",
    "    # n2 = (n % 100 - n1) // 10\n",
    "    # n3 = (n - n2*10 - n1) // 100\n",
    "    if n1**i + n2**i + n3**i == n:\n",
    "        print(n)\n",
    "    n += 1"
   ]
  },
  {
   "cell_type": "code",
   "execution_count": 27,
   "id": "80b30e80-400a-43b6-9d30-02d7c13e7829",
   "metadata": {},
   "outputs": [
    {
     "name": "stdout",
     "output_type": "stream",
     "text": [
      "输入正整数 36\n",
      "不是质数\n"
     ]
    }
   ],
   "source": [
    "# 判断质数\n",
    "# 假如n是合数，必然存在非1的两个约数p1和p2，\n",
    "# 其中p1<=sqrt(n)，p2>=sqrt(n)。\n",
    "# import numpy as np\n",
    "num = int(input(\"输入正整数\"))\n",
    "i = 2\n",
    "flag = True\n",
    "while i<int(pow(num,1/2))+1:\n",
    "    if num % i == 0:\n",
    "        flag = False\n",
    "        break\n",
    "    i += 1\n",
    "print(\"是质数\") if flag else print(\"不是质数\")"
   ]
  },
  {
   "cell_type": "code",
   "execution_count": 28,
   "id": "874f1159-35ca-4c94-839d-b2632f5d5d42",
   "metadata": {},
   "outputs": [],
   "source": [
    "# 质数还有一个特点，就是它总是等于 6x-1 或者 6x+1\n",
    "# num = int(input(\"输入正整数\"))\n",
    "# i = 0\n",
    "# flag = True\n",
    "# if num%6!=1 or num%6!=5:\n",
    "#     flag = False\n",
    "# #     break\n",
    "# # i += 6\n",
    "# print(\"是质数\") if flag else print(\"不是质数\")"
   ]
  },
  {
   "cell_type": "code",
   "execution_count": 29,
   "id": "767f7c69-0a50-471b-bc53-a4942c45e585",
   "metadata": {},
   "outputs": [
    {
     "name": "stdout",
     "output_type": "stream",
     "text": [
      "1*1=1 \n",
      "1*2=2 2*2=4 \n",
      "1*3=3 2*3=6 3*3=9 \n",
      "1*4=4 2*4=8 3*4=12 4*4=16 \n",
      "1*5=5 2*5=10 3*5=15 4*5=20 5*5=25 \n",
      "1*6=6 2*6=12 3*6=18 4*6=24 5*6=30 6*6=36 \n",
      "1*7=7 2*7=14 3*7=21 4*7=28 5*7=35 6*7=42 7*7=49 \n",
      "1*8=8 2*8=16 3*8=24 4*8=32 5*8=40 6*8=48 7*8=56 8*8=64 \n",
      "1*9=9 2*9=18 3*9=27 4*9=36 5*9=45 6*9=54 7*9=63 8*9=72 9*9=81 \n"
     ]
    }
   ],
   "source": [
    "# 99乘法表\n",
    "for i in range(1,10):\n",
    "    for j in range(1,i+1):\n",
    "        print(f\"{j}*{i}={j*i} \",end='')\n",
    "        # print(\"%d*%d=%d \\t\"%(j,i,i*j),end='')\n",
    "    print()"
   ]
  },
  {
   "cell_type": "code",
   "execution_count": 30,
   "id": "b948182c-642a-4477-980e-c6a9f38d9314",
   "metadata": {},
   "outputs": [
    {
     "name": "stdout",
     "output_type": "stream",
     "text": [
      "2\n",
      "3\n",
      "5\n",
      "7\n",
      "11\n",
      "13\n",
      "17\n",
      "19\n",
      "23\n",
      "29\n",
      "31\n",
      "37\n",
      "41\n",
      "43\n",
      "47\n",
      "53\n",
      "59\n",
      "61\n",
      "67\n",
      "71\n",
      "73\n",
      "79\n",
      "83\n",
      "89\n",
      "97\n"
     ]
    }
   ],
   "source": [
    "# 求100以内质数\n",
    "num = 2\n",
    "while num<101:\n",
    "    i = 2\n",
    "    flag = True\n",
    "    while i<int(pow(num,1/2))+1:\n",
    "        if num % i == 0:\n",
    "            flag = False\n",
    "            break\n",
    "        i += 1\n",
    "    if flag:\n",
    "        print(num) \n",
    "    num += 1"
   ]
  },
  {
   "cell_type": "markdown",
   "id": "4d3182e1-3283-402a-87c4-502dfa26e273",
   "metadata": {},
   "source": [
    "# 小游戏 唐僧大战白骨精\n",
    "print('====================欢迎来到游戏《唐僧大战白骨精》==================')\n",
    "print('请选择你的身份：\\n','\\t1.白骨精\\n','\\t2.唐增\\n')\n",
    "num = input('请选择[1-2]：')\n",
    "if num=='1':\n",
    "    print(\"什么，你竟然选择白骨精？已强制选择唐增！\")\n",
    "elif num=='2':\n",
    "    print(\"你已选择唐增！\")\n",
    "else:\n",
    "    print(\"选择错误！\")\n",
    "\n",
    "\n",
    "play_blood = 2 # 生命值\n",
    "play_force = 2 # 攻击力\n",
    "boss_blood = 10\n",
    "boss_force = 10\n",
    "while True:\n",
    "    print('='*65)\n",
    "    print('请选择你的操作:\\n\\t1.练级\\n\\t2.打BOSS\\n\\t3.逃跑')\n",
    "    num = input('请选择[1-3]：')\n",
    "    if num=='1':\n",
    "        play_blood += 2 # 生命值\n",
    "        play_force += 2 # 攻击力\n",
    "        print('='*65)\n",
    "        print(f'唐增，恭喜你升级了，你的生命值为 {play_blood}，攻击力为 {play_force}.')\n",
    "    elif num=='2':\n",
    "        boss_blood -= play_force\n",
    "        print('='*65)\n",
    "        print(f'唐增攻击了白骨精')\n",
    "        if boss_blood<=0:\n",
    "            print(f'白骨精受到了{play_force}点伤害，重伤不治死了，唐僧赢得了胜利！')\n",
    "            break\n",
    "        # 没死反击玩家\n",
    "        play_blood -= boss_force\n",
    "        print(f'白骨精攻击了唐增')    \n",
    "        if play_blood<=0:\n",
    "            print(f'唐僧受到了{play_force}点伤害，重伤不治死了，Game over！')\n",
    "            break\n",
    "            \n",
    "    elif num=='3':\n",
    "        print(\"唐增一扭头撒腿就跑！Game over！\")\n",
    "        break\n",
    "    else:\n",
    "        print(\"选择错误！\")\n",
    "    "
   ]
  },
  {
   "cell_type": "markdown",
   "id": "0500cd67-c9f1-4798-9954-0c5b0d8cc628",
   "metadata": {},
   "source": [
    "# 5.序列\n",
    "\n",
    "## 5.1列表\n",
    "    python中的一个对象\n",
    "    切片\n",
    "    通用操作\n",
    "        +\n",
    "        *\n",
    "        in和not in \n",
    "        len() min() max()\n",
    "    方法（method）\n",
    "        方法基本和函数一样，只不过必须通过 对象.方法() 的形式调用\n",
    "        \n",
    "## 5.2序列\n",
    "    python中一种基本的数据结构\n",
    "    数据结构指计算机中数据存储的方式\n",
    "    序列用于保存一组有序的数据，所有的数据在序列中都有一个唯一的位置（索引）\n",
    "    分类：\n",
    "        可变序列\n",
    "            列表 list\n",
    "        不可变序列\n",
    "            字符串 str\n",
    "            元组 tuple\n",
    "    序列的通用操作\n",
    "        + * in  not in len() min() max() 切片 索引 计数\n",
    "        \n",
    "## 5.3列表的方法\n",
    "    append()\n",
    "    insert() 指定位置插入元素\n",
    "    extend() 使用新序列拓展序列\n",
    "    clear()\n",
    "    pop() 删除指定元素，并返回删除元素,不写删除最后一个元素\n",
    "    remove() 删除指定值，多个相同值删除第一个\n",
    "    reverse() 反转列表\n",
    "    sort() 排序,默认升序，降序：reverse=True\n",
    "    \n",
    "## 5.4遍历序列\n",
    "    将列表中所有元素取出来"
   ]
  },
  {
   "cell_type": "code",
   "execution_count": 31,
   "id": "79314fdb-3680-4359-b8fb-63b8a7250737",
   "metadata": {},
   "outputs": [
    {
     "data": {
      "text/plain": [
       "(1, 5)"
      ]
     },
     "execution_count": 31,
     "metadata": {},
     "output_type": "execute_result"
    }
   ],
   "source": [
    "ss = [1,2,3,4,5]\n",
    "ss[-5],ss[-1]"
   ]
  },
  {
   "cell_type": "code",
   "execution_count": 32,
   "id": "17433c84-ff84-406e-b6a2-d221e413daa3",
   "metadata": {},
   "outputs": [
    {
     "data": {
      "text/plain": [
       "([1, 2, 3, 4, 5, 1, 5], [1, 2, 3, 4, 5, 1, 2, 3, 4, 5])"
      ]
     },
     "execution_count": 32,
     "metadata": {},
     "output_type": "execute_result"
    }
   ],
   "source": [
    "ss+[1,5],ss*2"
   ]
  },
  {
   "cell_type": "code",
   "execution_count": 33,
   "id": "1c721679-ffb7-4d18-a9b2-faddba7864b9",
   "metadata": {},
   "outputs": [
    {
     "data": {
      "text/plain": [
       "(True, True)"
      ]
     },
     "execution_count": 33,
     "metadata": {},
     "output_type": "execute_result"
    }
   ],
   "source": [
    "1 in ss,8 not in ss "
   ]
  },
  {
   "cell_type": "code",
   "execution_count": 34,
   "id": "23607b5f-0512-40a5-aaf5-1244f9200c1b",
   "metadata": {},
   "outputs": [
    {
     "data": {
      "text/plain": [
       "('-5', 6, 1, 2)"
      ]
     },
     "execution_count": 34,
     "metadata": {},
     "output_type": "execute_result"
    }
   ],
   "source": [
    "ss = ['-a','10','-5','cd','白骨精','白']\n",
    "min(ss),len(ss),ss.count('-a'),ss.index('-5')"
   ]
  },
  {
   "cell_type": "code",
   "execution_count": 35,
   "id": "16e4e3de-a4bd-4425-a317-58bccd973edc",
   "metadata": {},
   "outputs": [
    {
     "data": {
      "text/plain": [
       "(6, 4, 0)"
      ]
     },
     "execution_count": 35,
     "metadata": {},
     "output_type": "execute_result"
    }
   ],
   "source": [
    "ss = ['-a','10','-5','cd','白骨精','白','10','10','10']\n",
    "# index 第二个参数表示起始位置\n",
    "ss.index('10',3),ss.count('10'),ss.count('1')"
   ]
  },
  {
   "cell_type": "code",
   "execution_count": 36,
   "id": "b2abcc81-d435-427c-ab99-3515da29521f",
   "metadata": {},
   "outputs": [
    {
     "data": {
      "text/plain": [
       "'e'"
      ]
     },
     "execution_count": 36,
     "metadata": {},
     "output_type": "execute_result"
    }
   ],
   "source": [
    "ss='hello'\n",
    "ss[1]"
   ]
  },
  {
   "cell_type": "code",
   "execution_count": 37,
   "id": "969c4558-49a2-432c-b110-30082d9710aa",
   "metadata": {},
   "outputs": [
    {
     "data": {
      "text/plain": [
       "((1, 2, 2, 3), (1, 2.0, 2, 3), (1, 2, 2, 3.2), (1, 2, 2))"
      ]
     },
     "execution_count": 37,
     "metadata": {},
     "output_type": "execute_result"
    }
   ],
   "source": [
    "(1,2)+(2,3),(1,2.0)+(2,3),(1,2)+(2,3.2),(1,2)+(2,)"
   ]
  },
  {
   "cell_type": "code",
   "execution_count": 38,
   "id": "ed3cd964-ac84-4bc0-aa67-6dec82c4b4b9",
   "metadata": {},
   "outputs": [
    {
     "data": {
      "text/plain": [
       "['-a', '10', 'cd', '白骨精', '白', '5', '10']"
      ]
     },
     "execution_count": 38,
     "metadata": {},
     "output_type": "execute_result"
    }
   ],
   "source": [
    "ss = ['-a','10','-5','cd','白骨精','白','10','10','10']\n",
    "del ss[2]\n",
    "ss[-3:-1] = '5'\n",
    "ss"
   ]
  },
  {
   "cell_type": "code",
   "execution_count": 39,
   "id": "2374bba4-a865-4bd8-a7ca-e204209e4d13",
   "metadata": {},
   "outputs": [
    {
     "data": {
      "text/plain": [
       "['a', 'w', 'k', '-5', 'cd', '白骨精', '白', '10', '10', '10']"
      ]
     },
     "execution_count": 39,
     "metadata": {},
     "output_type": "execute_result"
    }
   ],
   "source": [
    "ss = ['abcdefg','10','-5','cd','白骨精','白','10','10','10']\n",
    "ss[0:2] = 'awk'\n",
    "ss"
   ]
  },
  {
   "cell_type": "code",
   "execution_count": 40,
   "id": "2b1974a9-a88e-40af-b094-47206beb1b9e",
   "metadata": {},
   "outputs": [
    {
     "name": "stdout",
     "output_type": "stream",
     "text": [
      "['awk', 'cd', '-5', 'cd', '白骨精', '白', '10', '10', '10']\n",
      "['de', 'cd', '白骨精', '白', '10', '10', '10']\n",
      "['de', 'fr', 'gt', '白骨精', '白', '10', '10', '10']\n",
      "['de', 'fr', 'gt', 'de', 'fr', 'gt', '白骨精', '白', '10', '10', '10']\n"
     ]
    }
   ],
   "source": [
    "ss = ['abcdefg','10','-5','cd','白骨精','白','10','10','10']\n",
    "ss[0:2] = ['awk','cd']\n",
    "print(ss)\n",
    "ss[0:3] = ['de']\n",
    "print(ss)\n",
    "ss[0:2] = ['de','fr','gt']\n",
    "print(ss)\n",
    "ss[0:0] = ['de','fr','gt']\n",
    "print(ss)"
   ]
  },
  {
   "cell_type": "code",
   "execution_count": 41,
   "id": "8ae1c69e-d06a-466d-8fa3-5b8ced045c9b",
   "metadata": {},
   "outputs": [
    {
     "data": {
      "text/plain": [
       "['fr', 'de', 'gt', '白', '10']"
      ]
     },
     "execution_count": 41,
     "metadata": {},
     "output_type": "execute_result"
    }
   ],
   "source": [
    "del ss[::2]\n",
    "ss"
   ]
  },
  {
   "cell_type": "code",
   "execution_count": 42,
   "id": "b02dd574-8ac0-4d26-b235-aed42f3a51c1",
   "metadata": {},
   "outputs": [],
   "source": [
    "# 字符串切片不能改\n",
    "# ss='hello'\n",
    "# ss[1] = '5'"
   ]
  },
  {
   "cell_type": "code",
   "execution_count": 43,
   "id": "1a6e8d69-6583-4af1-ae4d-995bc1d95536",
   "metadata": {},
   "outputs": [
    {
     "data": {
      "text/plain": [
       "[]"
      ]
     },
     "execution_count": 43,
     "metadata": {},
     "output_type": "execute_result"
    }
   ],
   "source": [
    "ss = ['abcdefg','10','-5','cd','白骨精','白','10','10','10']\n",
    "ss.clear()\n",
    "ss"
   ]
  },
  {
   "cell_type": "code",
   "execution_count": 44,
   "id": "675c5e46-2b0f-4c27-8a46-2a93d45711ca",
   "metadata": {},
   "outputs": [
    {
     "data": {
      "text/plain": [
       "('-5', '10')"
      ]
     },
     "execution_count": 44,
     "metadata": {},
     "output_type": "execute_result"
    }
   ],
   "source": [
    "ss = ['abcdefg','10','-5','cd','白骨精','白','10','10','10']\n",
    "ss.pop(2),ss.pop()"
   ]
  },
  {
   "cell_type": "code",
   "execution_count": 45,
   "id": "69dc93d6-11c4-4cf5-b53c-f849c7f18e67",
   "metadata": {},
   "outputs": [
    {
     "name": "stdout",
     "output_type": "stream",
     "text": [
      "['abcdefg', '10', 'cd', '白骨精', '白', '10', '10', '10']\n",
      "['abcdefg', 'cd', '白骨精', '白', '10', '10', '10']\n"
     ]
    }
   ],
   "source": [
    "ss = ['abcdefg','10','-5','cd','白骨精','白','10','10','10']\n",
    "ss.remove('-5')\n",
    "print(ss)\n",
    "ss.remove('10')\n",
    "print(ss)"
   ]
  },
  {
   "cell_type": "code",
   "execution_count": 46,
   "id": "000abe92-b487-492c-99f4-a892dc9e23fa",
   "metadata": {},
   "outputs": [
    {
     "data": {
      "text/plain": [
       "['10', '10', '10', '白', '白骨精', 'cd', '-5', '10', 'abcdefg']"
      ]
     },
     "execution_count": 46,
     "metadata": {},
     "output_type": "execute_result"
    }
   ],
   "source": [
    "ss = ['abcdefg','10','-5','cd','白骨精','白','10','10','10']\n",
    "ss.reverse()\n",
    "ss"
   ]
  },
  {
   "cell_type": "code",
   "execution_count": 47,
   "id": "d876da78-a4b2-4a42-9e7a-ffeffa75ce8c",
   "metadata": {},
   "outputs": [
    {
     "data": {
      "text/plain": [
       "['-5', '10', '10', '10', '10', 'abcdefg', 'cd', '白', '白骨精']"
      ]
     },
     "execution_count": 47,
     "metadata": {},
     "output_type": "execute_result"
    }
   ],
   "source": [
    "ss = ['abcdefg','10','-5','cd','白骨精','白','10','10','10']\n",
    "ss.sort()\n",
    "ss"
   ]
  },
  {
   "cell_type": "code",
   "execution_count": 48,
   "id": "7570ee2a-4478-462e-bba2-b501a51237a3",
   "metadata": {},
   "outputs": [
    {
     "name": "stdout",
     "output_type": "stream",
     "text": [
      "========================欢迎使用员工管理系统======================\n",
      "请选择操作：\n",
      "\t 1.查询\n",
      "\t 2.添加\n",
      "\t 3.删除\n",
      "\t 4.退出\n",
      "请选择[1-4]： 1\n",
      "----------------------------------------------------------------\n",
      "\t序号\t姓名\t年龄\t性别\t住址\n",
      "\t1\t孙悟空\t18\t男\t花果山\n",
      "----------------------------------------------------------------\n",
      "请选择操作：\n",
      "\t 1.查询\n",
      "\t 2.添加\n",
      "\t 3.删除\n",
      "\t 4.退出\n",
      "请选择[1-4]： 4\n",
      "----------------------------------------------------------------\n",
      "再见！\n",
      "点击回车退出！ \n"
     ]
    }
   ],
   "source": [
    "# EMS (Employee Manager System 员工管理系统)\n",
    "print('========================欢迎使用员工管理系统======================')\n",
    "\n",
    "emps = ['孙悟空\\t18\\t男\\t花果山',]\n",
    "while True:\n",
    "    print('请选择操作：\\n\\t 1.查询\\n\\t 2.添加\\n\\t 3.删除\\n\\t 4.退出')\n",
    "    num = input('请选择[1-4]：')\n",
    "    print('-'*64)\n",
    "    # 查询\n",
    "    if num=='1':\n",
    "        print('\\t序号\\t姓名\\t年龄\\t性别\\t住址')\n",
    "        for i, emp in enumerate(emps):\n",
    "            print(f'\\t{i+1}\\t{emp}')\n",
    "\n",
    "    # 添加\n",
    "    elif num=='2':\n",
    "        name = input('输入姓名')\n",
    "        age = input('输入年龄')\n",
    "        sex = input('输入性别')\n",
    "        address = input('输入住址')\n",
    "\n",
    "        ss = f'{name}\\t{age}\\t{sex}\\t{address}'\n",
    "        emps.append(ss)\n",
    "        print('添加成功')\n",
    "\n",
    "    # 删除\n",
    "    elif num=='3':\n",
    "        index = int(input('输入员工序号'))\n",
    "        index -= 1\n",
    "        if 0<= index <len(emps):\n",
    "            print('要删除的信息')\n",
    "            print('\\t序号\\t姓名\\t年龄\\t性别\\t住址')\n",
    "            print(f'\\t{index+1}\\t{emps[index]}')\n",
    "            botton = input('是否删除?[Y/N]')\n",
    "            if botton=='Y' or botton=='y':\n",
    "                del emps[index]\n",
    "                print('删除成功！')\n",
    "            elif botton=='N' or botton=='n':\n",
    "                print('未删除！')\n",
    "            else:\n",
    "                print('输入有误！')\n",
    "        else:\n",
    "            print('输入有误！')\n",
    "    # 退出\n",
    "    elif num=='4':\n",
    "        print(\"再见！\")\n",
    "        input(\"点击回车退出！\")\n",
    "        break   \n",
    "    else:\n",
    "        print(\"选择错误！\")\n",
    "    print('-'*64)"
   ]
  },
  {
   "cell_type": "markdown",
   "id": "3d5ccdfc-baf1-4ac7-bc91-aabcfec7157f",
   "metadata": {},
   "source": [
    "## 5.5range\n",
    "## 5.6元组\n",
    "    元组：不可变的列表\n",
    "## 5.7可变对象\n",
    "    值可变\n",
    "    == != 比较的时对象的值是否相等\n",
    "    is is not 比较的是对象的id是否相等\n",
    "    \n",
    "## 5.8字典（dict）\n",
    "    一种数据结构，称为映射\n",
    "    与列表类似，用来存储对象的容器，存储性能很好，查询性能很差\n",
    "    in 检查字典中是否包含指定的键\n",
    "    not in 检查字典是否不包括指定的键\n",
    "    \n",
    "    copy() 浅复制\n",
    "    \n",
    "## 5.9集合（set）\n",
    "    集合和列表非常相似\n",
    "    不同点\n",
    "        集合只能存储不可变对象\n",
    "        集合存储的对象是无序的\n",
    "        集合中不能出现重复的元素\n",
    "    in \n",
    "    not in\n",
    "    len()\n",
    "    add()\n",
    "    update() 可以传递序列或者字典\n",
    "    集合运算 计算时不影响原来集合\n",
    "        交集 &\n",
    "        并集 |\n",
    "        差集 -\n",
    "        亦或集 ^ 只在一个集合出现的元素\n",
    "        检查一个集合是否是另一个集合的子集 <=\n",
    "        检查一个集合是否是另一个集合的真子集 <\n",
    "        >\n",
    "        >="
   ]
  },
  {
   "cell_type": "code",
   "execution_count": 49,
   "id": "0318cf6a-15f3-4522-998b-49464d898954",
   "metadata": {},
   "outputs": [
    {
     "data": {
      "text/plain": [
       "([10, 9, 8, 7, 6, 5, 4, 3], [1, 3])"
      ]
     },
     "execution_count": 49,
     "metadata": {},
     "output_type": "execute_result"
    }
   ],
   "source": [
    "list(range(10,2,-1)),list(range(1,5,2))"
   ]
  },
  {
   "cell_type": "code",
   "execution_count": 50,
   "id": "7443509d-c171-4377-ba2c-589c9dfdf236",
   "metadata": {},
   "outputs": [
    {
     "name": "stdout",
     "output_type": "stream",
     "text": [
      "()\n",
      "(1,)\n"
     ]
    }
   ],
   "source": [
    "ss = ()\n",
    "print(ss)\n",
    "ss = (1,)\n",
    "print(ss)"
   ]
  },
  {
   "cell_type": "code",
   "execution_count": 51,
   "id": "f05bf9a5-00be-4e6f-81a1-5647ca031f08",
   "metadata": {},
   "outputs": [
    {
     "name": "stdout",
     "output_type": "stream",
     "text": [
      "a = 10\n",
      "b = 20\n",
      "c = 30\n",
      "d = 40\n"
     ]
    }
   ],
   "source": [
    "# 解包\n",
    "ss = (10,20,30,40)\n",
    "a,b,c,d = ss\n",
    "print(\"a =\",a)\n",
    "print(\"b =\",b)\n",
    "print(\"c =\",c)\n",
    "print(\"d =\",d)"
   ]
  },
  {
   "cell_type": "code",
   "execution_count": 52,
   "id": "5b0c91f0-8f8d-45fe-9e9d-162d78e3d4cb",
   "metadata": {},
   "outputs": [
    {
     "data": {
      "text/plain": [
       "(10, 20, [30, 40])"
      ]
     },
     "execution_count": 52,
     "metadata": {},
     "output_type": "execute_result"
    }
   ],
   "source": [
    "ss = (10,20,30,40)\n",
    "a,b,*c = ss\n",
    "a,b,c"
   ]
  },
  {
   "cell_type": "code",
   "execution_count": 53,
   "id": "3022264d-750a-4e02-a780-88eaa83b0e7b",
   "metadata": {},
   "outputs": [
    {
     "name": "stdout",
     "output_type": "stream",
     "text": [
      "[10, 20, 30, 40]\n",
      "10 [20, 30] 40\n",
      "[10, 20] 30 40\n",
      "[1, 2, 3, 4] 5 6\n"
     ]
    }
   ],
   "source": [
    "# *a,*b,c = ss 错误\n",
    "*a, = ss\n",
    "print(a)\n",
    "a,*b,c = ss\n",
    "print(a,b,c)\n",
    "*a,b,c = ss\n",
    "print(a,b,c)\n",
    "*a,b,c = [1,2,3,4,5,6]\n",
    "print(a,b,c)"
   ]
  },
  {
   "cell_type": "code",
   "execution_count": 54,
   "id": "0ad65fc7-4c1f-41f5-9a85-1601d3fa265c",
   "metadata": {},
   "outputs": [
    {
     "data": {
      "text/plain": [
       "(True, False)"
      ]
     },
     "execution_count": 54,
     "metadata": {},
     "output_type": "execute_result"
    }
   ],
   "source": [
    "a = [1,2,3]\n",
    "b = [1,2,3]\n",
    "a==b,a is b"
   ]
  },
  {
   "cell_type": "code",
   "execution_count": 55,
   "id": "59fd768a-87b9-456b-900c-6b1814eecaaa",
   "metadata": {},
   "outputs": [],
   "source": [
    "# 集合\n",
    "d = {1,2,3,5}"
   ]
  },
  {
   "cell_type": "code",
   "execution_count": 56,
   "id": "c9d0536c-1725-4836-a95c-ab04abc9cff8",
   "metadata": {},
   "outputs": [
    {
     "data": {
      "text/plain": [
       "(True, False, True)"
      ]
     },
     "execution_count": 56,
     "metadata": {},
     "output_type": "execute_result"
    }
   ],
   "source": [
    "d = {'a':2,'b':3,'d':4}\n",
    "'a'in d, 'a' not in d, 'c' not in d"
   ]
  },
  {
   "cell_type": "code",
   "execution_count": 57,
   "id": "52c84519-aa8b-4a4a-8240-390d4e8942d3",
   "metadata": {},
   "outputs": [
    {
     "data": {
      "text/plain": [
       "(2, '默认值')"
      ]
     },
     "execution_count": 57,
     "metadata": {},
     "output_type": "execute_result"
    }
   ],
   "source": [
    "d.get('a'),d.get('e','默认值')"
   ]
  },
  {
   "cell_type": "code",
   "execution_count": 58,
   "id": "6a4e81ff-5959-4849-8458-a9e7755dfde3",
   "metadata": {},
   "outputs": [
    {
     "data": {
      "text/plain": [
       "(2, '默认值', {'a': 2, 'b': 3, 'd': 4, 'f': '默认值'})"
      ]
     },
     "execution_count": 58,
     "metadata": {},
     "output_type": "execute_result"
    }
   ],
   "source": [
    "d.setdefault('a','1024'),d.setdefault('f','默认值'),d"
   ]
  },
  {
   "cell_type": "code",
   "execution_count": 59,
   "id": "612b95e5-c69a-4e84-aefa-1936c8263ca9",
   "metadata": {},
   "outputs": [
    {
     "data": {
      "text/plain": [
       "{'a': 5, 'b': 2, 'c': 3, 'd': 4, 'e': 5, 'f': 6}"
      ]
     },
     "execution_count": 59,
     "metadata": {},
     "output_type": "execute_result"
    }
   ],
   "source": [
    "d = {'a':1,'b':2,'c':3}\n",
    "d2 = {'d':4,'e':5,'f':6,'a':5}\n",
    "d.update(d2)\n",
    "d"
   ]
  },
  {
   "cell_type": "code",
   "execution_count": 60,
   "id": "9301a903-cc24-413b-9b69-1c9ece832bd0",
   "metadata": {},
   "outputs": [
    {
     "data": {
      "text/plain": [
       "{'b': 2, 'c': 3, 'd': 4, 'e': 5, 'f': 6}"
      ]
     },
     "execution_count": 60,
     "metadata": {},
     "output_type": "execute_result"
    }
   ],
   "source": [
    "del d['a']\n",
    "d"
   ]
  },
  {
   "cell_type": "code",
   "execution_count": 61,
   "id": "b25e6489-4e7d-429b-a89c-09367777e5cc",
   "metadata": {},
   "outputs": [
    {
     "data": {
      "text/plain": [
       "(('f', 6), {'b': 2, 'c': 3, 'd': 4, 'e': 5})"
      ]
     },
     "execution_count": 61,
     "metadata": {},
     "output_type": "execute_result"
    }
   ],
   "source": [
    "d.popitem(),d"
   ]
  },
  {
   "cell_type": "code",
   "execution_count": 62,
   "id": "b8dd6182-56c5-450c-a4ce-2292aafb9ae2",
   "metadata": {},
   "outputs": [
    {
     "data": {
      "text/plain": [
       "(4, {'b': 2, 'c': 3, 'e': 5})"
      ]
     },
     "execution_count": 62,
     "metadata": {},
     "output_type": "execute_result"
    }
   ],
   "source": [
    "d.pop('d'),d"
   ]
  },
  {
   "cell_type": "code",
   "execution_count": 63,
   "id": "4536fbb8-4218-4fa0-938b-94dc98603200",
   "metadata": {},
   "outputs": [],
   "source": [
    "# 会报错\n",
    "# c = {}\n",
    "# c.popitem()"
   ]
  },
  {
   "cell_type": "code",
   "execution_count": 64,
   "id": "27525d0b-2dc3-4c37-b8e9-728915f2c0b2",
   "metadata": {},
   "outputs": [
    {
     "name": "stdout",
     "output_type": "stream",
     "text": [
      "{'b': 2, 'c': 3, 'e': 5}\n"
     ]
    }
   ],
   "source": [
    "print(d)\n",
    "d.clear()"
   ]
  },
  {
   "cell_type": "code",
   "execution_count": 65,
   "id": "7059ab32-f7d9-4953-845a-c9d1c28546ba",
   "metadata": {},
   "outputs": [
    {
     "data": {
      "text/plain": [
       "({'d': 4, 'e': 7, 'f': 6, 'a': 5}, {'d': 8, 'e': 5, 'f': 6, 'a': 5})"
      ]
     },
     "execution_count": 65,
     "metadata": {},
     "output_type": "execute_result"
    }
   ],
   "source": [
    "d3 = d2.copy()\n",
    "d2['d']=8\n",
    "d3['e']=7\n",
    "d3,d2"
   ]
  },
  {
   "cell_type": "code",
   "execution_count": 66,
   "id": "dc8a4bb7-99b0-4fc5-a8bc-14fd87c3e3c0",
   "metadata": {},
   "outputs": [
    {
     "data": {
      "text/plain": [
       "({'a': 1, 'b': {'a': 10, 'b': 2}, 'c': 3},\n",
       " {'a': 1, 'b': {'a': 10, 'b': 2}, 'c': 3})"
      ]
     },
     "execution_count": 66,
     "metadata": {},
     "output_type": "execute_result"
    }
   ],
   "source": [
    "d = {'a':1,'b':{'a':1,'b':2},'c':3}\n",
    "d0 = d.copy()\n",
    "d0['b']['a']=10\n",
    "d,d0"
   ]
  },
  {
   "cell_type": "code",
   "execution_count": 67,
   "id": "98d4b2c8-6399-4243-bdf7-0692920d7dd8",
   "metadata": {},
   "outputs": [
    {
     "data": {
      "text/plain": [
       "(dict_keys(['a', 'b', 'c']),\n",
       " dict_values([1, {'a': 10, 'b': 2}, 3]),\n",
       " dict_items([('a', 1), ('b', {'a': 10, 'b': 2}), ('c', 3)]))"
      ]
     },
     "execution_count": 67,
     "metadata": {},
     "output_type": "execute_result"
    }
   ],
   "source": [
    "# 遍历字典\n",
    "d.keys(),d.values(),d.items()"
   ]
  },
  {
   "cell_type": "code",
   "execution_count": 68,
   "id": "46216012-cb2b-4870-a3b0-d9e6a64cc995",
   "metadata": {},
   "outputs": [
    {
     "name": "stdout",
     "output_type": "stream",
     "text": [
      "a\n",
      "b\n",
      "c\n",
      "1\n",
      "{'a': 10, 'b': 2}\n",
      "3\n",
      "('a', 1)\n",
      "('b', {'a': 10, 'b': 2})\n",
      "('c', 3)\n"
     ]
    }
   ],
   "source": [
    "for k in d.keys():\n",
    "    print(k)\n",
    "for k in d.values():\n",
    "    print(k)\n",
    "for k in d.items():\n",
    "    print(k)"
   ]
  },
  {
   "cell_type": "code",
   "execution_count": 69,
   "id": "134989bb-687a-45c4-a5ef-b6d64c994b5c",
   "metadata": {},
   "outputs": [
    {
     "data": {
      "text/plain": [
       "({1, 2, 3, 4}, set)"
      ]
     },
     "execution_count": 69,
     "metadata": {},
     "output_type": "execute_result"
    }
   ],
   "source": [
    "s = {1,2,3,4,}\n",
    "s,type(s)"
   ]
  },
  {
   "cell_type": "code",
   "execution_count": 70,
   "id": "11959489-e660-498c-bb38-f00a26deb893",
   "metadata": {},
   "outputs": [
    {
     "data": {
      "text/plain": [
       "{5, 6, 8, 14, 15, 20}"
      ]
     },
     "execution_count": 70,
     "metadata": {},
     "output_type": "execute_result"
    }
   ],
   "source": [
    "s = {5,20,6,8,15,15,14,20,5,6}\n",
    "s"
   ]
  },
  {
   "cell_type": "code",
   "execution_count": 71,
   "id": "500e9214-8f30-45c9-8e28-6608eb11bc8a",
   "metadata": {},
   "outputs": [
    {
     "data": {
      "text/plain": [
       "{(1, 2), (1, 2, 5), (2,), (3, 4), (5, 8, 4, 1)}"
      ]
     },
     "execution_count": 71,
     "metadata": {},
     "output_type": "execute_result"
    }
   ],
   "source": [
    "ss = {(1,2),(3,4),(1,2),(2,),(1,2,5),(5,8,4,1,)}\n",
    "ss"
   ]
  },
  {
   "cell_type": "code",
   "execution_count": 72,
   "id": "0728564a-be3f-4937-87e1-74433a8756c5",
   "metadata": {},
   "outputs": [
    {
     "name": "stdout",
     "output_type": "stream",
     "text": [
      "{9, 2, 5, 6}\n",
      "{'e', 'l', 'o', 'h'}\n",
      "{'b', 'a'}\n"
     ]
    }
   ],
   "source": [
    "s = set([5,6,9,5,2])\n",
    "print(s)\n",
    "s = set('hello')\n",
    "print(s)\n",
    "s = set({'a':1,'b':2})\n",
    "print(s)"
   ]
  },
  {
   "cell_type": "code",
   "execution_count": 73,
   "id": "855a9898-da0c-4aa5-892a-d80c818f153d",
   "metadata": {},
   "outputs": [
    {
     "data": {
      "text/plain": [
       "{(1, 2), (1, 2, 5), (2,), (3, 4), (5, 8, 4, 1), 10}"
      ]
     },
     "execution_count": 73,
     "metadata": {},
     "output_type": "execute_result"
    }
   ],
   "source": [
    "ss.add(10)\n",
    "ss"
   ]
  },
  {
   "cell_type": "code",
   "execution_count": 74,
   "id": "8ac8d0b9-f666-4065-b8ca-b7ecba0723a0",
   "metadata": {},
   "outputs": [
    {
     "data": {
      "text/plain": [
       "{4, 5, 8, 9}"
      ]
     },
     "execution_count": 74,
     "metadata": {},
     "output_type": "execute_result"
    }
   ],
   "source": [
    "s1 = {5,4,8}\n",
    "s2 = {9,8,5}\n",
    "s2.update(s1)\n",
    "s2"
   ]
  },
  {
   "cell_type": "code",
   "execution_count": 75,
   "id": "14bca672-e6a7-4d33-bd38-70865fede86b",
   "metadata": {},
   "outputs": [
    {
     "data": {
      "text/plain": [
       "(1, 4, 6)"
      ]
     },
     "execution_count": 75,
     "metadata": {},
     "output_type": "execute_result"
    }
   ],
   "source": [
    "s1 = {-5,4,8,9,6,1,10,30}\n",
    "s1.pop(),s1.pop(),s1.pop()"
   ]
  },
  {
   "cell_type": "code",
   "execution_count": 76,
   "id": "3cd9482f-f4a8-418e-bf0f-1186a497f3e8",
   "metadata": {},
   "outputs": [
    {
     "data": {
      "text/plain": [
       "(None, {-5, 4, 6, 8, 9, 10, 30})"
      ]
     },
     "execution_count": 76,
     "metadata": {},
     "output_type": "execute_result"
    }
   ],
   "source": [
    "s1 = {-5,4,8,9,6,1,10,30}\n",
    "s1.remove(1),s1"
   ]
  },
  {
   "cell_type": "code",
   "execution_count": 77,
   "id": "d6b8b823-9833-42ef-8a52-058632db2cbd",
   "metadata": {},
   "outputs": [
    {
     "data": {
      "text/plain": [
       "set()"
      ]
     },
     "execution_count": 77,
     "metadata": {},
     "output_type": "execute_result"
    }
   ],
   "source": [
    "s1.clear()\n",
    "s1"
   ]
  },
  {
   "cell_type": "code",
   "execution_count": 78,
   "id": "05149187-3bbf-401d-8700-31ea24470e70",
   "metadata": {},
   "outputs": [],
   "source": [
    "# # 浅复制\n",
    "# copy()"
   ]
  },
  {
   "cell_type": "code",
   "execution_count": 79,
   "id": "948cd3f0-172a-4553-84af-5e9a32b0495e",
   "metadata": {},
   "outputs": [
    {
     "data": {
      "text/plain": [
       "({3, 4, 5}, {1, 2, 3, 4, 5, 6, 7}, {1, 2}, {6, 7}, {1, 2, 6, 7})"
      ]
     },
     "execution_count": 79,
     "metadata": {},
     "output_type": "execute_result"
    }
   ],
   "source": [
    "s1 = {1,2,3,4,5}\n",
    "s2 = {3,4,5,6,7}\n",
    "s1&s2, s1|s2, s1-s2, s2-s1, s1^s2"
   ]
  },
  {
   "cell_type": "code",
   "execution_count": 80,
   "id": "6942c588-6ffe-415e-8304-311de29bccf8",
   "metadata": {},
   "outputs": [
    {
     "data": {
      "text/plain": [
       "(True, False, True, True, True, False)"
      ]
     },
     "execution_count": 80,
     "metadata": {},
     "output_type": "execute_result"
    }
   ],
   "source": [
    "s3 = {1,2,3}\n",
    "s3<=s1,s1<=s3,s3<=s3,s1>=s1,s3<s1,s1<s1"
   ]
  },
  {
   "cell_type": "markdown",
   "id": "d5d0a04b-56d6-4f38-84e5-27e181adfc8f",
   "metadata": {},
   "source": [
    "# 6.函数\n",
    "    函数也是对象\n",
    "## 6.1函数参数\n",
    "    实参传递方式\n",
    "        位置参数 fn(1,2,3)\n",
    "        关键字参数 fn(b=2,a=1.c=3)\n",
    "        不定长参数 fn(a,b,*c) 参数装包\n",
    "            *形参只能接收位置参数\n",
    "            **形参可以接收其他的关键字参数，它会将这些参数统一保存到一个字典中\n",
    "        参数解包\n",
    "## 6.2返回值\n",
    "    return 返回的是None\n",
    "    fn() 和 fn 的区别\n",
    "## 6.3文档字符串\n",
    "    定义函数时写说明文档\n",
    "    help()\n",
    "## 6.4作用域（scope）\n",
    "    python两种\n",
    "        全局作用域\n",
    "            在程序执行时创建，在程序执行结束时销毁\n",
    "            所有函数以外的区域都是全局作用域\n",
    "        函数作用域\n",
    "            在函数调用时创建，在函数调用结束时销毁\n",
    "    globe\n",
    "## 6.5命名空间\n",
    "    locals()"
   ]
  },
  {
   "cell_type": "code",
   "execution_count": 81,
   "id": "3e145c7e-01e5-4a55-98a2-9bb2b5f8ad28",
   "metadata": {},
   "outputs": [
    {
     "name": "stdout",
     "output_type": "stream",
     "text": [
      "(1, 2, 3, 4, 5) <class 'tuple'>\n",
      "() <class 'tuple'>\n"
     ]
    },
    {
     "data": {
      "text/plain": [
       "(None, None)"
      ]
     },
     "execution_count": 81,
     "metadata": {},
     "output_type": "execute_result"
    }
   ],
   "source": [
    "def fn(*c):\n",
    "    print(c,type(c))\n",
    "fn(1,2,3,4,5),fn()"
   ]
  },
  {
   "cell_type": "code",
   "execution_count": 82,
   "id": "cc817ebd-025e-43b9-b690-a9f9f6b0d93b",
   "metadata": {},
   "outputs": [
    {
     "name": "stdout",
     "output_type": "stream",
     "text": [
      "a =  1\n",
      "b =  2\n",
      "c =  ()\n",
      "a =  1\n",
      "b =  2\n",
      "c =  (3, 4, 5, 6)\n"
     ]
    },
    {
     "data": {
      "text/plain": [
       "(None, None)"
      ]
     },
     "execution_count": 82,
     "metadata": {},
     "output_type": "execute_result"
    }
   ],
   "source": [
    "def fn2(a,b,*c):\n",
    "    print('a = ',a)\n",
    "    print('b = ',b)\n",
    "    print('c = ',c)\n",
    "fn2(1,2),fn2(1,2,3,4,5,6)"
   ]
  },
  {
   "cell_type": "code",
   "execution_count": 83,
   "id": "3740b924-79c0-481e-ade5-17c568acb4dc",
   "metadata": {},
   "outputs": [
    {
     "name": "stdout",
     "output_type": "stream",
     "text": [
      "a =  1\n",
      "b =  6\n",
      "c =  (2, 3, 4, 5)\n",
      "a =  1\n",
      "b =  2\n",
      "c =  (1, 2, 3)\n"
     ]
    },
    {
     "data": {
      "text/plain": [
       "(None, None)"
      ]
     },
     "execution_count": 83,
     "metadata": {},
     "output_type": "execute_result"
    }
   ],
   "source": [
    "def fn3(a,*c, b):\n",
    "    print('a = ',a)\n",
    "    print('b = ',b)\n",
    "    print('c = ',c)\n",
    "def fn4(*c,a, b):\n",
    "    print('a = ',a)\n",
    "    print('b = ',b)\n",
    "    print('c = ',c)\n",
    "fn3(1,2,3,4,5,b=6),fn4(1,2,3,b=2,a=1)"
   ]
  },
  {
   "cell_type": "code",
   "execution_count": 84,
   "id": "04e339dd-8a44-43e9-9d1c-69c0002973d6",
   "metadata": {},
   "outputs": [
    {
     "name": "stdout",
     "output_type": "stream",
     "text": [
      "a =  1\n",
      "b =  2\n",
      "c =  {}\n",
      "a =  2\n",
      "b =  1\n",
      "c =  {'c': 3}\n",
      "a =  2\n",
      "b =  3\n",
      "c =  {'c': 1, 'e': 4, 'f': 5}\n"
     ]
    },
    {
     "data": {
      "text/plain": [
       "(None, None, None)"
      ]
     },
     "execution_count": 84,
     "metadata": {},
     "output_type": "execute_result"
    }
   ],
   "source": [
    "def fn5(a,b,**c,):\n",
    "    print('a = ',a)\n",
    "    print('b = ',b)\n",
    "    print('c = ',c)\n",
    "fn5(1,2,),fn5(b=1,a=2,c=3),fn5(c=1,a=2,b=3,e=4,f=5)"
   ]
  },
  {
   "cell_type": "code",
   "execution_count": 85,
   "id": "4657ac2d-6237-4efe-954a-b57b2bf6ed11",
   "metadata": {},
   "outputs": [
    {
     "name": "stdout",
     "output_type": "stream",
     "text": [
      "a =  10\n",
      "b =  20\n",
      "c =  30\n",
      "a =  1\n",
      "b =  2\n",
      "c =  3\n"
     ]
    },
    {
     "data": {
      "text/plain": [
       "(None, None)"
      ]
     },
     "execution_count": 85,
     "metadata": {},
     "output_type": "execute_result"
    }
   ],
   "source": [
    "def fn4(a,b,c):\n",
    "    print('a = ',a)\n",
    "    print('b = ',b)\n",
    "    print('c = ',c)\n",
    "t = (10,20,30)\n",
    "t2 = {'a':1,'b':2,'c':3}\n",
    "fn4(*t),fn4(**t2)"
   ]
  },
  {
   "cell_type": "code",
   "execution_count": 86,
   "id": "64439307-f64b-4597-ad23-b17879ac89c8",
   "metadata": {},
   "outputs": [
    {
     "name": "stdout",
     "output_type": "stream",
     "text": [
      "a =  10\n",
      "b =  20\n",
      "c =  (30, 40, 50)\n",
      "a =  10\n",
      "b =  20\n",
      "c =  (30, 40, 50)\n"
     ]
    },
    {
     "data": {
      "text/plain": [
       "(None, None)"
      ]
     },
     "execution_count": 86,
     "metadata": {},
     "output_type": "execute_result"
    }
   ],
   "source": [
    "def fn4(a,b,*c):\n",
    "    print('a = ',a)\n",
    "    print('b = ',b)\n",
    "    print('c = ',c)\n",
    "t = (10,20,30,40,50)\n",
    "t1 = [10,20,30,40,50]\n",
    "fn4(*t),fn4(*t1)"
   ]
  },
  {
   "cell_type": "code",
   "execution_count": 87,
   "id": "9eed803c-e360-48d5-b06e-17367f1806f9",
   "metadata": {},
   "outputs": [
    {
     "data": {
      "text/plain": [
       "3"
      ]
     },
     "execution_count": 87,
     "metadata": {},
     "output_type": "execute_result"
    }
   ],
   "source": [
    "# fn() 和 fn 的区别\n",
    "a = sum\n",
    "a([1,2])"
   ]
  },
  {
   "cell_type": "code",
   "execution_count": 88,
   "id": "9e0e2b4c-dcec-4139-8676-49ffa08643b3",
   "metadata": {},
   "outputs": [
    {
     "name": "stdout",
     "output_type": "stream",
     "text": [
      "Help on built-in function print in module builtins:\n",
      "\n",
      "print(...)\n",
      "    print(value, ..., sep=' ', end='\\n', file=sys.stdout, flush=False)\n",
      "    \n",
      "    Prints the values to a stream, or to sys.stdout by default.\n",
      "    Optional keyword arguments:\n",
      "    file:  a file-like object (stream); defaults to the current sys.stdout.\n",
      "    sep:   string inserted between values, default a space.\n",
      "    end:   string appended after the last value, default a newline.\n",
      "    flush: whether to forcibly flush the stream.\n",
      "\n"
     ]
    }
   ],
   "source": [
    "help(print)"
   ]
  },
  {
   "cell_type": "code",
   "execution_count": 89,
   "id": "1dd9ab41-9377-4b8b-98ac-ec13791ac4d4",
   "metadata": {},
   "outputs": [
    {
     "name": "stdout",
     "output_type": "stream",
     "text": [
      "Help on function fn in module __main__:\n",
      "\n",
      "fn(a: int, b: bool, c: str = 'hello') -> int\n",
      "    这是一个文档字符串的实例\n",
      "    \n",
      "    函数的作用;\n",
      "    函数的参数：\n",
      "        a，作用，类型，默认值。。。\n",
      "        b，作用，类型，默认值。。。\n",
      "        c，作用，类型，默认值。。。\n",
      "\n",
      "a =  1\n",
      "b =  2\n",
      "c =  hello\n"
     ]
    },
    {
     "data": {
      "text/plain": [
       "(None, 10)"
      ]
     },
     "execution_count": 89,
     "metadata": {},
     "output_type": "execute_result"
    }
   ],
   "source": [
    "def fn(a:int,b:bool,c:str='hello')->int:\n",
    "    '''\n",
    "    这是一个文档字符串的实例\n",
    "    \n",
    "    函数的作用;\n",
    "    函数的参数：\n",
    "        a，作用，类型，默认值。。。\n",
    "        b，作用，类型，默认值。。。\n",
    "        c，作用，类型，默认值。。。\n",
    "    '''\n",
    "    print('a = ',a)\n",
    "    print('b = ',b)\n",
    "    print('c = ',c)\n",
    "    return 10\n",
    "help(fn),fn(1,2)"
   ]
  },
  {
   "cell_type": "code",
   "execution_count": 90,
   "id": "ef03de8d-2636-47e2-bca1-c251a7ec0cbb",
   "metadata": {},
   "outputs": [
    {
     "name": "stdout",
     "output_type": "stream",
     "text": [
      "fn3中：a = 3\n"
     ]
    }
   ],
   "source": [
    "def fn2():\n",
    "    a = 2\n",
    "    def fn3():\n",
    "        a = 3\n",
    "        print('fn3中：a =',a)\n",
    "    fn3()\n",
    "fn2()"
   ]
  },
  {
   "cell_type": "code",
   "execution_count": 91,
   "id": "855d97f4-3aee-460f-b8b9-ef8a55184dd3",
   "metadata": {},
   "outputs": [
    {
     "name": "stdout",
     "output_type": "stream",
     "text": [
      "fn3中：a = 2\n"
     ]
    }
   ],
   "source": [
    "def fn2():\n",
    "    a = 2\n",
    "    def fn3():\n",
    "        print('fn3中：a =',a)\n",
    "    fn3()\n",
    "fn2()"
   ]
  },
  {
   "cell_type": "code",
   "execution_count": 92,
   "id": "e143c67c-de60-4b8d-950c-674d4d0e4925",
   "metadata": {},
   "outputs": [
    {
     "name": "stdout",
     "output_type": "stream",
     "text": [
      "fn3中：a = 2\n"
     ]
    }
   ],
   "source": [
    "a = 2\n",
    "def fn2():\n",
    "    def fn3():\n",
    "        print('fn3中：a =',a)\n",
    "    fn3()\n",
    "fn2()"
   ]
  },
  {
   "cell_type": "code",
   "execution_count": 93,
   "id": "ca8aeefd-a095-4d25-a4eb-cc0e7862e430",
   "metadata": {},
   "outputs": [
    {
     "name": "stdout",
     "output_type": "stream",
     "text": [
      "fn3中：a = 4\n"
     ]
    },
    {
     "data": {
      "text/plain": [
       "(None, 4)"
      ]
     },
     "execution_count": 93,
     "metadata": {},
     "output_type": "execute_result"
    }
   ],
   "source": [
    "a = 2\n",
    "def fn2():\n",
    "    global a\n",
    "    a = 4\n",
    "    print('fn3中：a =',a)\n",
    "    \n",
    "fn2(),a"
   ]
  },
  {
   "cell_type": "code",
   "execution_count": null,
   "id": "a76a7eaf-eb3b-4b56-9b16-3cf78d7b95ff",
   "metadata": {},
   "outputs": [],
   "source": [
    "space = locals()\n",
    "space['a'],space"
   ]
  },
  {
   "cell_type": "code",
   "execution_count": 95,
   "id": "fd892a4e-53e5-4b46-8fbc-a7b57b5cdb5b",
   "metadata": {},
   "outputs": [
    {
     "name": "stdout",
     "output_type": "stream",
     "text": [
      "10\n"
     ]
    }
   ],
   "source": [
    "# 添加一个键值\n",
    "space['cc'] = 10\n",
    "print(cc)"
   ]
  },
  {
   "cell_type": "code",
   "execution_count": 96,
   "id": "0c2d5e86-35ce-4caa-9d47-d3313709a647",
   "metadata": {},
   "outputs": [
    {
     "name": "stdout",
     "output_type": "stream",
     "text": [
      "{'a': 10}\n",
      "10\n",
      "{'a': 10, 'cc': 10}\n"
     ]
    }
   ],
   "source": [
    "def fn4():\n",
    "    a = 10\n",
    "    space = locals()\n",
    "    print(space)\n",
    "    space['cc'] = 10\n",
    "    print(cc)\n",
    "    print(space)\n",
    "fn4()"
   ]
  },
  {
   "cell_type": "code",
   "execution_count": null,
   "id": "3c60bd8a-a135-4749-9dd2-dcd9dd832547",
   "metadata": {},
   "outputs": [],
   "source": [
    "def fn4():\n",
    "    a = 10\n",
    "    space = globals()\n",
    "    print(space)\n",
    "\n",
    "fn4()"
   ]
  },
  {
   "cell_type": "markdown",
   "id": "f4dbc5df-c1f7-4c39-a6a9-f9f6c0c3a00d",
   "metadata": {},
   "source": [
    "## 6.6递归练习\n",
    "## 6.7函数式编程\n",
    "    python中，函数是一等对象\n",
    "    高阶函数\n",
    "        接收函数作为参数，或者将函数作为返回值的函数\n",
    "## 6.8匿名函数\n",
    "    lambda\n",
    "    一般用作参数使用\n",
    "## 6.9sort(),sorted()\n",
    "## 6.10闭包\n",
    "    将函数作为返回值返回，也是一种高阶函数,这种高阶函数也成为闭包\n",
    "    可以将私有的数据藏到闭包中\n",
    "    形成闭包的条件\n",
    "        函数嵌套\n",
    "        将内部函数作为返回值返回\n",
    "        内部函数必须要使用外部函数的变量\n",
    "## 6.11装饰器\n",
    "    目的\n",
    "        不方便后期维护\n",
    "        违反开闭原则\n",
    "        直接修改函数过多，麻烦\n",
    "        \n",
    "    OCP原则：开放对程序的扩展，关闭对程序的修改\n",
    "    不修改原函数的情况下，来对函数进行扩展\n",
    "    根据现有函数，创建一个新函数\n",
    "    \n",
    "    通过装饰器，可以在不修改原来函数的情况下对函数扩展\n",
    "    多个装饰器，将会从内部装饰器开始"
   ]
  },
  {
   "cell_type": "code",
   "execution_count": 98,
   "id": "e1cdd53a-be8c-479c-a520-9af98b97777a",
   "metadata": {},
   "outputs": [
    {
     "data": {
      "text/plain": [
       "6"
      ]
     },
     "execution_count": 98,
     "metadata": {},
     "output_type": "execute_result"
    }
   ],
   "source": [
    "def fn(n):\n",
    "    s = 1\n",
    "    for i in range(1,n+1):\n",
    "        s *= i\n",
    "    return s\n",
    "fn(3)"
   ]
  },
  {
   "cell_type": "code",
   "execution_count": 99,
   "id": "6bc786bc-5e91-43a9-b931-b83ee570f9ca",
   "metadata": {},
   "outputs": [
    {
     "data": {
      "text/plain": [
       "24"
      ]
     },
     "execution_count": 99,
     "metadata": {},
     "output_type": "execute_result"
    }
   ],
   "source": [
    "# 阶乘\n",
    "def factorial(n):\n",
    "    if n>1:\n",
    "        return n*factorial(n-1)\n",
    "    elif n<0:\n",
    "        raise('n<0 error!')\n",
    "    else:\n",
    "        return 1\n",
    "factorial(4)"
   ]
  },
  {
   "cell_type": "code",
   "execution_count": 100,
   "id": "14daa904-a714-47f0-bc32-ae4aaf157d54",
   "metadata": {},
   "outputs": [
    {
     "data": {
      "text/plain": [
       "(False, True, True)"
      ]
     },
     "execution_count": 100,
     "metadata": {},
     "output_type": "execute_result"
    }
   ],
   "source": [
    "# 检查回文\n",
    "def check(s):\n",
    "    l = len(s)\n",
    "    if l>2 and s[0]==s[-1]:\n",
    "        return check(s[1:-1])\n",
    "    elif s[0]!=s[-1]:\n",
    "        return False\n",
    "    elif (l==2 or l==1) and s[0]==s[-1]:\n",
    "        return True\n",
    "# 优化\n",
    "def check1(s):\n",
    "    if len(s)<2:\n",
    "        return True\n",
    "    elif s[0]==s[-1]:\n",
    "        return check(s[1:-1])\n",
    "    elif s[0]!=s[-1]:\n",
    "        return False\n",
    "check1('abcdtcba'),check1('abcdcba'),check1('abccba')"
   ]
  },
  {
   "cell_type": "code",
   "execution_count": 101,
   "id": "a04e366c-e940-4c84-814e-0218d5be7ec7",
   "metadata": {},
   "outputs": [
    {
     "data": {
      "text/plain": [
       "False"
      ]
     },
     "execution_count": 101,
     "metadata": {},
     "output_type": "execute_result"
    }
   ],
   "source": [
    "check('abcdtcba')"
   ]
  },
  {
   "cell_type": "code",
   "execution_count": 102,
   "id": "fb7a4d86-30d7-465f-8699-d9308ad1881b",
   "metadata": {},
   "outputs": [
    {
     "data": {
      "text/plain": [
       "27"
      ]
     },
     "execution_count": 102,
     "metadata": {},
     "output_type": "execute_result"
    }
   ],
   "source": [
    "# 幂运算\n",
    "def power(n, i):\n",
    "    if i>1:\n",
    "        return power(n,i-1)*n\n",
    "    elif i==1:\n",
    "        return n\n",
    "power(3,3)"
   ]
  },
  {
   "cell_type": "code",
   "execution_count": 103,
   "id": "7af45228-85a3-43d6-9451-fb94774fe5d7",
   "metadata": {},
   "outputs": [
    {
     "data": {
      "text/plain": [
       "(None, ['778', 'aa', 'bb', 'c', 'dddddddd', 'fff'])"
      ]
     },
     "execution_count": 103,
     "metadata": {},
     "output_type": "execute_result"
    }
   ],
   "source": [
    "l = ['aa','bb','c','dddddddd','fff','778']\n",
    "l.sort(),l"
   ]
  },
  {
   "cell_type": "code",
   "execution_count": 104,
   "id": "562002b9-87e9-4237-aded-5ba17b3c6d77",
   "metadata": {},
   "outputs": [
    {
     "name": "stdout",
     "output_type": "stream",
     "text": [
      "['c', 'aa', 'bb', '778', 'fff', 'dddddddd']\n"
     ]
    }
   ],
   "source": [
    "l.sort(key=len)\n",
    "print(l)\n",
    "# l.sort(key=int)\n",
    "# print(l)"
   ]
  },
  {
   "cell_type": "code",
   "execution_count": 105,
   "id": "db536cea-2831-4561-85bc-86682c7748ad",
   "metadata": {},
   "outputs": [
    {
     "data": {
      "text/plain": [
       "(['778', 'aa', 'bb', 'c', 'dddddddd', 'fff'],\n",
       " ['aa', 'bb', 'c', 'dddddddd', 'fff', '778'])"
      ]
     },
     "execution_count": 105,
     "metadata": {},
     "output_type": "execute_result"
    }
   ],
   "source": [
    "l = ['aa','bb','c','dddddddd','fff','778']\n",
    "sorted(l),l"
   ]
  },
  {
   "cell_type": "code",
   "execution_count": 106,
   "id": "08734501-f6ba-4040-809e-73ab6506b063",
   "metadata": {},
   "outputs": [
    {
     "data": {
      "text/plain": [
       "(['778', 'aa', 'bb', 'c', 'dddddddd', 'fff'], ['4', '4', '5', '5', '5'])"
      ]
     },
     "execution_count": 106,
     "metadata": {},
     "output_type": "execute_result"
    }
   ],
   "source": [
    "sorted(l,key=str),sorted('54545')"
   ]
  },
  {
   "cell_type": "code",
   "execution_count": 107,
   "id": "9ea262e3-b0ed-4d55-9b15-0a42f239f7bd",
   "metadata": {},
   "outputs": [
    {
     "name": "stdout",
     "output_type": "stream",
     "text": [
      "I am fn2\n",
      "None\n"
     ]
    },
    {
     "data": {
      "text/plain": [
       "(<function __main__.fn.<locals>.inner()>, None)"
      ]
     },
     "execution_count": 107,
     "metadata": {},
     "output_type": "execute_result"
    }
   ],
   "source": [
    "# 闭包\n",
    "def fn():\n",
    "    def inner():\n",
    "        print('I am fn2')\n",
    "    return inner\n",
    "fn(),print(fn()())"
   ]
  },
  {
   "cell_type": "code",
   "execution_count": 108,
   "id": "65b23cda-ae77-4a75-b665-6c7d8d329063",
   "metadata": {},
   "outputs": [
    {
     "data": {
      "text/plain": [
       "2.0"
      ]
     },
     "execution_count": 108,
     "metadata": {},
     "output_type": "execute_result"
    }
   ],
   "source": [
    "# 创建函数，求平均值\n",
    "nums = []\n",
    "def average(n):\n",
    "    nums.append(n)\n",
    "    return sum(nums)/len(nums)\n",
    "average(2)"
   ]
  },
  {
   "cell_type": "code",
   "execution_count": 109,
   "id": "2f94abd0-13a3-4353-a4cf-a006531c932a",
   "metadata": {},
   "outputs": [
    {
     "data": {
      "text/plain": [
       "(10.0, 15.0)"
      ]
     },
     "execution_count": 109,
     "metadata": {},
     "output_type": "execute_result"
    }
   ],
   "source": [
    "def make_average():\n",
    "    nums = []\n",
    "    def average(n):\n",
    "        nums.append(n)\n",
    "        return sum(nums)/len(nums)\n",
    "    return average\n",
    "average = make_average()\n",
    "average(10),average(20)"
   ]
  },
  {
   "cell_type": "code",
   "execution_count": 110,
   "id": "e1be1c4b-97c3-40b2-b4b1-d442deeea8ca",
   "metadata": {},
   "outputs": [
    {
     "data": {
      "text/plain": [
       "121"
      ]
     },
     "execution_count": 110,
     "metadata": {},
     "output_type": "execute_result"
    }
   ],
   "source": [
    "# 装饰器\n",
    "# 希望计算前打印开始计算，计算结束后打印计算完毕\n",
    "def add(a,b):\n",
    "    r = a+b\n",
    "    return r\n",
    "\n",
    "def mul(a,b):\n",
    "    r = a*b\n",
    "    return r\n",
    "\n",
    "r = mul(11,11)\n",
    "r"
   ]
  },
  {
   "cell_type": "code",
   "execution_count": 111,
   "id": "90fcfac3-8df4-49d0-8b11-3ef5e0a51081",
   "metadata": {},
   "outputs": [
    {
     "name": "stdout",
     "output_type": "stream",
     "text": [
      "函数开始执行\n",
      "I am fn\n",
      "函数执行结束\n"
     ]
    }
   ],
   "source": [
    "def fn():\n",
    "    print('I am fn')\n",
    "def fn2():\n",
    "    print('函数开始执行')\n",
    "    fn()\n",
    "    print('函数执行结束')\n",
    "fn2()"
   ]
  },
  {
   "cell_type": "code",
   "execution_count": 112,
   "id": "2fd5f388-b055-4de1-81dd-690ffd6af5e9",
   "metadata": {},
   "outputs": [
    {
     "name": "stdout",
     "output_type": "stream",
     "text": [
      "函数开始执行\n",
      "函数执行结束\n"
     ]
    },
    {
     "data": {
      "text/plain": [
       "3"
      ]
     },
     "execution_count": 112,
     "metadata": {},
     "output_type": "execute_result"
    }
   ],
   "source": [
    "def new_add(a,b):\n",
    "    print('函数开始执行')\n",
    "    r = add(a,b)\n",
    "    print('函数执行结束')\n",
    "    return r\n",
    "new_add(1,2)"
   ]
  },
  {
   "cell_type": "code",
   "execution_count": 113,
   "id": "dc35bb80-bfb3-4cbf-99ea-15dcd870282b",
   "metadata": {},
   "outputs": [
    {
     "name": "stdout",
     "output_type": "stream",
     "text": [
      "函数开始执行\n",
      "函数执行结束\n"
     ]
    },
    {
     "data": {
      "text/plain": [
       "3"
      ]
     },
     "execution_count": 113,
     "metadata": {},
     "output_type": "execute_result"
    }
   ],
   "source": [
    "def begin_end(old):\n",
    "    def new_function(a,b):\n",
    "        print('函数开始执行')\n",
    "        result = old(a,b)\n",
    "        print('函数执行结束')\n",
    "        return result\n",
    "    return new_function\n",
    "f = begin_end(add)\n",
    "f(1,2)"
   ]
  },
  {
   "cell_type": "code",
   "execution_count": 114,
   "id": "ada1b262-466a-4c44-ba8f-13e413a60bdb",
   "metadata": {},
   "outputs": [
    {
     "name": "stdout",
     "output_type": "stream",
     "text": [
      "函数开始执行\n",
      "函数执行结束\n"
     ]
    },
    {
     "data": {
      "text/plain": [
       "3"
      ]
     },
     "execution_count": 114,
     "metadata": {},
     "output_type": "execute_result"
    }
   ],
   "source": [
    "# 装饰器\n",
    "def begin_end(old):\n",
    "    def new_function(*args, **kwarg):\n",
    "        print('函数开始执行')\n",
    "        result = old(*args, **kwarg)\n",
    "        print('函数执行结束')\n",
    "        return result\n",
    "    return new_function\n",
    "f = begin_end(add)\n",
    "f(1,2)"
   ]
  },
  {
   "cell_type": "code",
   "execution_count": 115,
   "id": "02e8ddc7-7698-4130-98be-973266c2eebf",
   "metadata": {},
   "outputs": [
    {
     "name": "stdout",
     "output_type": "stream",
     "text": [
      "函数开始执行\n",
      "I am fn\n",
      "函数执行结束\n"
     ]
    }
   ],
   "source": [
    "f = begin_end(fn)\n",
    "f()"
   ]
  },
  {
   "cell_type": "code",
   "execution_count": 116,
   "id": "274e43bc-1b2f-4c0f-88cf-5c92c600d7bb",
   "metadata": {},
   "outputs": [
    {
     "name": "stdout",
     "output_type": "stream",
     "text": [
      "函数开始执行\n",
      "hello!\n",
      "函数执行结束\n"
     ]
    }
   ],
   "source": [
    "@begin_end\n",
    "def say_hello():\n",
    "    print('hello!')\n",
    "say_hello()"
   ]
  },
  {
   "cell_type": "code",
   "execution_count": 117,
   "id": "8e8f6e13-e4f8-4401-aec4-d121bc75782a",
   "metadata": {},
   "outputs": [
    {
     "name": "stdout",
     "output_type": "stream",
     "text": [
      "fn3函数开始执行\n",
      "函数开始执行\n",
      "hello!\n",
      "函数执行结束\n",
      "fn3函数执行结束\n"
     ]
    }
   ],
   "source": [
    "def fn3(old):\n",
    "    def new_function(*args, **kwarg):\n",
    "        print('fn3函数开始执行')\n",
    "        result = old(*args, **kwarg)\n",
    "        print('fn3函数执行结束')\n",
    "        return result\n",
    "    return new_function\n",
    "\n",
    "@fn3\n",
    "@begin_end\n",
    "def say_hello():\n",
    "    print('hello!')\n",
    "say_hello()"
   ]
  },
  {
   "cell_type": "markdown",
   "id": "9536bf52-48d0-43c6-b2f1-e8cff90884af",
   "metadata": {},
   "source": [
    "# 7.对象（Object）\n",
    "    对象由三部分组成\n",
    "        标识（id）\n",
    "        类型（type）\n",
    "        值（value）\n",
    "        \n",
    "## 7.1面向对象 (oop)\n",
    "    python是一门面向对象的语言\n",
    "    面向对象语言：所有操作都是通过对象来进行\n",
    "    面向过程\n",
    "        指将我们的程序的逻辑分解为一个一个的步骤，通过对每个步骤的抽象，来完成程序\n",
    "        例子：孩子上学\n",
    "            1.妈妈起床\n",
    "            2.妈妈上厕所\n",
    "            3.妈妈洗漱\n",
    "            4.妈妈做早饭\n",
    "            5.妈妈叫孩子起床\n",
    "            6.孩子上厕所\n",
    "            7.孩子洗漱\n",
    "            8.孩子吃饭\n",
    "            9.孩子背着书包上学校\n",
    "        优点：\n",
    "            符合人类思维\n",
    "            编写简单\n",
    "        这种方式编写代码往往只适用于一个功能\n",
    "            如果要在事先别的功能，往往要重新写代码，可复用性比较低\n",
    "    面向对象的编程语言\n",
    "        关注的是对象，而不是过程\n",
    "        对于面向对象语言来说，一切都是对象\n",
    "        例子：孩子上学\n",
    "            1.孩子他妈叫孩子上学\n",
    "            对象：妈妈\n",
    "    面向对象思想：\n",
    "        1.找对象\n",
    "        2.搞对象\n",
    "## 7.2类（class）\n",
    "    内置对象\n",
    "    自定义对象\n",
    "    我们也称对象是类的实例（instance）\n",
    "    如果对象是通过一个类创建的，我们称这些对象是一类对象\n",
    "    类：int() float() bool() str() list() dict()\n",
    "    \n",
    "    自定义类使用大写字母开头，使用大驼峰命名法\n",
    "    \n",
    "    类的定义：\n",
    "        类和对象都是对现实生活中或程序中的内容的抽象\n",
    "        1.属性\n",
    "        2.方法\n",
    "\n",
    "## 7.3类的特殊方法init\n",
    "    特殊方法： __开头，__结尾（魔术方法）\n",
    "        不需要自己调用\n",
    "        \n",
    "## 7.4面向对象的三大特性：封装、继承、多态\n",
    "    封装：隐藏对象中一些不希望被外部所访问到的属性或方法\n",
    "        如何获取（修改）对象中的属性？\n",
    "            提供一个getter和setter方法使外部可以访问到属性\n",
    "                getter 获取对象中的指定属性（get_属性名）\n",
    "                setter 用来设置对象的指定属性（set_属性名）\n",
    "        隐藏属性：__属性\n",
    "            隐藏属性是不过是python自动为属性改了一个名字\n",
    "            实际名字改为 _类名__属性名 比如 __name -> _Person__name\n",
    "            其实用了和没用一样，一般不用，一般将一些私有属性以_开头 \n",
    "    装饰器 property\n",
    "        用来将一个get方法，转换为对象的属性\n",
    "        添加property装饰器以后，我们就可以调用属性一样使用get方法\n",
    "        使用property装饰器的方法，必须和属性名是一样的\n",
    "    装饰器 setter\n",
    "        setter方法的装饰器：@属性名.setter\n",
    "        使用sette前必须先使用property\n",
    "    \n",
    "    继承：\n",
    "        基类 超类 父类\n",
    "        子类 衍生类\n",
    "            在创建类时，如果省略了父类（没有括号），则默认父类为object\n",
    "                object是所有类的父类，所有类都继承自object\n",
    "            issubclass()\n",
    "            重写：\n",
    "                如果在子类中有和父类同名的方法，则通过子类实例去调用方法时，\n",
    "                回调用子类的方法而不是父类的方法，称为方法的重写（覆盖，override）\n",
    "        super() 可以直接调用父类的__init__来初始化父类中定义的属性\n",
    "        类名.__bases__ 这个属性可以用来获取当前类的所有父类\n",
    "        多重继承\n",
    "            可以为一个类同时指定多个父类\n",
    "            开发时尽量避免多重继承\n",
    "\n",
    "    多态：一个对象可以以不同的形态去呈现\n",
    "        特殊方法 __len__，可以轻松扩展\n",
    "        \n",
    "    总结：\n",
    "        封装：确保了对象中的数据安全\n",
    "        继承：保证了对象的可扩展性\n",
    "        多态：保证了程序的灵活性"
   ]
  },
  {
   "cell_type": "code",
   "execution_count": 118,
   "id": "20a77e7c-5c83-4343-a042-e793639b76ff",
   "metadata": {},
   "outputs": [
    {
     "data": {
      "text/plain": [
       "(10, 'hello', int, str)"
      ]
     },
     "execution_count": 118,
     "metadata": {},
     "output_type": "execute_result"
    }
   ],
   "source": [
    "a = int(10)\n",
    "b = str('hello')\n",
    "a,b,type(a),type(b)"
   ]
  },
  {
   "cell_type": "code",
   "execution_count": 119,
   "id": "4d3bafd8-0ffc-4eb3-8d6f-d5e59a090a87",
   "metadata": {},
   "outputs": [
    {
     "data": {
      "text/plain": [
       "(True, False)"
      ]
     },
     "execution_count": 119,
     "metadata": {},
     "output_type": "execute_result"
    }
   ],
   "source": [
    "# 检查一个对象是否是一个类的实例\n",
    "class MyClass():\n",
    "    pass\n",
    "mc1 = MyClass()\n",
    "isinstance(mc1,MyClass),isinstance(mc1,str)"
   ]
  },
  {
   "cell_type": "code",
   "execution_count": 120,
   "id": "c8e39adc-c512-444d-a0b7-b03d31f290e2",
   "metadata": {},
   "outputs": [],
   "source": [
    "class MyClass:\n",
    "    pass\n",
    "\n",
    "mc1 = MyClass()"
   ]
  },
  {
   "cell_type": "code",
   "execution_count": 121,
   "id": "13ee3dba-65cf-4a74-8f59-776eb7426619",
   "metadata": {},
   "outputs": [
    {
     "data": {
      "text/plain": [
       "'孙悟空'"
      ]
     },
     "execution_count": 121,
     "metadata": {},
     "output_type": "execute_result"
    }
   ],
   "source": [
    "mc1.name = '孙悟空'\n",
    "mc1.name"
   ]
  },
  {
   "cell_type": "code",
   "execution_count": 122,
   "id": "e569adab-6ffb-45e3-bd8e-d81a258fe9b7",
   "metadata": {},
   "outputs": [
    {
     "name": "stdout",
     "output_type": "stream",
     "text": [
      "init hello\n",
      "hello\n",
      "init hello\n",
      "hello\n"
     ]
    }
   ],
   "source": [
    "class Person:\n",
    "    def __init__(self):\n",
    "        print('init hello')\n",
    "    name = 'swk'\n",
    "    def say_hello(a):\n",
    "        print('hello')\n",
    "        \n",
    "pl = Person()\n",
    "pl.say_hello()\n",
    "p2 = Person()\n",
    "p2.say_hello()"
   ]
  },
  {
   "cell_type": "code",
   "execution_count": 123,
   "id": "1f0c33b8-22f1-4ff9-9d13-b467a5b3a187",
   "metadata": {},
   "outputs": [
    {
     "name": "stdout",
     "output_type": "stream",
     "text": [
      "init hello\n",
      "hello 猪八戒\n",
      "init hello\n",
      "hello 孙悟空\n"
     ]
    }
   ],
   "source": [
    "class Person:\n",
    "    def __init__(self,name):\n",
    "        self.name = name\n",
    "        print('init hello')\n",
    "    name = 'swk'\n",
    "    def say_hello(self):\n",
    "        print('hello',self.name)\n",
    "        \n",
    "pl = Person('猪八戒')\n",
    "pl.say_hello()\n",
    "p2 = Person('孙悟空')\n",
    "p2.say_hello()"
   ]
  },
  {
   "cell_type": "code",
   "execution_count": 124,
   "id": "c70ac237-381f-4113-a957-6443d4030468",
   "metadata": {},
   "outputs": [
    {
     "name": "stdout",
     "output_type": "stream",
     "text": [
      "旺财,快乐的奔跑~~~\n"
     ]
    }
   ],
   "source": [
    "# 自定义类 狗 Dog\n",
    "# 属性：\n",
    "#     name age gender height\n",
    "# 方法：\n",
    "#     jiao() yao() run()\n",
    "class Dog():\n",
    "    def __init__(self,name, age, gender, height):\n",
    "        self.name = name\n",
    "        self.age = age\n",
    "        self.gender = gender\n",
    "        self.height = height\n",
    "    \n",
    "    def jiao(self):\n",
    "        print('汪汪汪~~~')\n",
    "        \n",
    "    def yao(self):\n",
    "        print('我咬你~~~')    \n",
    "        \n",
    "    def run(self):\n",
    "        print('%s,快乐的奔跑~~~'%self.name)\n",
    "        \n",
    "dog = Dog('旺财',18,'male',30)\n",
    "dog.run()"
   ]
  },
  {
   "cell_type": "code",
   "execution_count": 125,
   "id": "c3783c7b-841a-4a8c-bafc-110124a1f7ac",
   "metadata": {},
   "outputs": [
    {
     "name": "stdout",
     "output_type": "stream",
     "text": [
      "旺财,快乐的奔跑~~~\n",
      "大家好，我是旺财\n",
      "大家好，我是小黑\n"
     ]
    }
   ],
   "source": [
    "class Dog():\n",
    "    def __init__(self,name, age, gender, height):\n",
    "        self.hidden_name = name\n",
    "        self.hidden_age = age\n",
    "        self.gender = gender\n",
    "        self.height = height\n",
    "    \n",
    "    def jiao(self):\n",
    "        print('汪汪汪~~~')\n",
    "        \n",
    "    def yao(self):\n",
    "        print('我咬你~~~')    \n",
    "        \n",
    "    def run(self):\n",
    "        print('%s,快乐的奔跑~~~'%self.hidden_name)\n",
    "     \n",
    "    def say_hello(self):\n",
    "        print('大家好，我是%s'% self.hidden_name)\n",
    "        \n",
    "    def get_name(self):\n",
    "        return self.hidden_name\n",
    "    def set_name(self, name):\n",
    "        self.hidden_name = name\n",
    "    def set_age(self, age):\n",
    "        if age >0:\n",
    "            self.hidden_age = age\n",
    "        \n",
    "dog = Dog('旺财',18,'male',30)\n",
    "dog.run()\n",
    "dog.say_hello()\n",
    "dog.set_name('小黑')\n",
    "dog.say_hello()"
   ]
  },
  {
   "cell_type": "code",
   "execution_count": 126,
   "id": "b4709076-18f3-451d-83fe-82c3006d033f",
   "metadata": {},
   "outputs": [
    {
     "data": {
      "text/plain": [
       "30"
      ]
     },
     "execution_count": 126,
     "metadata": {},
     "output_type": "execute_result"
    }
   ],
   "source": [
    "class Rectangle:\n",
    "    '''\n",
    "        表示矩形的类\n",
    "    '''\n",
    "    def __init__(self, width, height):\n",
    "        self.width = width\n",
    "        self.height = height\n",
    "        \n",
    "    def get_width(self):\n",
    "        return self.width\n",
    "    \n",
    "    def set_width(self, width):\n",
    "        self.width = width\n",
    "        \n",
    "    def get_height(self):\n",
    "        return self.height\n",
    "    \n",
    "    def set_height(self, height):\n",
    "        self.height = height\n",
    "    \n",
    "    def get_area(self):\n",
    "        return self.width*self.height\n",
    "    \n",
    "r = Rectangle(5,6)\n",
    "r.get_area()"
   ]
  },
  {
   "cell_type": "code",
   "execution_count": 127,
   "id": "53c34448-83c2-4625-8855-2ef2a146f0a2",
   "metadata": {},
   "outputs": [
    {
     "name": "stdout",
     "output_type": "stream",
     "text": [
      "猪八戒\n",
      "猪八戒\n",
      "孙悟空\n"
     ]
    }
   ],
   "source": [
    "class Person:\n",
    "    def __init__(self, name):\n",
    "        self.__hidden_name = name\n",
    "        \n",
    "    def get_name(self):\n",
    "        return self.__hidden_name\n",
    "    \n",
    "    def set_name(self, name):\n",
    "        self.__hidden_name = name\n",
    "        \n",
    "p = Person('孙悟空')\n",
    "p.set_name('猪八戒')\n",
    "print(p.get_name())\n",
    "p.__hidden_name = '孙悟空'\n",
    "print(p.get_name())\n",
    "p._Person__hidden_name = '孙悟空'\n",
    "print(p.get_name())"
   ]
  },
  {
   "cell_type": "code",
   "execution_count": 128,
   "id": "2b838ab3-1dc4-4285-9de9-c928cf7c4e7d",
   "metadata": {},
   "outputs": [
    {
     "name": "stdout",
     "output_type": "stream",
     "text": [
      "get方法执行了\n",
      "猪八戒\n"
     ]
    }
   ],
   "source": [
    "class Person:\n",
    "    def __init__(self, name):\n",
    "        self._name = name\n",
    "    \n",
    "    @property\n",
    "    def name(self):\n",
    "        print('get方法执行了')\n",
    "        return self._name\n",
    "        \n",
    "    @property\n",
    "    def age(self):\n",
    "        print('get方法执行了')\n",
    "        return self._age\n",
    "    \n",
    "    @name.setter\n",
    "    def name(self, name):\n",
    "        self._name = name\n",
    "    \n",
    "    @name.setter\n",
    "    def age(self, age):\n",
    "        self._age = age\n",
    "        \n",
    "p = Person('猪八戒')\n",
    "print(p.name)"
   ]
  },
  {
   "cell_type": "code",
   "execution_count": 129,
   "id": "356189a9-cd05-4d29-b1da-69b514525c62",
   "metadata": {},
   "outputs": [
    {
     "name": "stdout",
     "output_type": "stream",
     "text": [
      "get方法执行了\n",
      "get方法执行了\n",
      "孙悟空 孙悟空\n"
     ]
    }
   ],
   "source": [
    "p.name = '孙悟空'\n",
    "p.age = 18\n",
    "print(p.name,p.age)"
   ]
  },
  {
   "cell_type": "code",
   "execution_count": 130,
   "id": "e2266dc3-c7ab-4926-aa27-87c90d62afda",
   "metadata": {},
   "outputs": [
    {
     "name": "stdout",
     "output_type": "stream",
     "text": [
      "动物会跑\n",
      "动物嚎叫\n",
      "傻傻的\n"
     ]
    }
   ],
   "source": [
    "# 继承\n",
    "class Animal:\n",
    "    def run(self):\n",
    "        print('动物会跑')\n",
    "        \n",
    "    def sleep(self):\n",
    "        print('动物睡觉')\n",
    "\n",
    "class Dog(Animal):\n",
    "    def bark(self):\n",
    "        print('动物嚎叫')\n",
    "\n",
    "class Hashiqi(Dog):\n",
    "    def fangsha(self):\n",
    "        print('傻傻的')\n",
    "dog = Dog()\n",
    "dog.run()\n",
    "dog.bark()\n",
    "\n",
    "h = Hashiqi()\n",
    "h.fangsha()"
   ]
  },
  {
   "cell_type": "code",
   "execution_count": 131,
   "id": "aaa2e9a5-a299-46c3-b185-614b111fbfb3",
   "metadata": {},
   "outputs": [
    {
     "data": {
      "text/plain": [
       "(True, True)"
      ]
     },
     "execution_count": 131,
     "metadata": {},
     "output_type": "execute_result"
    }
   ],
   "source": [
    "isinstance(dog,Dog),isinstance(dog,Animal)"
   ]
  },
  {
   "cell_type": "code",
   "execution_count": 132,
   "id": "fe86ef08-7a94-41f8-894f-76bdd12c2176",
   "metadata": {},
   "outputs": [
    {
     "data": {
      "text/plain": [
       "(True, True, False)"
      ]
     },
     "execution_count": 132,
     "metadata": {},
     "output_type": "execute_result"
    }
   ],
   "source": [
    "issubclass(Dog,object),issubclass(Dog,Animal),issubclass(Animal,Dog),"
   ]
  },
  {
   "cell_type": "code",
   "execution_count": 133,
   "id": "3c4368d4-1c0f-4b6d-aff0-329e098ea44d",
   "metadata": {},
   "outputs": [
    {
     "name": "stdout",
     "output_type": "stream",
     "text": [
      "CCC\n"
     ]
    }
   ],
   "source": [
    "class A(object):\n",
    "    def test(self):\n",
    "        print('AAA')\n",
    "class B(A):\n",
    "    def test(self):\n",
    "        print('BBB')\n",
    "class C(B):\n",
    "    def test(self):\n",
    "        print('CCC')\n",
    "c = C()\n",
    "c.test()"
   ]
  },
  {
   "cell_type": "code",
   "execution_count": 134,
   "id": "839edd30-d314-4e29-bc6c-d59c4d020f4b",
   "metadata": {},
   "outputs": [
    {
     "name": "stdout",
     "output_type": "stream",
     "text": [
      "动物嚎叫\n",
      "旺财 17\n",
      "小黑 18\n"
     ]
    }
   ],
   "source": [
    "# 继承\n",
    "class Animal:\n",
    "    def __init__(self, name):\n",
    "        self._name = name\n",
    "        \n",
    "    def run(self):\n",
    "        print('动物会跑')\n",
    "        \n",
    "    def sleep(self):\n",
    "        print('动物睡觉')\n",
    "    \n",
    "    @property\n",
    "    def name(self):\n",
    "        return self._name\n",
    "    \n",
    "    @name.setter\n",
    "    def name(self, name):\n",
    "        self._name = name\n",
    "        \n",
    "class Dog(Animal):\n",
    "    def __init__(self, name, age):\n",
    "        self._name = name\n",
    "        self._age = age\n",
    "    \n",
    "    @property\n",
    "    def age(self):\n",
    "        return self._age\n",
    "    \n",
    "    @age.setter\n",
    "    def age(self, age):\n",
    "        self._age = age   \n",
    "        \n",
    "    def bark(self):\n",
    "        print('动物嚎叫')\n",
    "\n",
    "dog = Dog('旺财',17)\n",
    "dog.bark()\n",
    "print(dog.name, dog.age)\n",
    "dog.name = '小黑'\n",
    "dog.age = 18\n",
    "print(dog.name, dog.age)"
   ]
  },
  {
   "cell_type": "code",
   "execution_count": 135,
   "id": "b034cd14-60e3-4dc8-a334-bf65677db52c",
   "metadata": {},
   "outputs": [
    {
     "name": "stdout",
     "output_type": "stream",
     "text": [
      "动物嚎叫\n",
      "旺财 17\n"
     ]
    }
   ],
   "source": [
    "# 继承\n",
    "class Animal:\n",
    "    def __init__(self, name):\n",
    "        self._name = name\n",
    "        \n",
    "    def run(self):\n",
    "        print('动物会跑')\n",
    "        \n",
    "    def sleep(self):\n",
    "        print('动物睡觉')\n",
    "    \n",
    "    @property\n",
    "    def name(self):\n",
    "        return self._name\n",
    "    \n",
    "    @name.setter\n",
    "    def name(self, name):\n",
    "        self._name = name\n",
    "        \n",
    "class Dog(Animal):\n",
    "    def __init__(self, age):\n",
    "        self._age = age\n",
    "    \n",
    "    @property\n",
    "    def age(self):\n",
    "        return self._age\n",
    "    \n",
    "    @age.setter\n",
    "    def age(self, age):\n",
    "        self._age = age   \n",
    "        \n",
    "    def bark(self):\n",
    "        print('动物嚎叫')\n",
    "        \n",
    "dog = Dog(17)\n",
    "dog.bark()\n",
    "dog.name = '旺财'\n",
    "print(dog.name, dog.age)"
   ]
  },
  {
   "cell_type": "code",
   "execution_count": 136,
   "id": "88a5fec6-012f-490e-8baf-58ff6921d7c7",
   "metadata": {},
   "outputs": [
    {
     "name": "stdout",
     "output_type": "stream",
     "text": [
      "动物嚎叫\n",
      "旺财 17\n"
     ]
    }
   ],
   "source": [
    "# 继承\n",
    "class Animal:\n",
    "    def __init__(self, name):\n",
    "        self._name = name\n",
    "        \n",
    "    def run(self):\n",
    "        print('动物会跑')\n",
    "        \n",
    "    def sleep(self):\n",
    "        print('动物睡觉')\n",
    "    \n",
    "    @property\n",
    "    def name(self):\n",
    "        return self._name\n",
    "    \n",
    "    @name.setter\n",
    "    def name(self, name):\n",
    "        self._name = name\n",
    "        \n",
    "class Dog(Animal):\n",
    "    def __init__(self, name, age):\n",
    "        super().__init__(name)\n",
    "        self._age = age\n",
    "    \n",
    "    @property\n",
    "    def age(self):\n",
    "        return self._age\n",
    "    \n",
    "    @age.setter\n",
    "    def age(self, age):\n",
    "        self._age = age   \n",
    "        \n",
    "    def bark(self):\n",
    "        print('动物嚎叫')\n",
    "        \n",
    "dog = Dog('旺财',17)\n",
    "dog.bark()\n",
    "dog.name = '旺财'\n",
    "print(dog.name, dog.age)"
   ]
  },
  {
   "cell_type": "code",
   "execution_count": 137,
   "id": "140244dc-dcea-495e-be0e-ce194175ac03",
   "metadata": {},
   "outputs": [
    {
     "data": {
      "text/plain": [
       "((__main__.B,), (object,))"
      ]
     },
     "execution_count": 137,
     "metadata": {},
     "output_type": "execute_result"
    }
   ],
   "source": [
    "class A(object):\n",
    "    def test(self):\n",
    "        print('AAA')\n",
    "class B(object):\n",
    "    def test(self):\n",
    "        print('BBB')\n",
    "class C(B):\n",
    "    def test(self):\n",
    "        print('CCC')\n",
    "C.__bases__,B.__bases__"
   ]
  },
  {
   "cell_type": "code",
   "execution_count": 138,
   "id": "6fadc5dd-e270-4a4f-b3df-1ceb32fe066d",
   "metadata": {},
   "outputs": [
    {
     "name": "stdout",
     "output_type": "stream",
     "text": [
      "AAA\n"
     ]
    },
    {
     "data": {
      "text/plain": [
       "((__main__.A, __main__.B), (object,))"
      ]
     },
     "execution_count": 138,
     "metadata": {},
     "output_type": "execute_result"
    }
   ],
   "source": [
    "class A(object):\n",
    "    def test(self):\n",
    "        print('AAA')\n",
    "class B(object):\n",
    "    def test(self):\n",
    "        print('BBB')\n",
    "class C(A, B):\n",
    "    # def test(self):\n",
    "    #     print('CCC')\n",
    "    pass\n",
    "c = C()\n",
    "c.test()\n",
    "C.__bases__,B.__bases__"
   ]
  },
  {
   "cell_type": "code",
   "execution_count": 139,
   "id": "f2c88f7d-8dd3-4233-9fcc-ddf0953152d2",
   "metadata": {},
   "outputs": [
    {
     "name": "stdout",
     "output_type": "stream",
     "text": [
      "你好 猪八戒\n"
     ]
    },
    {
     "data": {
      "text/plain": [
       "10"
      ]
     },
     "execution_count": 139,
     "metadata": {},
     "output_type": "execute_result"
    }
   ],
   "source": [
    "class A:\n",
    "    def __init__(self, name):\n",
    "        self._name = name\n",
    "        \n",
    "    @property\n",
    "    def name(self):\n",
    "        return self._name\n",
    "    \n",
    "    @name.setter\n",
    "    def name(self, name):\n",
    "        self._name = name\n",
    "        \n",
    "class B:\n",
    "    def __init__(self, name):\n",
    "        self._name = name\n",
    "    def __len__(self):\n",
    "        return 10\n",
    "    @property\n",
    "    def name(self):\n",
    "        return self._name\n",
    "    \n",
    "    @name.setter\n",
    "    def name(self, name):\n",
    "        self._name = name\n",
    "class C:\n",
    "    pass\n",
    "\n",
    "a = A('猪八戒')\n",
    "b = B('孙悟空')\n",
    "\n",
    "def say_hello(obj):\n",
    "    print('你好 %s' % obj.name)\n",
    "    \n",
    "say_hello(a)\n",
    "len(b)"
   ]
  },
  {
   "cell_type": "markdown",
   "id": "3c8e261e-bd44-4764-b5dc-a4d984de0945",
   "metadata": {},
   "source": [
    "## 7.5类中的属性和方法\n",
    "    类属性：直接在类中定义的属性\n",
    "        类属性只能通过类对象来修改，无法通过实例对象修改\n",
    "    实例属性：通过实例对象添加的属性属于实例属性\n",
    "        实例属性只能通过实例对象来访问和修改，类对象无法访问修改\n",
    "    \n",
    "    实例方法：以self作为第一个参数的方法都是实例方法   \n",
    "        实例方法可以通过实例和类去调用\n",
    "            当通过实例调用时，会自动将当前调用对象作为self传入\n",
    "            当通过类调用时，不会自动传递self，此时需要手动传递self\n",
    "        实例方法在调用时，python会将当前调用对象作为self传入\n",
    "    类方法：\n",
    "        在类内部使用 @classmethod 来修饰的方法\n",
    "        类方法的第一个参数是cls，也会被自动传递，cls就是当前的类对象\n",
    "        \n",
    "    类方法与实例方法区别：\n",
    "        类方法第一个参数是cls，实例方法第一个参数是self\n",
    "        类方法可以通过类去调用，也可以通过实例去调用，没有区别\n",
    "        \n",
    "    静态方法\n",
    "        在类中使用 @staticmethod 来修饰的方法\n",
    "        静态方法不需要指定任何默认参数，静态方法可以通过类和实例去调用\n",
    "        静态方法，基本上是一个和当前类无关的方法，只是一个保存到当前类中的函数\n",
    "        静态方法一般是一个工具方法，和当前类无关\n",
    "        \n",
    "## 7.6垃圾回收\n",
    "    没有被引用时，成为垃圾\n",
    "    python 自动垃圾回收机制，不需要手动处理\n",
    "    特殊方法：__del__\n",
    "\n",
    "## 7.7特殊方法（魔术方法）\n",
    "    特殊方法都是使用__开头和结尾的\n",
    "    特殊方法不需要手动调用，需要在一些特殊情况下自动执行\n",
    "    __new__()\n",
    "    __init__()\n",
    "    __del__()\n",
    "    __str__() 打印对象\n",
    "        会在尝试将对象转换为字符串的时候调用\n",
    "        它的作用可以用来指定对象转换为字符串的结果\n",
    "    __repr__()\n",
    "        会在对当前对象使用repr()函数时调用\n",
    "        他的作用是指定对象在 “交互模式”中直接输出的效果\n",
    "    比较\n",
    "        object.__lt__(self, other) 小于\n",
    "        object.__le__(self, other) 小于等于\n",
    "        object.__eq__(self, other) 等于\n",
    "        object.__ne__(self, other) 不等于\n",
    "        object.__gt__(self, other) 大于\n",
    "        object.__ge__(self, other) 大于等于\n",
    "    __bool__()\n",
    "    运算\n",
    "        object.__add__(self, other) 等等"
   ]
  },
  {
   "cell_type": "code",
   "execution_count": 140,
   "id": "e8582602-5939-44d6-b457-04a945e8eaf0",
   "metadata": {},
   "outputs": [
    {
     "name": "stdout",
     "output_type": "stream",
     "text": [
      "10\n",
      "100\n",
      "AAA\n",
      "AAA\n",
      "这是test2方法,是类方法 <class '__main__.A'>\n",
      "100\n",
      "这是test3方法,是静态类\n"
     ]
    }
   ],
   "source": [
    "class A:\n",
    "    count = 10\n",
    "    def __init__(self, name):\n",
    "        self._name = name\n",
    "        \n",
    "    @property\n",
    "    def name(self):\n",
    "        return self._name\n",
    "    \n",
    "    @name.setter\n",
    "    def name(self, name):\n",
    "        self._name = name\n",
    "        \n",
    "    def test(self):\n",
    "        print('AAA')\n",
    "    @classmethod\n",
    "    def test2(cls):\n",
    "        print('这是test2方法,是类方法',cls)\n",
    "        print(cls.count)\n",
    "    @staticmethod\n",
    "    def test3():\n",
    "        print('这是test3方法,是静态类')\n",
    "        \n",
    "a = A('孙悟空')\n",
    "print(a.count)\n",
    "A.count = 100\n",
    "print(a.count)\n",
    "# 两种等价\n",
    "a.test()\n",
    "A.test(a)\n",
    "a.test2()\n",
    "a.test3()"
   ]
  },
  {
   "cell_type": "code",
   "execution_count": 141,
   "id": "dcd6a4c2-6142-4f19-8052-66f7d7857290",
   "metadata": {},
   "outputs": [
    {
     "name": "stdout",
     "output_type": "stream",
     "text": [
      "A class\n",
      "delete A class\n"
     ]
    }
   ],
   "source": [
    "# 垃圾回收\n",
    "class A:\n",
    "    def __init__(self):\n",
    "        self.name = 'A class'\n",
    "    \n",
    "    def __del__(self):\n",
    "        print('delete A class')\n",
    "a = A()\n",
    "print(a.name)\n",
    "a = None"
   ]
  },
  {
   "cell_type": "code",
   "execution_count": 142,
   "id": "069a9a96-bb39-4d58-aaeb-12dff1a60d5c",
   "metadata": {},
   "outputs": [
    {
     "name": "stdout",
     "output_type": "stream",
     "text": [
      "A class\n"
     ]
    }
   ],
   "source": [
    "a = A()\n",
    "b = a\n",
    "print(a.name)\n",
    "a = None"
   ]
  },
  {
   "cell_type": "code",
   "execution_count": 143,
   "id": "dd890726-87c9-401c-bdc3-aa22106ad03d",
   "metadata": {},
   "outputs": [
    {
     "name": "stdout",
     "output_type": "stream",
     "text": [
      "aaaa\n",
      "hello\n"
     ]
    },
    {
     "data": {
      "text/plain": [
       "(None, None, True, True)"
      ]
     },
     "execution_count": 143,
     "metadata": {},
     "output_type": "execute_result"
    }
   ],
   "source": [
    "class Person(object):\n",
    "    def __init__(self, name, age):\n",
    "        self.name = name\n",
    "        self.age = age\n",
    "        \n",
    "    def __str__(self):\n",
    "        return 'aaaa'\n",
    "    \n",
    "    def __repr__(self):\n",
    "        return 'hello'\n",
    "    \n",
    "    def __gt__(self, other):\n",
    "        return self.age > other.age\n",
    "    \n",
    "    def __bool___(self):\n",
    "        return self.age>17\n",
    "    \n",
    "p1 = Person('猪八戒', 18)\n",
    "p2 = Person('孙悟空',19)\n",
    "print(p1),print(repr(p2)), p1<p2, bool(p1)"
   ]
  },
  {
   "cell_type": "markdown",
   "id": "3621af8e-1ad6-44c4-9255-58005aee7af5",
   "metadata": {},
   "source": [
    "## 7.8模块（module）\n",
    "    模块化：将一个完整的程序分解为一个一个小的模块，通过模块组合，搭建一个完整的程序\n",
    "    不采用模块化，统一将所有的代码编写到一个文件里\n",
    "    采用模块化，将程序分别编写到多个文件中\n",
    "    优点：\n",
    "        方便开发\n",
    "        方便维护\n",
    "        方便复用\n",
    "    在python中一个py文件就是一个模块\n",
    "    在一个模块中引入外部模块\n",
    "        import\n",
    "        as\n",
    "        from import\n",
    "        import *\n",
    "    每一个模块内部都有一个 __main__属性，通过这个属性可以获取模块的名字\n",
    "    __name__属性值为__main__的模块是主模块，一个程序中只会有一个主模块\n",
    "    \n",
    "    添加了下划线的变量 _变量 ，只能在模块内部访问，在通过import*引入时，不会引入_开头的变量\n",
    "    \n",
    "    判断当前模块是否主模块\n",
    "        if __name__ == '__main__'\n",
    "\n",
    "## 7.9包（package）\n",
    "    包也是模块\n",
    "    当模块中代码过多时，或者一个模块需要分解成多个模块时，这时需要使用包\n",
    "    普通模块是一个py文件，包是一个文件夹\n",
    "    包必须要有一个__init__.py文件，这个文件可以包含包中的主要内容\n",
    "    \n",
    "    __pycache__ 是模块的缓存文件\n",
    "        py文件代码在执行前，需要被解析器先转换为机器码，然后再执行\n",
    "        为提高性能，python会在编译一次以后，将代码保存在一个缓存文件中\n",
    "        \n",
    "## 7.10标准库\n",
    "    开箱即用\n",
    "    sys\n",
    "    pprint"
   ]
  },
  {
   "cell_type": "markdown",
   "id": "74fbb468-210d-4d18-a60a-56885c6f0845",
   "metadata": {},
   "source": [
    "# 8.异常和文件\n",
    "## 8.1异常\n",
    "    出现异常会导致程序中止，异常以后代码不会执行\n",
    "\n",
    "## 8.2异常处理\n",
    "    try:\n",
    "        代码块（可能出现错误的语句）\n",
    "    except:\n",
    "        代码块（出现错误以后的处理方式）\n",
    "    else:\n",
    "        代码块（没出错时要执行的语句）\n",
    "    finally:\n",
    "        代码块（总会执行的语句）\n",
    "## 8.3异常的传播(抛出异常)\n",
    "    ZeroDivisionError\n",
    "    NameError\n",
    "    \n",
    "    try:\n",
    "        代码块（可能出现错误的语句）\n",
    "    except:\n",
    "        如果except后不跟任何内容，则此时它会捕捉到所有的异常\n",
    "        如果except后跟着一个异常的类型，此时他只会捕获该类型的异常\n",
    "        \n",
    "    try是必须的，else可以没有\n",
    "    except和finally必须有一个\n",
    "## 8.4自定义异常\n",
    "    抛出异常的目的：\n",
    "        告诉调用者调用时出现问题，希望你自己处理一下\n",
    "    可以通过 if else 处理异常"
   ]
  },
  {
   "cell_type": "code",
   "execution_count": 144,
   "id": "3206ad48-2271-4788-b7ea-8b647a3ef135",
   "metadata": {},
   "outputs": [
    {
     "name": "stdout",
     "output_type": "stream",
     "text": [
      "hello\n",
      "try\n",
      "hahah\n",
      "你好\n"
     ]
    }
   ],
   "source": [
    "print('hello')\n",
    "try:\n",
    "    print('try')\n",
    "    print(10/0)\n",
    "except:\n",
    "    print('hahah')\n",
    "else:\n",
    "    print('程序正常执行没有错误')\n",
    "print('你好')"
   ]
  },
  {
   "cell_type": "code",
   "execution_count": 145,
   "id": "92e6a25d-aa54-453b-99c4-6b3c03ba45b7",
   "metadata": {},
   "outputs": [
    {
     "name": "stdout",
     "output_type": "stream",
     "text": [
      "try\n",
      "hello fn3\n",
      "hello fn2\n",
      "hello fn\n",
      "hahah\n"
     ]
    }
   ],
   "source": [
    "def fn():\n",
    "    print('hello fn')\n",
    "    print(10/0)\n",
    "def fn2():\n",
    "    print('hello fn2')\n",
    "    fn()\n",
    "def fn3():\n",
    "    print('hello fn3')\n",
    "    fn2()\n",
    "    \n",
    "try:\n",
    "    print('try')\n",
    "    fn3()\n",
    "except:\n",
    "    print('hahah')\n",
    "else:\n",
    "    print('程序正常执行没有错误')"
   ]
  },
  {
   "cell_type": "code",
   "execution_count": 146,
   "id": "b0d219a3-49d5-45c6-be3b-60ef9bc04a80",
   "metadata": {},
   "outputs": [
    {
     "name": "stdout",
     "output_type": "stream",
     "text": [
      "IndexError 父类 unsupported operand type(s) for +: 'int' and 'str' <class 'TypeError'>\n",
      "无论是否有异常，都会执行\n"
     ]
    }
   ],
   "source": [
    "try:\n",
    "    1 + 'hello'\n",
    "    print(10/0)\n",
    "except NameError:\n",
    "    print('NameError')\n",
    "except ZeroDivisionError:\n",
    "    print('ZeroDivisionError')\n",
    "except IndexError:\n",
    "    print('IndexError')\n",
    "# except Exception:\n",
    "#     print('IndexError 父类')\n",
    "except Exception as e:\n",
    "    print('IndexError 父类',e,type(e))\n",
    "finally:\n",
    "    print('无论是否有异常，都会执行')"
   ]
  },
  {
   "cell_type": "code",
   "execution_count": 147,
   "id": "68d9e7cf-eaca-4892-8aff-91ca42759a53",
   "metadata": {},
   "outputs": [],
   "source": [
    "# def add(a,b):\n",
    "#     # 如果a和b中有负数，就向调用处抛出异常\n",
    "#     if a<0 or b<0:\n",
    "#         raise Exception('两个参数不能有参数')\n",
    "#     return a+b\n",
    "\n",
    "# print(add(-123,456))"
   ]
  },
  {
   "cell_type": "code",
   "execution_count": 148,
   "id": "12753253-ddc7-4d26-8b83-b351ab8a70c3",
   "metadata": {},
   "outputs": [],
   "source": [
    "# class MyError(Exception):\n",
    "#     pass\n",
    "\n",
    "# def add(a,b):\n",
    "#     # 如果a和b中有负数，就向调用处抛出异常\n",
    "#     if a<0 or b<0:\n",
    "#         raise MyError('自定义异常')\n",
    "#     return a+b\n",
    "\n",
    "# print(add(-123,456))"
   ]
  },
  {
   "cell_type": "markdown",
   "id": "1721d084-4a84-4568-8083-4d6898a032a2",
   "metadata": {},
   "source": [
    "## 8.5文件\n",
    "    通过python程序对计算机的各种文件进行增删改查的操作\n",
    "    I/O (Input / Output)\n",
    "    操作文件的步骤：\n",
    "        1.打开文件\n",
    "        2.对文件进行各种操作（读、写）然后保存\n",
    "        3.关闭文件\n",
    "    在windows中使用路径，\n",
    "        可以使用使用 / 来代替 \\ ，\n",
    "        或者使用\\\\来代替 \\，\n",
    "        或者使用原始字符串"
   ]
  },
  {
   "cell_type": "code",
   "execution_count": 149,
   "id": "959ea4a2-ff59-42ac-a726-ef2ee9ae212c",
   "metadata": {},
   "outputs": [
    {
     "data": {
      "text/plain": [
       "<_io.TextIOWrapper name='demo.txt' mode='r' encoding='cp936'>"
      ]
     },
     "execution_count": 149,
     "metadata": {},
     "output_type": "execute_result"
    }
   ],
   "source": [
    "# 使用open函数打开文件\n",
    "# 进入子目录\n",
    "# file_name = 'hello\\\\demo.txt'\n",
    "# file_name = r'hello\\demo.txt'\n",
    "# 返回上级目录\n",
    "# file_name = '../hello/demo.txt'\n",
    "# 可以使用绝对目录\n",
    "file_name = 'demo.txt'\n",
    "open(file_name)"
   ]
  },
  {
   "cell_type": "code",
   "execution_count": 150,
   "id": "3e5d79a5-fbd1-4f22-844e-293b7631132a",
   "metadata": {},
   "outputs": [
    {
     "name": "stdout",
     "output_type": "stream",
     "text": [
      "demo\n",
      "123\n",
      "'hello'\n",
      "锄禾日当午\n",
      "汗滴禾下土\n"
     ]
    }
   ],
   "source": [
    "# 关闭文件\n",
    "file_obj = open(file_name, encoding='utf-8')\n",
    "# 返回字符串\n",
    "print(file_obj.read())\n",
    "file_obj.close()"
   ]
  },
  {
   "cell_type": "code",
   "execution_count": 151,
   "id": "bc934df2-15d9-4b98-89b4-06666402e188",
   "metadata": {},
   "outputs": [
    {
     "name": "stdout",
     "output_type": "stream",
     "text": [
      "demo\n",
      "123\n",
      "'hello'\n",
      "锄禾日当午\n",
      "汗滴禾下土\n"
     ]
    }
   ],
   "source": [
    "# with as 语句\n",
    "with open(file_name, encoding='utf-8') as file_obj:\n",
    "    \n",
    "    # 此时这个文件只能在with中使用，一旦with结束则文件会自动close()\n",
    "    print(file_obj.read())"
   ]
  },
  {
   "cell_type": "code",
   "execution_count": 152,
   "id": "ea373fb5-e7e2-4b60-b495-7a14b59e9665",
   "metadata": {},
   "outputs": [
    {
     "name": "stdout",
     "output_type": "stream",
     "text": [
      "demo\n",
      "123\n",
      "'hello'\n",
      "锄禾日当午\n",
      "汗滴禾下土\n"
     ]
    }
   ],
   "source": [
    "try:\n",
    "    with open(file_name, encoding='utf-8') as file_obj:\n",
    "    # 此时这个文件只能在with中使用，一旦with结束则文件会自动close()\n",
    "        print(file_obj.read())\n",
    "except FileNotFoundError:\n",
    "    print(f'{file_name}文件不存在')"
   ]
  },
  {
   "cell_type": "code",
   "execution_count": 153,
   "id": "a41317e2-f55b-4e90-8d43-3af6aa4c6891",
   "metadata": {},
   "outputs": [
    {
     "name": "stdout",
     "output_type": "stream",
     "text": [
      "demo\n",
      "123\n",
      "'hello'\n",
      "锄禾日当午\n",
      "汗滴禾下土\n"
     ]
    }
   ],
   "source": [
    "try:\n",
    "    # 调用open()来打开一个文件，可以将文件分成两种类型\n",
    "    # 一种，是纯文本文件（使用utf-8等编码编写的文本文件）\n",
    "    # 一种，是二进制文件（图片，mp3，ppt等这些文件）\n",
    "    with open(file_name, encoding='utf-8') as file_obj:\n",
    "    # 此时这个文件只能在with中使用，一旦with结束则文件会自动close()\n",
    "        # 较大文件不要直接调用read()\n",
    "        print(file_obj.read())\n",
    "except FileNotFoundError:\n",
    "    print(f'{file_name}文件不存在')"
   ]
  },
  {
   "cell_type": "code",
   "execution_count": 154,
   "id": "ab13a178-fb6a-4915-b1b3-c9af3569a425",
   "metadata": {},
   "outputs": [
    {
     "name": "stdout",
     "output_type": "stream",
     "text": [
      "demo\n",
      "\n",
      "123\n",
      "'hello'\n",
      "\n",
      "['锄禾日当午\\n', '汗滴禾下土']\n"
     ]
    }
   ],
   "source": [
    "# 文件读取\n",
    "with open(file_name, encoding='utf-8') as file_obj:\n",
    "    # 读一行数据\n",
    "    print(file_obj.readline())\n",
    "    print(file_obj.readline(),end='')\n",
    "    print(file_obj.readline())\n",
    "    \n",
    "    # readlines()\n",
    "    # 该方法用于一行一行的读取内容，会一次性将读取到的内容封装到一个列表中返回\n",
    "    r = file_obj.readlines()\n",
    "    print(r)"
   ]
  },
  {
   "cell_type": "code",
   "execution_count": 155,
   "id": "ba9d7da4-c0b3-44f7-8b9a-880e696a81e0",
   "metadata": {},
   "outputs": [
    {
     "name": "stdout",
     "output_type": "stream",
     "text": [
      "8\n",
      "4\n"
     ]
    }
   ],
   "source": [
    "# 写入\n",
    "# mode='w' 可写,文件存在则会截断文件，不存在会创建新文件\n",
    "# mode='r' 只读\n",
    "# mode='a' 追加内容，不存在会创建新文件\n",
    "# x 用来新建文件，文件不存在创建新的文件，存在则报错，避免覆盖\n",
    "# b 读取二进制文件\n",
    "# r+ 即可读，又可写\n",
    "# w+\n",
    "# a+\n",
    "\n",
    "file_name = 'demo1.txt'\n",
    "with open(file_name, mode='w', encoding='utf-8') as file_obj:\n",
    "    file_obj.write('aa\\n')\n",
    "    file_obj.write('bb')\n",
    "    file_obj.write('cc\\n')\n",
    "    r = file_obj.write(str(132)+'sjsjs')\n",
    "    print(r)\n",
    "    r = file_obj.write('天气不错')\n",
    "    print(r)"
   ]
  },
  {
   "cell_type": "code",
   "execution_count": 156,
   "id": "d2b5fba1-443b-49a2-a9c2-2f53b926ae12",
   "metadata": {},
   "outputs": [
    {
     "name": "stdout",
     "output_type": "stream",
     "text": [
      "8\n"
     ]
    }
   ],
   "source": [
    "file_name = 'demo1.txt'\n",
    "with open(file_name, mode='a', encoding='utf-8') as file_obj:\n",
    "    file_obj.write('\\naa\\n')\n",
    "    file_obj.write('bb')\n",
    "    file_obj.write('cc\\n')\n",
    "    r = file_obj.write(str(132)+'sjsjs')\n",
    "    print(r)"
   ]
  },
  {
   "cell_type": "code",
   "execution_count": 157,
   "id": "06c681b8-bd08-4af5-a438-c40c08ecae40",
   "metadata": {},
   "outputs": [
    {
     "name": "stdout",
     "output_type": "stream",
     "text": [
      "b'123\\r\\n456\\r\\n'\n",
      "10\n",
      "b'456\\r\\n789\\r\\n'\n",
      "b'\\xe5\\x95\\xa6'\n",
      "b'\\r\\n\\xe5\\x95\\xa6'\n"
     ]
    }
   ],
   "source": [
    "# 二进制读\n",
    "file_name = 'demo2.txt'\n",
    "with open(file_name, mode='rb') as file_obj:\n",
    "    print(file_obj.read(10))\n",
    "    \n",
    "    # tell() 方法用来查看当前读取的位置\n",
    "    print(file_obj.tell())\n",
    "    \n",
    "    # seek()可以修改当前读取位置\n",
    "        # 两个参数：\n",
    "        # 第一个 切换的位置， \n",
    "        # 第二个 计算位置方式 0 从头计算，默认值 1 从当前位置计算， 2从最后位置开始计算\n",
    "    file_obj.seek(5)\n",
    "    print(file_obj.read(10))\n",
    "    \n",
    "    file_obj.seek(5,1)\n",
    "    print(file_obj.read(10))\n",
    "        \n",
    "    file_obj.seek(-5,2)\n",
    "    print(file_obj.read(10))"
   ]
  },
  {
   "cell_type": "code",
   "execution_count": 158,
   "id": "40de9fa3-4e8a-4a76-9fac-3d376d5d7442",
   "metadata": {},
   "outputs": [
    {
     "name": "stdout",
     "output_type": "stream",
     "text": [
      "['.ipynb_checkpoints',\n",
      " 'demo.txt',\n",
      " 'demo1.txt',\n",
      " 'demo2.txt',\n",
      " 'ExercisePy.ipynb',\n",
      " 'Test_GPU.ipynb',\n",
      " 'Untitled.ipynb',\n",
      " 'Untitled1.ipynb',\n",
      " 'Untitled2.ipynb',\n",
      " 'Untitled3.ipynb',\n",
      " 'Untitled4.ipynb']\n",
      "['CPP', 'Jupyter', 'Matlab', 'Python']\n"
     ]
    },
    {
     "data": {
      "text/plain": [
       "(None, None)"
      ]
     },
     "execution_count": 158,
     "metadata": {},
     "output_type": "execute_result"
    }
   ],
   "source": [
    "import os\n",
    "from pprint import pprint\n",
    "\n",
    "# 获取指定目录，默认为当前目录\n",
    "pprint(os.listdir()),pprint(os.listdir('..'))"
   ]
  },
  {
   "cell_type": "code",
   "execution_count": 159,
   "id": "93c6a9e0-e638-468d-866d-5a504054bd17",
   "metadata": {},
   "outputs": [
    {
     "data": {
      "text/plain": [
       "'D:\\\\Code\\\\Jupyter'"
      ]
     },
     "execution_count": 159,
     "metadata": {},
     "output_type": "execute_result"
    }
   ],
   "source": [
    "# 获取当前所在目录\n",
    "os.getcwd()"
   ]
  },
  {
   "cell_type": "code",
   "execution_count": 160,
   "id": "9778e714-d235-42eb-8cc7-4fd4486e6765",
   "metadata": {},
   "outputs": [],
   "source": [
    "# 切换当前所在目录，相当于cd\n",
    "os.chdir('..')"
   ]
  },
  {
   "cell_type": "code",
   "execution_count": null,
   "id": "da555f01-9a80-4183-807a-c8bd3094785d",
   "metadata": {},
   "outputs": [],
   "source": []
  }
 ],
 "metadata": {
  "kernelspec": {
   "display_name": "Python 3 (ipykernel)",
   "language": "python",
   "name": "python3"
  },
  "language_info": {
   "codemirror_mode": {
    "name": "ipython",
    "version": 3
   },
   "file_extension": ".py",
   "mimetype": "text/x-python",
   "name": "python",
   "nbconvert_exporter": "python",
   "pygments_lexer": "ipython3",
   "version": "3.8.7"
  },
  "vscode": {
   "interpreter": {
    "hash": "96bcdea174900cb78aafae8a02f84d0392e2e8be7fc26b02229870540bf7d98f"
   }
  }
 },
 "nbformat": 4,
 "nbformat_minor": 5
}
