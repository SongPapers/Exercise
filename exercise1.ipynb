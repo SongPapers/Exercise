# exercise
{
 "cells": [
  {
   "cell_type": "markdown",
   "id": "6ac3d9e1-62ec-40a2-87f9-56da803d6308",
   "metadata": {
    "tags": []
   },
"source": [
    "# 0 计算机上基础\n",
    "\n",
    "## 0.1 计算机定义\n",
    "\n",
    "## 0.2 计算机组成\n",
    "    计算机由两个部分组成：硬件、软件\n",
    "\n",
    "## 0.3 计算机的使用方式\n",
    "    通过软件对计算机进行操作\n",
    "\n",
    "## 0.4 windows的命令行\n",
    "    命令行就是文本交互界面\n",
    "\n",
    "    命令行有多个不同的名字：命令行窗口、DOS窗口、命令提示符、CMD窗口、终端、Terminal\n",
    "\n",
    "    常用的DOS命令：\n",
    "\n",
    "    dir  \n",
    "    cd  \n",
    "        cd.  当前目录  \n",
    "        cd.. 上一级目录   \n",
    "    md 创建一个目录  \n",
    "    rd 删除一个目录  \n",
    "    del 删除一个文件  \n",
    "    cls 清除屏幕  \n",
    "## 0.5 环境变量\n",
    "    环境变量指的就是操作系统当中的一些变量\n",
    "## 0.6 path环境变量\n",
    "    path环境变量中保存的是一个一个路径  \n",
    "    当我们在命令中输入一个命令或访问一个文件时， \n",
    "        系统会首先在当前目录寻找  \n",
    "        如果没有找到，则会依次去path  \n",
    "## 0.7进制\n",
    "    十进制\n",
    "    二进制 0 1 \n",
    "        bit 计算机最小单位\n",
    "        byte 最小的可操作 单位\n",
    "        \n",
    "        8bit = 1byte（字节）\n",
    "        1024byte = 1kb（千字节）\n",
    "        1024kb = 1mb（兆字节）\n",
    "        1024mb = 1gb\n",
    "        1014gb = 1tb\n",
    "        \n",
    "    八进制 0 - 8\n",
    "    十六进制 0 - 9 a b c d e f\n",
    "        查看二进制数据时，一般会以十六进制的形式显示\n",
    "## 0.8文本文件和字符集\n",
    "    文本：纯文本，富文本\n",
    "    编码：字符转二进制码\n",
    "    解码：二进制码转字符\n",
    "    字符集：编码和解码时所采用的规则\n",
    "        ACSII  美国 7位 128个\n",
    "        ISO-8859-1 欧洲 8位 256个\n",
    "        GB2312 国标码，中国\n",
    "        GBK 国标码，中国\n",
    "        Unicode 万国码，包括世界所有的语言和符号\n",
    "            UTF-8 最常用\n",
    "            UTF-16\n",
    "            UTF-32\n",
    "     乱码：检查字符集是否正确\n",
    "     \n",
    "## 0.9计算机语言简介\n",
    "    机器语言\n",
    "    汇编语言（符号语言 符号转机器码 ）\n",
    "        汇编语言一般只适用于某些硬件，兼容性比较差，硬件驱动会用\n",
    "    高级语言\n",
    "## 0.10编译型语言和解释性语言\n",
    "    计算机只能识别二进制编码（机器码），语言要交给计算机执行时必须转换为机器码\n",
    "    根据转换时机的不同，语言分为两大类：\n",
    "        编译型语言\n",
    "            C语言\n",
    "            a(源码) --编译--> b(编译后的机器码)\n",
    "            执行速度快，跨平台性差\n",
    "            \n",
    "        解释性语言：一边执行一遍编译\n",
    "            python Js Java\n",
    "            a(源码) --解释器--> 解释执行\n",
    "            执行速度慢，跨平台性好"
   ]
  },
  {
   "cell_type": "markdown",
   "id": "b30aec69-a993-4710-b6f9-786ce7cfe459",
   "metadata": {},
   "source": [
    "# 1 python基本数据类型\n",
    "\n",
    "## 1.1换行\\"
   ]
  },
  {
   "cell_type": "code",
   "execution_count": 1,
   "id": "b7ff9178-de82-4d91-b328-c0cca92986d6",
   "metadata": {},
   "outputs": [
    {
     "name": "stdout",
     "output_type": "stream",
     "text": [
      "1+5 +5\n"
     ]
    },
    {
     "data": {
      "text/plain": [
       "7"
      ]
     },
     "execution_count": 1,
     "metadata": {},
     "output_type": "execute_result"
    }
   ],
   "source": [
    "print(\"1+5 \\\n",
    "+5\")\n",
    "s = 1+5\\\n",
    "+1\n",
    "s"
   ]
  },
  {
   "cell_type": "markdown",
   "id": "2f1dee9d-49c1-4cc3-947b-a3d681864f4c",
   "metadata": {},
   "source": [
    "## 1.2字面量和变量\n",
    "## 1.3变量和标识符\n",
    "    标识符：变量函数名、类名，不能数字开头\n",
    "        标识符不能是关键字和保留字"
   ]
  },
  {
   "cell_type": "code",
   "execution_count": 2,
   "id": "1f523f67-3e2f-44ec-a00f-46fadb266efc",
   "metadata": {},
   "outputs": [],
   "source": [
    "# print = 1\n",
    "# print(print)\n",
    "# 运行错误，会被覆盖"
   ]
  },
  {
   "cell_type": "markdown",
   "id": "a1d2b6b3-1a1d-413c-8089-02d1476840ac",
   "metadata": {},
   "source": [
    "## 1.4数值\n",
    "## 1.5字符串\n",
    "    长字符串\n",
    "        三重引号可以换行\n",
    "    转义字符"
   ]
  },
  {
   "cell_type": "code",
   "execution_count": 3,
   "id": "b0a05680-ff46-4d42-b7c7-a339bbc79cfb",
   "metadata": {},
   "outputs": [
    {
     "name": "stdout",
     "output_type": "stream",
     "text": [
      "锄禾日当午，\n",
      "哈尼和夏天\n"
     ]
    }
   ],
   "source": [
    "s = '''锄禾日当午，\n",
    "哈尼和夏天'''\n",
    "print(s)"
   ]
  },
  {
   "cell_type": "code",
   "execution_count": 4,
   "id": "cb4123eb-ad4e-42f9-9e70-eca1d59a5fa3",
   "metadata": {},
   "outputs": [
    {
     "name": "stdout",
     "output_type": "stream",
     "text": [
      "\u000ea1\n",
      "≐\n"
     ]
    }
   ],
   "source": [
    "s = '\\16a1'\n",
    "print(s)\n",
    "print('\\u2250')"
   ]
  },
  {
   "cell_type": "markdown",
   "id": "1d6623c6-e807-43b5-9864-744084922173",
   "metadata": {},
   "source": [
    "## 1.6格式化字符串"
   ]
  },
  {
   "cell_type": "code",
   "execution_count": 5,
   "id": "edddecc2-712a-44c3-8ca7-0cfe25959d9d",
   "metadata": {},
   "outputs": [
    {
     "name": "stdout",
     "output_type": "stream",
     "text": [
      "hello 孙悟空\n",
      "hello 1 和 女巫\n",
      "hello 12341\n",
      "hello          12.s\n",
      "hello 132hh\n"
     ]
    }
   ],
   "source": [
    "b = 'hello %s' % '孙悟空'\n",
    "print(b)\n",
    "tone = 1\n",
    "b = \"hello %s 和 %s\" %(tone,\"女巫\")\n",
    "print(b)\n",
    "b = 'hello %3.5s'% '12341234567'\n",
    "print(b)\n",
    "b = 'hello %13.5s'% '12.s'\n",
    "print(b)\n",
    "\n",
    "# 格式化字符串\n",
    "a = 132\n",
    "b = 'hh'\n",
    "c = f'hello {a}{b}'\n",
    "print(c)"
   ]
  },
  {
   "cell_type": "markdown",
   "id": "1ec1cfac-e0fd-460a-8333-075d933a4802",
   "metadata": {},
   "source": [
    "## 1.7字符串复制"
   ]
  },
  {
   "cell_type": "code",
   "execution_count": 6,
   "id": "bd0b933f-51d6-4000-aa79-1c14337b3444",
   "metadata": {},
   "outputs": [
    {
     "data": {
      "text/plain": [
       "'abcabc'"
      ]
     },
     "execution_count": 6,
     "metadata": {},
     "output_type": "execute_result"
    }
   ],
   "source": [
    "a = 'abc'\n",
    "a = a*2\n",
    "a"
   ]
  },
  {
   "cell_type": "markdown",
   "id": "b2503229-5ac3-4798-9c6f-ac722c6e5455",
   "metadata": {},
   "source": [
    "## 1.8布尔值和空值\n",
    "    True False None"
   ]
  },
  {
   "cell_type": "code",
   "execution_count": 7,
   "id": "ff860109-199d-42a7-a017-1a564608d90d",
   "metadata": {},
   "outputs": [
    {
     "name": "stdout",
     "output_type": "stream",
     "text": [
      "True False None\n"
     ]
    }
   ],
   "source": [
    "print(True,False,None)"
   ]
  },
  {
   "cell_type": "markdown",
   "id": "e438cde1-563a-4975-ba23-0fb24c98cef1",
   "metadata": {},
   "source": [
    "## 1.9类型检查\n",
    "    数据类型：整型 浮点 复数 字符型 Bool 空值\n",
    "    类型检查（值的检查）type "
   ]
  },
  {
   "cell_type": "code",
   "execution_count": 8,
   "id": "381f7691-92ac-4d4c-a382-d6daa5ce2175",
   "metadata": {},
   "outputs": [
    {
     "name": "stdout",
     "output_type": "stream",
     "text": [
      "132\n",
      "132\n"
     ]
    },
    {
     "data": {
      "text/plain": [
       "(int, str, float, bool, NoneType)"
      ]
     },
     "execution_count": 8,
     "metadata": {},
     "output_type": "execute_result"
    }
   ],
   "source": [
    "print(132)\n",
    "print('132')\n",
    "type(132),type('132'),type(13.2),type(True),type(None)"
   ]
  },
  {
   "cell_type": "markdown",
   "id": "53f4016f-6f88-4463-ab19-9aaa9dad15ff",
   "metadata": {
    "tags": []
   },
"source": [
    "# 2 对象(object)\n",
    "Python是一门面向对象的语言\n",
    "\n",
    "一切皆对象\n",
    "\n",
    "对象就是内存中专门用来存储指定数据的一块区域\n",
    "\n",
    "对象实际上就是一个容器，专门用来存储数据\n",
    "\n",
    "数值、字符串、布尔值、None都是对象\n",
    "\n",
    "## 2.1对象的结构\n",
    "    id（标识），对象的内存地址\n",
    "        对象创建以后id不再改变\n",
    "    type（类型），类型决定了对象的哪些功能\n",
    "        Python是一门强类型语言，对象一旦创建不能再更改\n",
    "    value（值）\n",
    "    \n",
    "    对象分两类：\n",
    "        可变对象\n",
    "        不可变对象\n",
    "        \n",
    "## 2.2变量和对象\n",
    "    对象并没有直接存储到变量中，在python中变量更像是存储了一个别名\n",
    "    变量中存储的不是对象的值，而是对象的id\n",
    "    \n",
    "## 2.3类型转换\n",
    "    类型转换不是改变对象本身的类型，而是根据当前对象的值创建一个新对象\n",
    "    类型转换的四个函数\n",
    "        int() float() str() bool()\n",
    "\n"
   ]
  },
  {
   "cell_type": "code",
   "execution_count": 9,
   "id": "ed4bec7e-c69f-4653-a1d4-b203b155f479",
   "metadata": {},
   "outputs": [
    {
     "data": {
      "text/plain": [
       "(1903393616, 1903393616, 1903391760)"
      ]
     },
     "execution_count": 9,
     "metadata": {},
     "output_type": "execute_result"
    }
   ],
   "source": [
    "# id由解析器生成的\n",
    "id(123),id(123),id(65)"
   ]
  },
  {
   "cell_type": "code",
   "execution_count": 10,
   "id": "69acfe77-1e9c-4de8-a1e7-37b5c1ad7906",
   "metadata": {},
   "outputs": [
    {
     "data": {
      "text/plain": [
       "(1, 0, 'True', 1, '1.0', False, True, False, False)"
      ]
     },
     "execution_count": 10,
     "metadata": {},
     "output_type": "execute_result"
    }
   ],
   "source": [
    "# int('None') int('1.1')不可以\n",
    "int(True),int(False),str(True),int('1'),str(1.0),bool(0),bool(5),bool(None),bool('')"
   ]
  },
  {
   "cell_type": "markdown",
   "id": "125faec9-d419-4e83-b965-a44fc472a31e",
   "metadata": {},
   "source": [
    "# 3 运算符（操作符）\n",
    "    运算符可以对一个值和多个值进行运算或各种操作\n",
    "    运算符分类：\n",
    "        算数运算符\n",
    "        赋值运算符\n",
    "        逻辑运算符\n",
    "        比较运算符\n",
    "        条件运算符\n",
    "        \n",
    "## 3.1算数运算符\n",
    "    + - * / ** // %\n",
    "    \n",
    "## 3.2赋值运算符\n",
    "    = += -= *= **= /= //= %=\n",
    "    \n",
    "## 3.3关系运算符\n",
    "    > < >= <= == !=\n",
    "    is    is not\n",
    "    python可以对两个字符串进行大于（等于、小于）比较的运算，实际上比较的是Unicode编码\n",
    "    \n",
    "    相等和不等比较的是对象的值，而不是id\n",
    "    is和is not 比较的是对象的id\n",
    "    \n",
    "## 3.4逻辑运算符\n",
    "    not and or\n",
    "\n",
    "## 3.5非布尔值的与或非运算\n",
    "    对非布尔值进行或与非运算时，python会将其当作布尔值运算，最终返回原值\n",
    "    \n",
    "## 3.6条件运算符（三元运算符）\n",
    "    if  else\n",
    "\n",
    "## 3.7运算符优先级\n",
    "    / * + -\n",
    "    and or "
   ]
  },
  {
   "cell_type": "code",
   "execution_count": 11,
   "id": "ed805302-3fd7-4d95-afe3-0f8a11d593f3",
   "metadata": {},
   "outputs": [
    {
     "data": {
      "text/plain": [
       "(1, 0)"
      ]
     },
     "execution_count": 11,
     "metadata": {},
     "output_type": "execute_result"
    }
   ],
   "source": [
    "5 % 2,6%3"
   ]
  },
  {
   "cell_type": "code",
   "execution_count": 12,
   "id": "78084a58-111d-49b0-a1b6-b303d3dad683",
   "metadata": {},
   "outputs": [
    {
     "name": "stdout",
     "output_type": "stream",
     "text": [
      "4\n",
      "4\n"
     ]
    },
    {
     "data": {
      "text/plain": [
       "2.0"
      ]
     },
     "execution_count": 12,
     "metadata": {},
     "output_type": "execute_result"
    }
   ],
   "source": [
    "a = 10\n",
    "a %= 6\n",
    "print(a)\n",
    "a %= 6\n",
    "print(a)\n",
    "a //= 1.5\n",
    "a"
   ]
  },
  {
   "cell_type": "code",
   "execution_count": 13,
   "id": "c89ff964-c53c-47f7-9b4c-6fc7bbf58ada",
   "metadata": {},
   "outputs": [
    {
     "data": {
      "text/plain": [
       "(True, False, False, True)"
      ]
     },
     "execution_count": 13,
     "metadata": {},
     "output_type": "execute_result"
    }
   ],
   "source": [
    "30>20,30<20,30<=20,30>=20"
   ]
  },
  {
   "cell_type": "code",
   "execution_count": 14,
   "id": "4bc9986e-26c7-4c27-9c8e-c871f0b10a36",
   "metadata": {},
   "outputs": [
    {
     "data": {
      "text/plain": [
       "(True, False, False, True)"
      ]
     },
     "execution_count": 14,
     "metadata": {},
     "output_type": "execute_result"
    }
   ],
   "source": [
    "# python 可以对两个字符串进行大于（等于、小于）比较的运算，实际上比较的是Unicode编码\n",
    "# 字符串编码逐位比较,比较出结果后就不再往后比较\n",
    "'2'>'11','a'>'b','ab'>'b','abc'>'aac'"
   ]
  },
  {
   "cell_type": "code",
   "execution_count": 15,
   "id": "f3fddd90-de37-46ed-89be-8aa612af0845",
   "metadata": {},
   "outputs": [
    {
     "data": {
      "text/plain": [
       "False"
      ]
     },
     "execution_count": 15,
     "metadata": {},
     "output_type": "execute_result"
    }
   ],
   "source": [
    "a = True\n",
    "not a"
   ]
  },
  {
   "cell_type": "code",
   "execution_count": 16,
   "id": "a15388bb-cd63-4603-8e0c-826ea6211c2a",
   "metadata": {},
   "outputs": [
    {
     "name": "stdout",
     "output_type": "stream",
     "text": [
      "1\n"
     ]
    },
    {
     "data": {
      "text/plain": [
       "False"
      ]
     },
     "execution_count": 16,
     "metadata": {},
     "output_type": "execute_result"
    }
   ],
   "source": [
    "True and print('1')\n",
    "False and print('0')"
   ]
  },
  {
   "cell_type": "code",
   "execution_count": 17,
   "id": "731ae5d8-8762-4d14-acd1-2a204c4c551b",
   "metadata": {},
   "outputs": [
    {
     "name": "stdout",
     "output_type": "stream",
     "text": [
      "0\n"
     ]
    },
    {
     "data": {
      "text/plain": [
       "True"
      ]
     },
     "execution_count": 17,
     "metadata": {},
     "output_type": "execute_result"
    }
   ],
   "source": [
    "False or print('0')\n",
    "True or print('1')"
   ]
  },
  {
   "cell_type": "code",
   "execution_count": 18,
   "id": "a70861a7-e4c3-453f-aebc-65ff2c871ed0",
   "metadata": {},
   "outputs": [
    {
     "data": {
      "text/plain": [
       "(2, 0, 0, 0, None, None, 2)"
      ]
     },
     "execution_count": 18,
     "metadata": {},
     "output_type": "execute_result"
    }
   ],
   "source": [
    "1 and 2, 1 and 0, 0 and 1, 0 and None, None and None, None and 2, 1 and 2"
   ]
  },
  {
   "cell_type": "code",
   "execution_count": 19,
   "id": "944ae6e7-3422-4ca2-8f25-f499adcbc32b",
   "metadata": {},
   "outputs": [
    {
     "data": {
      "text/plain": [
       "(1, 1, 1, 0, None, None, 1, 0, 1, 2)"
      ]
     },
     "execution_count": 19,
     "metadata": {},
     "output_type": "execute_result"
    }
   ],
   "source": [
    "1 or 1, 1 or 0, 0 or 1, 0 or 0, 0 or None, None or None, None or 1, None or 0, 1 or None, 2 or 0"
   ]
  },
  {
   "cell_type": "code",
   "execution_count": 20,
   "id": "3e9c537f-ec2e-4d21-a513-db99071181bd",
   "metadata": {},
   "outputs": [
    {
     "name": "stdout",
     "output_type": "stream",
     "text": [
      "1\n",
      "0\n"
     ]
    }
   ],
   "source": [
    "print('1') if True else print('0')\n",
    "print('1') if False else print('0')"
   ]
  },
  {
   "cell_type": "code",
   "execution_count": 21,
   "id": "f4c3fec3-2ea2-4468-aff5-52125c30b0e8",
   "metadata": {},
   "outputs": [
    {
     "data": {
      "text/plain": [
       "(True, True, False, True, True, False, False, True)"
      ]
     },
     "execution_count": 21,
     "metadata": {},
     "output_type": "execute_result"
    }
   ],
   "source": [
    "1<2<3, 2>1 and 2<3, 2>3<4, 2<3<4<5, 2<3<4<5<6,2<3<4<1<5,2<4<6<3,2<=2<=3"
   ]
  },
  {
   "cell_type": "markdown",
   "id": "3cc9ba03-908a-45c1-be9a-381e0695811c",
   "metadata": {},
