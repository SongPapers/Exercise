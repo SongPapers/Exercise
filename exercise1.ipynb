# exercise
{
 "cells": [
  {
   "cell_type": "markdown",
   "id": "6ac3d9e1-62ec-40a2-87f9-56da803d6308",
   "metadata": {
    "tags": []
   },
"source": [
    "# 0 计算机上基础\n",
    "\n",
    "## 0.1 计算机定义\n",
    "\n",
    "## 0.2 计算机组成\n",
    "    计算机由两个部分组成：硬件、软件\n",
    "\n",
    "## 0.3 计算机的使用方式\n",
    "    通过软件对计算机进行操作\n",
    "\n",
    "## 0.4 windows的命令行\n",
    "    命令行就是文本交互界面\n",
    "\n",
    "    命令行有多个不同的名字：命令行窗口、DOS窗口、命令提示符、CMD窗口、终端、Terminal\n",
    "\n",
    "    常用的DOS命令：\n",
    "\n",
    "    dir  \n",
    "    cd  \n",
    "        cd.  当前目录  \n",
    "        cd.. 上一级目录   \n",
    "    md 创建一个目录  \n",
    "    rd 删除一个目录  \n",
    "    del 删除一个文件  \n",
    "    cls 清除屏幕  \n",
    "## 0.5 环境变量\n",
    "    环境变量指的就是操作系统当中的一些变量\n",
    "## 0.6 path环境变量\n",
    "    path环境变量中保存的是一个一个路径  \n",
    "    当我们在命令中输入一个命令或访问一个文件时， \n",
    "        系统会首先在当前目录寻找  \n",
    "        如果没有找到，则会依次去path  \n",
    "## 0.7进制\n",
    "    十进制\n",
    "    二进制 0 1 \n",
    "        bit 计算机最小单位\n",
    "        byte 最小的可操作 单位\n",
    "        \n",
    "        8bit = 1byte（字节）\n",
    "        1024byte = 1kb（千字节）\n",
    "        1024kb = 1mb（兆字节）\n",
    "        1024mb = 1gb\n",
    "        1014gb = 1tb\n",
    "        \n",
    "    八进制 0 - 8\n",
    "    十六进制 0 - 9 a b c d e f\n",
    "        查看二进制数据时，一般会以十六进制的形式显示\n",
    "## 0.8文本文件和字符集\n",
    "    文本：纯文本，富文本\n",
    "    编码：字符转二进制码\n",
    "    解码：二进制码转字符\n",
    "    字符集：编码和解码时所采用的规则\n",
    "        ACSII  美国 7位 128个\n",
    "        ISO-8859-1 欧洲 8位 256个\n",
    "        GB2312 国标码，中国\n",
    "        GBK 国标码，中国\n",
    "        Unicode 万国码，包括世界所有的语言和符号\n",
    "            UTF-8 最常用\n",
    "            UTF-16\n",
    "            UTF-32\n",
    "     乱码：检查字符集是否正确\n",
    "     \n",
    "## 0.9计算机语言简介\n",
    "    机器语言\n",
    "    汇编语言（符号语言 符号转机器码 ）\n",
    "        汇编语言一般只适用于某些硬件，兼容性比较差，硬件驱动会用\n",
    "    高级语言\n",
    "## 0.10编译型语言和解释性语言\n",
    "    计算机只能识别二进制编码（机器码），语言要交给计算机执行时必须转换为机器码\n",
    "    根据转换时机的不同，语言分为两大类：\n",
    "        编译型语言\n",
    "            C语言\n",
    "            a(源码) --编译--> b(编译后的机器码)\n",
    "            执行速度快，跨平台性差\n",
    "            \n",
    "        解释性语言：一边执行一遍编译\n",
    "            python Js Java\n",
    "            a(源码) --解释器--> 解释执行\n",
    "            执行速度慢，跨平台性好"
   ]
  },
  {
   "cell_type": "markdown",
   "id": "b30aec69-a993-4710-b6f9-786ce7cfe459",
   "metadata": {},
   "source": [
    "# 1 python基本数据类型\n",
    "\n",
    "## 1.1换行\\"
   ]
  },
  {
   "cell_type": "code",
   "execution_count": 1,
   "id": "b7ff9178-de82-4d91-b328-c0cca92986d6",
   "metadata": {},
   "outputs": [
    {
     "name": "stdout",
     "output_type": "stream",
     "text": [
      "1+5 +5\n"
     ]
    },
    {
     "data": {
      "text/plain": [
       "7"
      ]
     },
     "execution_count": 1,
     "metadata": {},
     "output_type": "execute_result"
    }
   ],
   "source": [
    "print(\"1+5 \\\n",
    "+5\")\n",
    "s = 1+5\\\n",
    "+1\n",
    "s"
   ]
  },
  {
   "cell_type": "markdown",
   "id": "2f1dee9d-49c1-4cc3-947b-a3d681864f4c",
   "metadata": {},
   "source": [
    "## 1.2字面量和变量\n",
    "## 1.3变量和标识符\n",
    "    标识符：变量函数名、类名，不能数字开头\n",
    "        标识符不能是关键字和保留字"
   ]
  },
  {
   "cell_type": "code",
   "execution_count": 2,
   "id": "1f523f67-3e2f-44ec-a00f-46fadb266efc",
   "metadata": {},
   "outputs": [],
   "source": [
    "# print = 1\n",
    "# print(print)\n",
    "# 运行错误，会被覆盖"
   ]
  },
  {
   "cell_type": "markdown",
   "id": "a1d2b6b3-1a1d-413c-8089-02d1476840ac",
   "metadata": {},
   "source": [
    "## 1.4数值\n",
    "## 1.5字符串\n",
    "    长字符串\n",
    "        三重引号可以换行\n",
    "    转义字符"
   ]
  },
  {
   "cell_type": "code",
   "execution_count": 3,
   "id": "b0a05680-ff46-4d42-b7c7-a339bbc79cfb",
   "metadata": {},
   "outputs": [
    {
     "name": "stdout",
     "output_type": "stream",
     "text": [
      "锄禾日当午，\n",
      "哈尼和夏天\n"
     ]
    }
   ],
   "source": [
    "s = '''锄禾日当午，\n",
    "哈尼和夏天'''\n",
    "print(s)"
   ]
  },
  {
   "cell_type": "code",
   "execution_count": 4,
   "id": "cb4123eb-ad4e-42f9-9e70-eca1d59a5fa3",
   "metadata": {},
   "outputs": [
    {
     "name": "stdout",
     "output_type": "stream",
     "text": [
      "\u000ea1\n",
      "≐\n"
     ]
    }
   ],
   "source": [
    "s = '\\16a1'\n",
    "print(s)\n",
    "print('\\u2250')"
   ]
  },
  {
   "cell_type": "markdown",
   "id": "1d6623c6-e807-43b5-9864-744084922173",
   "metadata": {},
   "source": [
    "## 1.6格式化字符串"
   ]
  },
  {
   "cell_type": "code",
   "execution_count": 5,
   "id": "edddecc2-712a-44c3-8ca7-0cfe25959d9d",
   "metadata": {},
   "outputs": [
    {
     "name": "stdout",
     "output_type": "stream",
     "text": [
      "hello 孙悟空\n",
      "hello 1 和 女巫\n",
      "hello 12341\n",
      "hello          12.s\n",
      "hello 132hh\n"
     ]
    }
   ],
   "source": [
    "b = 'hello %s' % '孙悟空'\n",
    "print(b)\n",
    "tone = 1\n",
    "b = \"hello %s 和 %s\" %(tone,\"女巫\")\n",
    "print(b)\n",
    "b = 'hello %3.5s'% '12341234567'\n",
    "print(b)\n",
    "b = 'hello %13.5s'% '12.s'\n",
    "print(b)\n",
    "\n",
    "# 格式化字符串\n",
    "a = 132\n",
    "b = 'hh'\n",
    "c = f'hello {a}{b}'\n",
    "print(c)"
   ]
  },
  {
   "cell_type": "markdown",
   "id": "1ec1cfac-e0fd-460a-8333-075d933a4802",
   "metadata": {},
   "source": [
    "## 1.7字符串复制"
   ]
  },
  {
   "cell_type": "code",
   "execution_count": 6,
   "id": "bd0b933f-51d6-4000-aa79-1c14337b3444",
   "metadata": {},
   "outputs": [
    {
     "data": {
      "text/plain": [
       "'abcabc'"
      ]
     },
     "execution_count": 6,
     "metadata": {},
     "output_type": "execute_result"
    }
   ],
   "source": [
    "a = 'abc'\n",
    "a = a*2\n",
    "a"
   ]
  },
  {
   "cell_type": "markdown",
   "id": "b2503229-5ac3-4798-9c6f-ac722c6e5455",
   "metadata": {},
   "source": [
    "## 1.8布尔值和空值\n",
    "    True False None"
   ]
  },
  {
   "cell_type": "code",
   "execution_count": 7,
   "id": "ff860109-199d-42a7-a017-1a564608d90d",
   "metadata": {},
   "outputs": [
    {
     "name": "stdout",
     "output_type": "stream",
     "text": [
      "True False None\n"
     ]
    }
   ],
   "source": [
    "print(True,False,None)"
   ]
  },
  {
   "cell_type": "markdown",
   "id": "e438cde1-563a-4975-ba23-0fb24c98cef1",
   "metadata": {},
   "source": [
    "## 1.9类型检查\n",
    "    数据类型：整型 浮点 复数 字符型 Bool 空值\n",
    "    类型检查（值的检查）type "
   ]
  },
  {
   "cell_type": "code",
   "execution_count": 8,
   "id": "381f7691-92ac-4d4c-a382-d6daa5ce2175",
   "metadata": {},
   "outputs": [
    {
     "name": "stdout",
     "output_type": "stream",
     "text": [
      "132\n",
      "132\n"
     ]
    },
    {
     "data": {
      "text/plain": [
       "(int, str, float, bool, NoneType)"
      ]
     },
     "execution_count": 8,
     "metadata": {},
     "output_type": "execute_result"
    }
   ],
   "source": [
    "print(132)\n",
    "print('132')\n",
    "type(132),type('132'),type(13.2),type(True),type(None)"
   ]
  },
  {
   "cell_type": "markdown",
   "id": "53f4016f-6f88-4463-ab19-9aaa9dad15ff",
   "metadata": {
    "tags": []
   },
"source": [
    "# 2 对象(object)\n",
    "Python是一门面向对象的语言\n",
    "\n",
    "一切皆对象\n",
    "\n",
    "对象就是内存中专门用来存储指定数据的一块区域\n",
    "\n",
    "对象实际上就是一个容器，专门用来存储数据\n",
    "\n",
    "数值、字符串、布尔值、None都是对象\n",
    "\n",
    "## 2.1对象的结构\n",
    "    id（标识），对象的内存地址\n",
    "        对象创建以后id不再改变\n",
    "    type（类型），类型决定了对象的哪些功能\n",
    "        Python是一门强类型语言，对象一旦创建不能再更改\n",
    "    value（值）\n",
    "    \n",
    "    对象分两类：\n",
    "        可变对象\n",
    "        不可变对象\n",
    "        \n",
    "## 2.2变量和对象\n",
    "    对象并没有直接存储到变量中，在python中变量更像是存储了一个别名\n",
    "    变量中存储的不是对象的值，而是对象的id\n",
    "    \n",
    "## 2.3类型转换\n",
    "    类型转换不是改变对象本身的类型，而是根据当前对象的值创建一个新对象\n",
    "    类型转换的四个函数\n",
    "        int() float() str() bool()\n",
    "\n"
   ]
  },
  {
   "cell_type": "code",
   "execution_count": 9,
   "id": "ed4bec7e-c69f-4653-a1d4-b203b155f479",
   "metadata": {},
   "outputs": [
    {
     "data": {
      "text/plain": [
       "(1903393616, 1903393616, 1903391760)"
      ]
     },
     "execution_count": 9,
     "metadata": {},
     "output_type": "execute_result"
    }
   ],
   "source": [
    "# id由解析器生成的\n",
    "id(123),id(123),id(65)"
   ]
  },
  {
   "cell_type": "code",
   "execution_count": 10,
   "id": "69acfe77-1e9c-4de8-a1e7-37b5c1ad7906",
   "metadata": {},
   "outputs": [
    {
     "data": {
      "text/plain": [
       "(1, 0, 'True', 1, '1.0', False, True, False, False)"
      ]
     },
     "execution_count": 10,
     "metadata": {},
     "output_type": "execute_result"
    }
   ],
   "source": [
    "# int('None') int('1.1')不可以\n",
    "int(True),int(False),str(True),int('1'),str(1.0),bool(0),bool(5),bool(None),bool('')"
   ]
  },
  {
   "cell_type": "markdown",
   "id": "125faec9-d419-4e83-b965-a44fc472a31e",
   "metadata": {},
   "source": [
    "# 3 运算符（操作符）\n",
    "    运算符可以对一个值和多个值进行运算或各种操作\n",
    "    运算符分类：\n",
    "        算数运算符\n",
    "        赋值运算符\n",
    "        逻辑运算符\n",
    "        比较运算符\n",
    "        条件运算符\n",
    "        \n",
    "## 3.1算数运算符\n",
    "    + - * / ** // %\n",
    "    \n",
    "## 3.2赋值运算符\n",
    "    = += -= *= **= /= //= %=\n",
    "    \n",
    "## 3.3关系运算符\n",
    "    > < >= <= == !=\n",
    "    is    is not\n",
    "    python可以对两个字符串进行大于（等于、小于）比较的运算，实际上比较的是Unicode编码\n",
    "    \n",
    "    相等和不等比较的是对象的值，而不是id\n",
    "    is和is not 比较的是对象的id\n",
    "    \n",
    "## 3.4逻辑运算符\n",
    "    not and or\n",
    "\n",
    "## 3.5非布尔值的与或非运算\n",
    "    对非布尔值进行或与非运算时，python会将其当作布尔值运算，最终返回原值\n",
    "    \n",
    "## 3.6条件运算符（三元运算符）\n",
    "    if  else\n",
    "\n",
    "## 3.7运算符优先级\n",
    "    / * + -\n",
    "    and or "
   ]
  },
  {
   "cell_type": "code",
   "execution_count": 11,
   "id": "ed805302-3fd7-4d95-afe3-0f8a11d593f3",
   "metadata": {},
   "outputs": [
    {
     "data": {
      "text/plain": [
       "(1, 0)"
      ]
     },
     "execution_count": 11,
     "metadata": {},
     "output_type": "execute_result"
    }
   ],
   "source": [
    "5 % 2,6%3"
   ]
  },
  {
   "cell_type": "code",
   "execution_count": 12,
   "id": "78084a58-111d-49b0-a1b6-b303d3dad683",
   "metadata": {},
   "outputs": [
    {
     "name": "stdout",
     "output_type": "stream",
     "text": [
      "4\n",
      "4\n"
     ]
    },
    {
     "data": {
      "text/plain": [
       "2.0"
      ]
     },
     "execution_count": 12,
     "metadata": {},
     "output_type": "execute_result"
    }
   ],
   "source": [
    "a = 10\n",
    "a %= 6\n",
    "print(a)\n",
    "a %= 6\n",
    "print(a)\n",
    "a //= 1.5\n",
    "a"
   ]
  },
  {
   "cell_type": "code",
   "execution_count": 13,
   "id": "c89ff964-c53c-47f7-9b4c-6fc7bbf58ada",
   "metadata": {},
   "outputs": [
    {
     "data": {
      "text/plain": [
       "(True, False, False, True)"
      ]
     },
     "execution_count": 13,
     "metadata": {},
     "output_type": "execute_result"
    }
   ],
   "source": [
    "30>20,30<20,30<=20,30>=20"
   ]
  },
  {
   "cell_type": "code",
   "execution_count": 14,
   "id": "4bc9986e-26c7-4c27-9c8e-c871f0b10a36",
   "metadata": {},
   "outputs": [
    {
     "data": {
      "text/plain": [
       "(True, False, False, True)"
      ]
     },
     "execution_count": 14,
     "metadata": {},
     "output_type": "execute_result"
    }
   ],
   "source": [
    "# python 可以对两个字符串进行大于（等于、小于）比较的运算，实际上比较的是Unicode编码\n",
    "# 字符串编码逐位比较,比较出结果后就不再往后比较\n",
    "'2'>'11','a'>'b','ab'>'b','abc'>'aac'"
   ]
  },
  {
   "cell_type": "code",
   "execution_count": 15,
   "id": "f3fddd90-de37-46ed-89be-8aa612af0845",
   "metadata": {},
   "outputs": [
    {
     "data": {
      "text/plain": [
       "False"
      ]
     },
     "execution_count": 15,
     "metadata": {},
     "output_type": "execute_result"
    }
   ],
   "source": [
    "a = True\n",
    "not a"
   ]
  },
  {
   "cell_type": "code",
   "execution_count": 16,
   "id": "a15388bb-cd63-4603-8e0c-826ea6211c2a",
   "metadata": {},
   "outputs": [
    {
     "name": "stdout",
     "output_type": "stream",
     "text": [
      "1\n"
     ]
    },
    {
     "data": {
      "text/plain": [
       "False"
      ]
     },
     "execution_count": 16,
     "metadata": {},
     "output_type": "execute_result"
    }
   ],
   "source": [
    "True and print('1')\n",
    "False and print('0')"
   ]
  },
  {
   "cell_type": "code",
   "execution_count": 17,
   "id": "731ae5d8-8762-4d14-acd1-2a204c4c551b",
   "metadata": {},
   "outputs": [
    {
     "name": "stdout",
     "output_type": "stream",
     "text": [
      "0\n"
     ]
    },
    {
     "data": {
      "text/plain": [
       "True"
      ]
     },
     "execution_count": 17,
     "metadata": {},
     "output_type": "execute_result"
    }
   ],
   "source": [
    "False or print('0')\n",
    "True or print('1')"
   ]
  },
  {
   "cell_type": "code",
   "execution_count": 18,
   "id": "a70861a7-e4c3-453f-aebc-65ff2c871ed0",
   "metadata": {},
   "outputs": [
    {
     "data": {
      "text/plain": [
       "(2, 0, 0, 0, None, None, 2)"
      ]
     },
     "execution_count": 18,
     "metadata": {},
     "output_type": "execute_result"
    }
   ],
   "source": [
    "1 and 2, 1 and 0, 0 and 1, 0 and None, None and None, None and 2, 1 and 2"
   ]
  },
  {
   "cell_type": "code",
   "execution_count": 19,
   "id": "944ae6e7-3422-4ca2-8f25-f499adcbc32b",
   "metadata": {},
   "outputs": [
    {
     "data": {
      "text/plain": [
       "(1, 1, 1, 0, None, None, 1, 0, 1, 2)"
      ]
     },
     "execution_count": 19,
     "metadata": {},
     "output_type": "execute_result"
    }
   ],
   "source": [
    "1 or 1, 1 or 0, 0 or 1, 0 or 0, 0 or None, None or None, None or 1, None or 0, 1 or None, 2 or 0"
   ]
  },
  {
   "cell_type": "code",
   "execution_count": 20,
   "id": "3e9c537f-ec2e-4d21-a513-db99071181bd",
   "metadata": {},
   "outputs": [
    {
     "name": "stdout",
     "output_type": "stream",
     "text": [
      "1\n",
      "0\n"
     ]
    }
   ],
   "source": [
    "print('1') if True else print('0')\n",
    "print('1') if False else print('0')"
   ]
  },
  {
   "cell_type": "code",
   "execution_count": 21,
   "id": "f4c3fec3-2ea2-4468-aff5-52125c30b0e8",
   "metadata": {},
   "outputs": [
    {
     "data": {
      "text/plain": [
       "(True, True, False, True, True, False, False, True)"
      ]
     },
     "execution_count": 21,
     "metadata": {},
     "output_type": "execute_result"
    }
   ],
   "source": [
    "1<2<3, 2>1 and 2<3, 2>3<4, 2<3<4<5, 2<3<4<5<6,2<3<4<1<5,2<4<6<3,2<=2<=3"
   ]
  },
  {
   "cell_type": "markdown",
   "id": "3cc9ba03-908a-45c1-be9a-381e0695811c",
   "metadata": {},
"source": [
    "# 4 流程控制语句\n",
    "\n",
    "## 4.1条件判断语句（if语句）\n",
    "    代码块：代码块保存一组代码，同一个代码块中的代码，要么都执行要么都不执行\n",
    "    if \n",
    "    if else\n",
    "    if elif else\n",
    "## 4.2循环语句\n",
    "    for\n",
    "    while\n",
    "    循环嵌套\n",
    "## break continue\n",
    "    只对离他最近的循环起作用"
   ]
  },
  {
   "cell_type": "code",
   "execution_count": 22,
   "id": "4a128b9e-a81d-4a3c-a8fc-4fe0a78da6c7",
   "metadata": {},
   "outputs": [
    {
     "name": "stdout",
     "output_type": "stream",
     "text": [
      "1\n",
      "01\n",
      "11\n"
     ]
    }
   ],
   "source": [
    "if False : print('0')\n",
    "if True : print('1')\n",
    "if True:\n",
    "    print('01')\n",
    "    print('11')"
   ]
  },
  {
   "cell_type": "code",
   "execution_count": 23,
   "id": "90b6fc31-9cda-43bd-bedf-4186ca8a8284",
   "metadata": {},
   "outputs": [
    {
     "name": "stdin",
     "output_type": "stream",
     "text": [
      "输入内容 3\n"
     ]
    }
   ],
   "source": [
    "a = input('输入内容')"
   ]
  },
  {
   "cell_type": "code",
   "execution_count": 24,
   "id": "58882282-d00d-4af4-974e-a407f3da76ae",
   "metadata": {},
   "outputs": [],
   "source": [
    "age = 8\n",
    "if age>=18:\n",
    "    print('18')\n",
    "elif age>=20:\n",
    "    print('20')\n",
    "elif age>=40:\n",
    "    print('40')"
   ]
  },
  {
   "cell_type": "code",
   "execution_count": 25,
   "id": "0188b473-283a-4801-a535-db3dfa5c7207",
   "metadata": {},
   "outputs": [
    {
     "name": "stdout",
     "output_type": "stream",
     "text": [
      "0\n",
      "1\n",
      "2\n",
      "3\n",
      "4\n"
     ]
    }
   ],
   "source": [
    "i = 0\n",
    "while i <5:\n",
    "    print(i)\n",
    "    i+=1"
   ]
  },
  {
   "cell_type": "code",
   "execution_count": 26,
   "id": "298c3915-e97d-400c-b7e8-b6b2697d61a6",
   "metadata": {},
   "outputs": [
    {
     "name": "stdout",
     "output_type": "stream",
     "text": [
      "153\n",
      "370\n",
      "371\n",
      "407\n"
     ]
    }
   ],
   "source": [
    "# 水仙花数\n",
    "# 指一个 n 位数（n≥3 ），它的每个位上的数字的 n 次幂之和等于它本身（例如：1^3 + 5^3+ 3^3 = 153）\n",
    "n = 100\n",
    "i = 3\n",
    "while n<999:\n",
    "    n3 = n // 100\n",
    "    n2 = n // 10 % 10\n",
    "    n1 = n % 10\n",
    "    # n1 = n % 10\n",
    "    # n2 = (n % 100 - n1) // 10\n",
    "    # n3 = (n - n2*10 - n1) // 100\n",
    "    if n1**i + n2**i + n3**i == n:\n",
    "        print(n)\n",
    "    n += 1"
   ]
  },
  {
   "cell_type": "code",
   "execution_count": 27,
   "id": "80b30e80-400a-43b6-9d30-02d7c13e7829",
   "metadata": {},
   "outputs": [
    {
     "name": "stdin",
     "output_type": "stream",
     "text": [
      "输入正整数 35\n"
     ]
    },
    {
     "name": "stdout",
     "output_type": "stream",
     "text": [
      "不是质数\n"
     ]
    }
   ],
   "source": [
    "# 判断质数\n",
    "# 假如n是合数，必然存在非1的两个约数p1和p2，\n",
    "# 其中p1<=sqrt(n)，p2>=sqrt(n)。\n",
    "# import numpy as np\n",
    "num = int(input(\"输入正整数\"))\n",
    "i = 2\n",
    "flag = True\n",
    "while i<int(pow(num,1/2))+1:\n",
    "    if num % i == 0:\n",
    "        flag = False\n",
    "        break\n",
    "    i += 1\n",
    "print(\"是质数\") if flag else print(\"不是质数\")"
   ]
  },
  {
   "cell_type": "code",
   "execution_count": 28,
   "id": "874f1159-35ca-4c94-839d-b2632f5d5d42",
   "metadata": {},
   "outputs": [],
   "source": [
    "# 质数还有一个特点，就是它总是等于 6x-1 或者 6x+1\n",
    "# num = int(input(\"输入正整数\"))\n",
    "# i = 0\n",
    "# flag = True\n",
    "# if num%6!=1 or num%6!=5:\n",
    "#     flag = False\n",
    "# #     break\n",
    "# # i += 6\n",
    "# print(\"是质数\") if flag else print(\"不是质数\")"
   ]
  },
  {
   "cell_type": "code",
   "execution_count": 29,
   "id": "767f7c69-0a50-471b-bc53-a4942c45e585",
   "metadata": {},
   "outputs": [
    {
     "name": "stdout",
     "output_type": "stream",
     "text": [
      "1*1=1 \n",
      "1*2=2 2*2=4 \n",
      "1*3=3 2*3=6 3*3=9 \n",
      "1*4=4 2*4=8 3*4=12 4*4=16 \n",
      "1*5=5 2*5=10 3*5=15 4*5=20 5*5=25 \n",
      "1*6=6 2*6=12 3*6=18 4*6=24 5*6=30 6*6=36 \n",
      "1*7=7 2*7=14 3*7=21 4*7=28 5*7=35 6*7=42 7*7=49 \n",
      "1*8=8 2*8=16 3*8=24 4*8=32 5*8=40 6*8=48 7*8=56 8*8=64 \n",
      "1*9=9 2*9=18 3*9=27 4*9=36 5*9=45 6*9=54 7*9=63 8*9=72 9*9=81 \n"
     ]
    }
   ],
   "source": [
    "# 99乘法表\n",
    "for i in range(1,10):\n",
    "    for j in range(1,i+1):\n",
    "        print(f\"{j}*{i}={j*i} \",end='')\n",
    "        # print(\"%d*%d=%d \\t\"%(j,i,i*j),end='')\n",
    "    print()"
   ]
  },
  {
   "cell_type": "code",
   "execution_count": 30,
   "id": "b948182c-642a-4477-980e-c6a9f38d9314",
   "metadata": {},
   "outputs": [
    {
     "name": "stdout",
     "output_type": "stream",
     "text": [
      "2\n",
      "3\n",
      "5\n",
      "7\n",
      "11\n",
      "13\n",
      "17\n",
      "19\n",
      "23\n",
      "29\n",
      "31\n",
      "37\n",
      "41\n",
      "43\n",
      "47\n",
      "53\n",
      "59\n",
      "61\n",
      "67\n",
      "71\n",
      "73\n",
      "79\n",
      "83\n",
      "89\n",
      "97\n"
     ]
    }
   ],
   "source": [
    "# 求100以内质数\n",
    "num = 2\n",
    "while num<101:\n",
    "    i = 2\n",
    "    flag = True\n",
    "    while i<int(pow(num,1/2))+1:\n",
    "        if num % i == 0:\n",
    "            flag = False\n",
    "            break\n",
    "        i += 1\n",
    "    if flag:\n",
    "        print(num) \n",
    "    num += 1"
   ]
  },
  {
   "cell_type": "markdown",
   "id": "4d3182e1-3283-402a-87c4-502dfa26e273",
   "metadata": {},
   "source": [
    "# 小游戏 唐僧大战白骨精\n",
    "print('====================欢迎来到游戏《唐僧大战白骨精》==================')\n",
    "print('请选择你的身份：\\n','\\t1.白骨精\\n','\\t2.唐增\\n')\n",
    "num = input('请选择[1-2]：')\n",
    "if num=='1':\n",
    "    print(\"什么，你竟然选择白骨精？已强制选择唐增！\")\n",
    "elif num=='2':\n",
    "    print(\"你已选择唐增！\")\n",
    "else:\n",
    "    print(\"选择错误！\")\n",
    "\n",
    "\n",
    "play_blood = 2 # 生命值\n",
    "play_force = 2 # 攻击力\n",
    "boss_blood = 10\n",
    "boss_force = 10\n",
    "while True:\n",
    "    print('='*65)\n",
    "    print('请选择你的操作:\\n\\t1.练级\\n\\t2.打BOSS\\n\\t3.逃跑')\n",
    "    num = input('请选择[1-3]：')\n",
    "    if num=='1':\n",
    "        play_blood += 2 # 生命值\n",
    "        play_force += 2 # 攻击力\n",
    "        print('='*65)\n",
    "        print(f'唐增，恭喜你升级了，你的生命值为 {play_blood}，攻击力为 {play_force}.')\n",
    "    elif num=='2':\n",
    "        boss_blood -= play_force\n",
    "        print('='*65)\n",
    "        print(f'唐增攻击了白骨精')\n",
    "        if boss_blood<=0:\n",
    "            print(f'白骨精受到了{play_force}点伤害，重伤不治死了，唐僧赢得了胜利！')\n",
    "            break\n",
    "        # 没死反击玩家\n",
    "        play_blood -= boss_force\n",
    "        print(f'白骨精攻击了唐增')    \n",
    "        if play_blood<=0:\n",
    "            print(f'唐僧受到了{play_force}点伤害，重伤不治死了，Game over！')\n",
    "            break\n",
    "            \n",
    "    elif num=='3':\n",
    "        print(\"唐增一扭头撒腿就跑！Game over！\")\n",
    "        break\n",
    "    else:\n",
    "        print(\"选择错误！\")\n",
    "    "
   ]
  },
  {
   "cell_type": "markdown",
   "id": "0500cd67-c9f1-4798-9954-0c5b0d8cc628",
   "metadata": {},
   "source": [
    "# 5.序列\n",
    "\n",
    "## 5.1列表\n",
    "    python中的一个对象\n",
    "    切片\n",
    "    通用操作\n",
    "        +\n",
    "        *\n",
    "        in和not in \n",
    "        len() min() max()\n",
    "    方法（method）\n",
    "        方法基本和函数一样，只不过必须通过 对象.方法() 的形式调用\n",
    "        \n",
    "## 5.2序列\n",
    "    python中一种基本的数据结构\n",
    "    数据结构指计算机中数据存储的方式\n",
    "    序列用于保存一组有序的数据，所有的数据在序列中都有一个唯一的位置（索引）\n",
    "    分类：\n",
    "        可变序列\n",
    "            列表 list\n",
    "        不可变序列\n",
    "            字符串 str\n",
    "            元组 tuple\n",
    "    序列的通用操作\n",
    "        + * in  not in len() min() max() 切片 索引 计数\n",
    "        \n",
    "## 5.3列表的方法\n",
    "    append()\n",
    "    insert() 指定位置插入元素\n",
    "    extend() 使用新序列拓展序列\n",
    "    clear()\n",
    "    pop() 删除指定元素，并返回删除元素,不写删除最后一个元素\n",
    "    remove() 删除指定值，多个相同值删除第一个\n",
    "    reverse() 反转列表\n",
    "    sort() 排序,默认升序，降序：reverse=True\n",
    "    \n",
    "## 5.4遍历序列\n",
    "    将列表中所有元素取出来"
   ]
  },
  {
   "cell_type": "code",
   "execution_count": 31,
   "id": "79314fdb-3680-4359-b8fb-63b8a7250737",
   "metadata": {},
   "outputs": [
    {
     "data": {
      "text/plain": [
       "(1, 5)"
      ]
     },
     "execution_count": 31,
     "metadata": {},
     "output_type": "execute_result"
    }
   ],
   "source": [
    "ss = [1,2,3,4,5]\n",
    "ss[-5],ss[-1]"
   ]
  },
  {
   "cell_type": "code",
   "execution_count": 32,
   "id": "17433c84-ff84-406e-b6a2-d221e413daa3",
   "metadata": {},
   "outputs": [
    {
     "data": {
      "text/plain": [
       "([1, 2, 3, 4, 5, 1, 5], [1, 2, 3, 4, 5, 1, 2, 3, 4, 5])"
      ]
     },
     "execution_count": 32,
     "metadata": {},
     "output_type": "execute_result"
    }
   ],
   "source": [
    "ss+[1,5],ss*2"
   ]
  },
  {
   "cell_type": "code",
   "execution_count": 33,
   "id": "1c721679-ffb7-4d18-a9b2-faddba7864b9",
   "metadata": {},
   "outputs": [
    {
     "data": {
      "text/plain": [
       "(True, True)"
      ]
     },
     "execution_count": 33,
     "metadata": {},
     "output_type": "execute_result"
    }
   ],
   "source": [
    "1 in ss,8 not in ss "
   ]
  },
  {
   "cell_type": "code",
   "execution_count": 34,
   "id": "23607b5f-0512-40a5-aaf5-1244f9200c1b",
   "metadata": {},
   "outputs": [
    {
     "data": {
      "text/plain": [
       "('-5', 6, 1, 2)"
      ]
     },
     "execution_count": 34,
     "metadata": {},
     "output_type": "execute_result"
    }
   ],
   "source": [
    "ss = ['-a','10','-5','cd','白骨精','白']\n",
    "min(ss),len(ss),ss.count('-a'),ss.index('-5')"
   ]
  },
  {
   "cell_type": "code",
   "execution_count": 35,
   "id": "16e4e3de-a4bd-4425-a317-58bccd973edc",
   "metadata": {},
   "outputs": [
    {
     "data": {
      "text/plain": [
       "(6, 4, 0)"
      ]
     },
     "execution_count": 35,
     "metadata": {},
     "output_type": "execute_result"
    }
   ],
   "source": [
    "ss = ['-a','10','-5','cd','白骨精','白','10','10','10']\n",
    "# index 第二个参数表示起始位置\n",
    "ss.index('10',3),ss.count('10'),ss.count('1')"
   ]
  },
  {
   "cell_type": "code",
   "execution_count": 36,
   "id": "b2abcc81-d435-427c-ab99-3515da29521f",
   "metadata": {},
   "outputs": [
    {
     "data": {
      "text/plain": [
       "'e'"
      ]
     },
     "execution_count": 36,
     "metadata": {},
     "output_type": "execute_result"
    }
   ],
   "source": [
    "ss='hello'\n",
    "ss[1]"
   ]
  },
  {
   "cell_type": "code",
   "execution_count": 37,
   "id": "969c4558-49a2-432c-b110-30082d9710aa",
   "metadata": {},
   "outputs": [
    {
     "data": {
      "text/plain": [
       "((1, 2, 2, 3), (1, 2.0, 2, 3), (1, 2, 2, 3.2), (1, 2, 2))"
      ]
     },
     "execution_count": 37,
     "metadata": {},
     "output_type": "execute_result"
    }
   ],
   "source": [
    "(1,2)+(2,3),(1,2.0)+(2,3),(1,2)+(2,3.2),(1,2)+(2,)"
   ]
  },
  {
   "cell_type": "code",
   "execution_count": 38,
   "id": "ed3cd964-ac84-4bc0-aa67-6dec82c4b4b9",
   "metadata": {},
   "outputs": [
    {
     "data": {
      "text/plain": [
       "['-a', '10', 'cd', '白骨精', '白', '5', '10']"
      ]
     },
     "execution_count": 38,
     "metadata": {},
     "output_type": "execute_result"
    }
   ],
   "source": [
    "ss = ['-a','10','-5','cd','白骨精','白','10','10','10']\n",
    "del ss[2]\n",
    "ss[-3:-1] = '5'\n",
    "ss"
   ]
  },
  {
   "cell_type": "code",
   "execution_count": 39,
   "id": "2374bba4-a865-4bd8-a7ca-e204209e4d13",
   "metadata": {},
   "outputs": [
    {
     "data": {
      "text/plain": [
       "['a', 'w', 'k', '-5', 'cd', '白骨精', '白', '10', '10', '10']"
      ]
     },
     "execution_count": 39,
     "metadata": {},
     "output_type": "execute_result"
    }
   ],
   "source": [
    "ss = ['abcdefg','10','-5','cd','白骨精','白','10','10','10']\n",
    "ss[0:2] = 'awk'\n",
    "ss"
   ]
  },
  {
   "cell_type": "code",
   "execution_count": 40,
   "id": "2b1974a9-a88e-40af-b094-47206beb1b9e",
   "metadata": {},
   "outputs": [
    {
     "name": "stdout",
     "output_type": "stream",
     "text": [
      "['awk', 'cd', '-5', 'cd', '白骨精', '白', '10', '10', '10']\n",
      "['de', 'cd', '白骨精', '白', '10', '10', '10']\n",
      "['de', 'fr', 'gt', '白骨精', '白', '10', '10', '10']\n",
      "['de', 'fr', 'gt', 'de', 'fr', 'gt', '白骨精', '白', '10', '10', '10']\n"
     ]
    }
   ],
   "source": [
    "ss = ['abcdefg','10','-5','cd','白骨精','白','10','10','10']\n",
    "ss[0:2] = ['awk','cd']\n",
    "print(ss)\n",
    "ss[0:3] = ['de']\n",
    "print(ss)\n",
    "ss[0:2] = ['de','fr','gt']\n",
    "print(ss)\n",
    "ss[0:0] = ['de','fr','gt']\n",
    "print(ss)"
   ]
  },
  {
   "cell_type": "code",
   "execution_count": 41,
   "id": "8ae1c69e-d06a-466d-8fa3-5b8ced045c9b",
   "metadata": {},
   "outputs": [
    {
     "data": {
      "text/plain": [
       "['fr', 'de', 'gt', '白', '10']"
      ]
     },
     "execution_count": 41,
     "metadata": {},
     "output_type": "execute_result"
    }
   ],
   "source": [
    "del ss[::2]\n",
    "ss"
   ]
  },
  {
   "cell_type": "code",
   "execution_count": 42,
   "id": "b02dd574-8ac0-4d26-b235-aed42f3a51c1",
   "metadata": {},
   "outputs": [],
   "source": [
    "# 字符串切片不能改\n",
    "# ss='hello'\n",
    "# ss[1] = '5'"
   ]
  },
  {
   "cell_type": "code",
   "execution_count": 43,
   "id": "1a6e8d69-6583-4af1-ae4d-995bc1d95536",
   "metadata": {},
   "outputs": [
    {
     "data": {
      "text/plain": [
       "[]"
      ]
     },
     "execution_count": 43,
     "metadata": {},
     "output_type": "execute_result"
    }
   ],
   "source": [
    "ss = ['abcdefg','10','-5','cd','白骨精','白','10','10','10']\n",
    "ss.clear()\n",
    "ss"
   ]
  },
  {
   "cell_type": "code",
   "execution_count": 44,
   "id": "675c5e46-2b0f-4c27-8a46-2a93d45711ca",
   "metadata": {},
   "outputs": [
    {
     "data": {
      "text/plain": [
       "('-5', '10')"
      ]
     },
     "execution_count": 44,
     "metadata": {},
     "output_type": "execute_result"
    }
   ],
   "source": [
    "ss = ['abcdefg','10','-5','cd','白骨精','白','10','10','10']\n",
    "ss.pop(2),ss.pop()"
   ]
  },
  {
   "cell_type": "code",
   "execution_count": 45,
   "id": "69dc93d6-11c4-4cf5-b53c-f849c7f18e67",
   "metadata": {},
   "outputs": [
    {
     "name": "stdout",
     "output_type": "stream",
     "text": [
      "['abcdefg', '10', 'cd', '白骨精', '白', '10', '10', '10']\n",
      "['abcdefg', 'cd', '白骨精', '白', '10', '10', '10']\n"
     ]
    }
   ],
   "source": [
    "ss = ['abcdefg','10','-5','cd','白骨精','白','10','10','10']\n",
    "ss.remove('-5')\n",
    "print(ss)\n",
    "ss.remove('10')\n",
    "print(ss)"
   ]
  },
  {
   "cell_type": "code",
   "execution_count": 46,
   "id": "000abe92-b487-492c-99f4-a892dc9e23fa",
   "metadata": {},
   "outputs": [
    {
     "data": {
      "text/plain": [
       "['10', '10', '10', '白', '白骨精', 'cd', '-5', '10', 'abcdefg']"
      ]
     },
     "execution_count": 46,
     "metadata": {},
     "output_type": "execute_result"
    }
   ],
   "source": [
    "ss = ['abcdefg','10','-5','cd','白骨精','白','10','10','10']\n",
    "ss.reverse()\n",
    "ss"
   ]
  },
  {
   "cell_type": "code",
   "execution_count": 47,
   "id": "d876da78-a4b2-4a42-9e7a-ffeffa75ce8c",
   "metadata": {},
   "outputs": [
    {
     "data": {
      "text/plain": [
       "['-5', '10', '10', '10', '10', 'abcdefg', 'cd', '白', '白骨精']"
      ]
     },
     "execution_count": 47,
     "metadata": {},
     "output_type": "execute_result"
    }
   ],
   "source": [
    "ss = ['abcdefg','10','-5','cd','白骨精','白','10','10','10']\n",
    "ss.sort()\n",
    "ss"
   ]
  },
  {
   "cell_type": "code",
   "execution_count": 48,
   "id": "7570ee2a-4478-462e-bba2-b501a51237a3",
   "metadata": {},
   "outputs": [
    {
     "name": "stdout",
     "output_type": "stream",
     "text": [
      "========================欢迎使用员工管理系统======================\n",
      "请选择操作：\n",
      "\t 1.查询\n",
      "\t 2.添加\n",
      "\t 3.删除\n",
      "\t 4.退出\n"
     ]
    },
    {
     "name": "stdin",
     "output_type": "stream",
     "text": [
      "请选择[1-4]： 1\n"
     ]
    },
    {
     "name": "stdout",
     "output_type": "stream",
     "text": [
      "----------------------------------------------------------------\n",
      "\t序号\t姓名\t年龄\t性别\t住址\n",
      "\t1\t孙悟空\t18\t男\t花果山\n",
      "----------------------------------------------------------------\n",
      "请选择操作：\n",
      "\t 1.查询\n",
      "\t 2.添加\n",
      "\t 3.删除\n",
      "\t 4.退出\n"
     ]
    },
    {
     "name": "stdin",
     "output_type": "stream",
     "text": [
      "请选择[1-4]： 4\n"
     ]
    },
    {
     "name": "stdout",
     "output_type": "stream",
     "text": [
      "----------------------------------------------------------------\n",
      "再见！\n"
     ]
    },
    {
     "name": "stdin",
     "output_type": "stream",
     "text": [
      "点击回车退出！ \n"
     ]
    }
   ],
   "source": [
    "# EMS (Employee Manager System 员工管理系统)\n",
    "print('========================欢迎使用员工管理系统======================')\n",
    "\n",
    "emps = ['孙悟空\\t18\\t男\\t花果山',]\n",
    "while True:\n",
    "    print('请选择操作：\\n\\t 1.查询\\n\\t 2.添加\\n\\t 3.删除\\n\\t 4.退出')\n",
    "    num = input('请选择[1-4]：')\n",
    "    print('-'*64)\n",
    "    # 查询\n",
    "    if num=='1':\n",
    "        print('\\t序号\\t姓名\\t年龄\\t性别\\t住址')\n",
    "        for i, emp in enumerate(emps):\n",
    "            print(f'\\t{i+1}\\t{emp}')\n",
    "\n",
    "    # 添加\n",
    "    elif num=='2':\n",
    "        name = input('输入姓名')\n",
    "        age = input('输入年龄')\n",
    "        sex = input('输入性别')\n",
    "        address = input('输入住址')\n",
    "\n",
    "        ss = f'{name}\\t{age}\\t{sex}\\t{address}'\n",
    "        emps.append(ss)\n",
    "        print('添加成功')\n",
    "\n",
    "    # 删除\n",
    "    elif num=='3':\n",
    "        index = int(input('输入员工序号'))\n",
    "        index -= 1\n",
    "        if 0<= index <len(emps):\n",
    "            print('要删除的信息')\n",
    "            print('\\t序号\\t姓名\\t年龄\\t性别\\t住址')\n",
    "            print(f'\\t{index+1}\\t{emps[index]}')\n",
    "            botton = input('是否删除?[Y/N]')\n",
    "            if botton=='Y' or botton=='y':\n",
    "                del emps[index]\n",
    "                print('删除成功！')\n",
    "            elif botton=='N' or botton=='n':\n",
    "                print('未删除！')\n",
    "            else:\n",
    "                print('输入有误！')\n",
    "        else:\n",
    "            print('输入有误！')\n",
    "    # 退出\n",
    "    elif num=='4':\n",
    "        print(\"再见！\")\n",
    "        input(\"点击回车退出！\")\n",
    "        break   \n",
    "    else:\n",
    "        print(\"选择错误！\")\n",
    "    print('-'*64)"
   ]
  },
  {
   "cell_type": "markdown",
   "id": "3d5ccdfc-baf1-4ac7-bc91-aabcfec7157f",
   "metadata": {},
"source": [
    "## 5.5range\n",
    "## 5.6元组\n",
    "    元组：不可变的列表\n",
    "## 5.7可变对象\n",
    "    值可变\n",
    "    == != 比较的时对象的值是否相等\n",
    "    is is not 比较的是对象的id是否相等\n",
    "    \n",
    "## 5.8字典（dict）\n",
    "    一种数据结构，称为映射\n",
    "    与列表类似，用来存储对象的容器，存储性能很好，查询性能很差\n",
    "    in 检查字典中是否包含指定的键\n",
    "    not in 检查字典是否不包括指定的键\n",
    "    \n",
    "    copy() 浅复制\n",
    "    \n",
    "## 5.9集合（set）\n",
    "    集合和列表非常相似\n",
    "    不同点\n",
    "        集合只能存储不可变对象\n",
    "        集合存储的对象是无序的\n",
    "        集合中不能出现重复的元素\n",
    "    in \n",
    "    not in\n",
    "    len()\n",
    "    add()\n",
    "    update() 可以传递序列或者字典\n",
    "    集合运算 计算时不影响原来集合\n",
    "        交集 &\n",
    "        并集 |\n",
    "        差集 -\n",
    "        亦或集 ^ 只在一个集合出现的元素\n",
    "        检查一个集合是否是另一个集合的子集 <=\n",
    "        检查一个集合是否是另一个集合的真子集 <\n",
    "        >\n",
    "        >="
   ]
  },
  {
   "cell_type": "code",
   "execution_count": 49,
   "id": "0318cf6a-15f3-4522-998b-49464d898954",
   "metadata": {},
   "outputs": [
    {
     "data": {
      "text/plain": [
       "([10, 9, 8, 7, 6, 5, 4, 3], [1, 3])"
      ]
     },
     "execution_count": 49,
     "metadata": {},
     "output_type": "execute_result"
    }
   ],
   "source": [
    "list(range(10,2,-1)),list(range(1,5,2))"
   ]
  },
  {
   "cell_type": "code",
   "execution_count": 50,
   "id": "7443509d-c171-4377-ba2c-589c9dfdf236",
   "metadata": {},
   "outputs": [
    {
     "name": "stdout",
     "output_type": "stream",
     "text": [
      "()\n",
      "(1,)\n"
     ]
    }
   ],
   "source": [
    "ss = ()\n",
    "print(ss)\n",
    "ss = (1,)\n",
    "print(ss)"
   ]
  },
  {
   "cell_type": "code",
   "execution_count": 51,
   "id": "f05bf9a5-00be-4e6f-81a1-5647ca031f08",
   "metadata": {},
   "outputs": [
    {
     "name": "stdout",
     "output_type": "stream",
     "text": [
      "a = 10\n",
      "b = 20\n",
      "c = 30\n",
      "d = 40\n"
     ]
    }
   ],
   "source": [
    "# 解包\n",
    "ss = (10,20,30,40)\n",
    "a,b,c,d = ss\n",
    "print(\"a =\",a)\n",
    "print(\"b =\",b)\n",
    "print(\"c =\",c)\n",
    "print(\"d =\",d)"
   ]
  },
  {
   "cell_type": "code",
   "execution_count": 52,
   "id": "5b0c91f0-8f8d-45fe-9e9d-162d78e3d4cb",
   "metadata": {},
   "outputs": [
    {
     "data": {
      "text/plain": [
       "(10, 20, [30, 40])"
      ]
     },
     "execution_count": 52,
     "metadata": {},
     "output_type": "execute_result"
    }
   ],
   "source": [
    "ss = (10,20,30,40)\n",
    "a,b,*c = ss\n",
    "a,b,c"
   ]
  },
  {
   "cell_type": "code",
   "execution_count": 53,
   "id": "3022264d-750a-4e02-a780-88eaa83b0e7b",
   "metadata": {},
   "outputs": [
    {
     "name": "stdout",
     "output_type": "stream",
     "text": [
      "[10, 20, 30, 40]\n",
      "10 [20, 30] 40\n",
      "[10, 20] 30 40\n",
      "[1, 2, 3, 4] 5 6\n"
     ]
    }
   ],
   "source": [
    "# *a,*b,c = ss 错误\n",
    "*a, = ss\n",
    "print(a)\n",
    "a,*b,c = ss\n",
    "print(a,b,c)\n",
    "*a,b,c = ss\n",
    "print(a,b,c)\n",
    "*a,b,c = [1,2,3,4,5,6]\n",
    "print(a,b,c)"
   ]
  },
  {
   "cell_type": "code",
   "execution_count": 54,
   "id": "0ad65fc7-4c1f-41f5-9a85-1601d3fa265c",
   "metadata": {},
   "outputs": [
    {
     "data": {
      "text/plain": [
       "(True, False)"
      ]
     },
     "execution_count": 54,
     "metadata": {},
     "output_type": "execute_result"
    }
   ],
   "source": [
    "a = [1,2,3]\n",
    "b = [1,2,3]\n",
    "a==b,a is b"
   ]
  },
  {
   "cell_type": "code",
   "execution_count": 55,
   "id": "59fd768a-87b9-456b-900c-6b1814eecaaa",
   "metadata": {},
   "outputs": [],
   "source": [
    "# 集合\n",
    "d = {1,2,3,5}"
   ]
  },
  {
   "cell_type": "code",
   "execution_count": 56,
   "id": "c9d0536c-1725-4836-a95c-ab04abc9cff8",
   "metadata": {},
   "outputs": [
    {
     "data": {
      "text/plain": [
       "(True, False, True)"
      ]
     },
     "execution_count": 56,
     "metadata": {},
     "output_type": "execute_result"
    }
   ],
   "source": [
    "d = {'a':2,'b':3,'d':4}\n",
    "'a'in d, 'a' not in d, 'c' not in d"
   ]
  },
  {
   "cell_type": "code",
   "execution_count": 57,
   "id": "52c84519-aa8b-4a4a-8240-390d4e8942d3",
   "metadata": {},
   "outputs": [
    {
     "data": {
      "text/plain": [
       "(2, '默认值')"
      ]
     },
     "execution_count": 57,
     "metadata": {},
     "output_type": "execute_result"
    }
   ],
   "source": [
    "d.get('a'),d.get('e','默认值')"
   ]
  },
  {
   "cell_type": "code",
   "execution_count": 58,
   "id": "6a4e81ff-5959-4849-8458-a9e7755dfde3",
   "metadata": {},
   "outputs": [
    {
     "data": {
      "text/plain": [
       "(2, '默认值', {'a': 2, 'b': 3, 'd': 4, 'f': '默认值'})"
      ]
     },
     "execution_count": 58,
     "metadata": {},
     "output_type": "execute_result"
    }
   ],
   "source": [
    "d.setdefault('a','1024'),d.setdefault('f','默认值'),d"
   ]
  },
  {
   "cell_type": "code",
   "execution_count": 59,
   "id": "612b95e5-c69a-4e84-aefa-1936c8263ca9",
   "metadata": {},
   "outputs": [
    {
     "data": {
      "text/plain": [
       "{'a': 5, 'b': 2, 'c': 3, 'd': 4, 'e': 5, 'f': 6}"
      ]
     },
     "execution_count": 59,
     "metadata": {},
     "output_type": "execute_result"
    }
   ],
   "source": [
    "d = {'a':1,'b':2,'c':3}\n",
    "d2 = {'d':4,'e':5,'f':6,'a':5}\n",
    "d.update(d2)\n",
    "d"
   ]
  },
  {
   "cell_type": "code",
   "execution_count": 60,
   "id": "9301a903-cc24-413b-9b69-1c9ece832bd0",
   "metadata": {},
   "outputs": [
    {
     "data": {
      "text/plain": [
       "{'b': 2, 'c': 3, 'd': 4, 'e': 5, 'f': 6}"
      ]
     },
     "execution_count": 60,
     "metadata": {},
     "output_type": "execute_result"
    }
   ],
   "source": [
    "del d['a']\n",
    "d"
   ]
  },
  {
   "cell_type": "code",
   "execution_count": 61,
   "id": "b25e6489-4e7d-429b-a89c-09367777e5cc",
   "metadata": {},
   "outputs": [
    {
     "data": {
      "text/plain": [
       "(('f', 6), {'b': 2, 'c': 3, 'd': 4, 'e': 5})"
      ]
     },
     "execution_count": 61,
     "metadata": {},
     "output_type": "execute_result"
    }
   ],
   "source": [
    "d.popitem(),d"
   ]
  },
  {
   "cell_type": "code",
   "execution_count": 62,
   "id": "b8dd6182-56c5-450c-a4ce-2292aafb9ae2",
   "metadata": {},
   "outputs": [
    {
     "data": {
      "text/plain": [
       "(4, {'b': 2, 'c': 3, 'e': 5})"
      ]
     },
     "execution_count": 62,
     "metadata": {},
     "output_type": "execute_result"
    }
   ],
   "source": [
    "d.pop('d'),d"
   ]
  },
  {
   "cell_type": "code",
   "execution_count": 63,
   "id": "4536fbb8-4218-4fa0-938b-94dc98603200",
   "metadata": {},
   "outputs": [],
   "source": [
    "# 会报错\n",
    "# c = {}\n",
    "# c.popitem()"
   ]
  },
  {
   "cell_type": "code",
   "execution_count": 64,
   "id": "27525d0b-2dc3-4c37-b8e9-728915f2c0b2",
   "metadata": {},
   "outputs": [
    {
     "name": "stdout",
     "output_type": "stream",
     "text": [
      "{'b': 2, 'c': 3, 'e': 5}\n"
     ]
    }
   ],
   "source": [
    "print(d)\n",
    "d.clear()"
   ]
  },
  {
   "cell_type": "code",
   "execution_count": 65,
   "id": "7059ab32-f7d9-4953-845a-c9d1c28546ba",
   "metadata": {},
   "outputs": [
    {
     "data": {
      "text/plain": [
       "({'d': 4, 'e': 7, 'f': 6, 'a': 5}, {'d': 8, 'e': 5, 'f': 6, 'a': 5})"
      ]
     },
     "execution_count": 65,
     "metadata": {},
     "output_type": "execute_result"
    }
   ],
   "source": [
    "d3 = d2.copy()\n",
    "d2['d']=8\n",
    "d3['e']=7\n",
    "d3,d2"
   ]
  },
  {
   "cell_type": "code",
   "execution_count": 66,
   "id": "dc8a4bb7-99b0-4fc5-a8bc-14fd87c3e3c0",
   "metadata": {},
   "outputs": [
    {
     "data": {
      "text/plain": [
       "({'a': 1, 'b': {'a': 10, 'b': 2}, 'c': 3},\n",
       " {'a': 1, 'b': {'a': 10, 'b': 2}, 'c': 3})"
      ]
     },
     "execution_count": 66,
     "metadata": {},
     "output_type": "execute_result"
    }
   ],
   "source": [
    "d = {'a':1,'b':{'a':1,'b':2},'c':3}\n",
    "d0 = d.copy()\n",
    "d0['b']['a']=10\n",
    "d,d0"
   ]
  },
  {
   "cell_type": "code",
   "execution_count": 67,
   "id": "98d4b2c8-6399-4243-bdf7-0692920d7dd8",
   "metadata": {},
   "outputs": [
    {
     "data": {
      "text/plain": [
       "(dict_keys(['a', 'b', 'c']),\n",
       " dict_values([1, {'a': 10, 'b': 2}, 3]),\n",
       " dict_items([('a', 1), ('b', {'a': 10, 'b': 2}), ('c', 3)]))"
      ]
     },
     "execution_count": 67,
     "metadata": {},
     "output_type": "execute_result"
    }
   ],
   "source": [
    "# 遍历字典\n",
    "d.keys(),d.values(),d.items()"
   ]
  },
  {
   "cell_type": "code",
   "execution_count": 68,
   "id": "46216012-cb2b-4870-a3b0-d9e6a64cc995",
   "metadata": {},
   "outputs": [
    {
     "name": "stdout",
     "output_type": "stream",
     "text": [
      "a\n",
      "b\n",
      "c\n",
      "1\n",
      "{'a': 10, 'b': 2}\n",
      "3\n",
      "('a', 1)\n",
      "('b', {'a': 10, 'b': 2})\n",
      "('c', 3)\n"
     ]
    }
   ],
   "source": [
    "for k in d.keys():\n",
    "    print(k)\n",
    "for k in d.values():\n",
    "    print(k)\n",
    "for k in d.items():\n",
    "    print(k)"
   ]
  },
  {
   "cell_type": "code",
   "execution_count": 69,
   "id": "134989bb-687a-45c4-a5ef-b6d64c994b5c",
   "metadata": {},
   "outputs": [
    {
     "data": {
      "text/plain": [
       "({1, 2, 3, 4}, set)"
      ]
     },
     "execution_count": 69,
     "metadata": {},
     "output_type": "execute_result"
    }
   ],
   "source": [
    "s = {1,2,3,4,}\n",
    "s,type(s)"
   ]
  },
  {
   "cell_type": "code",
   "execution_count": 70,
   "id": "11959489-e660-498c-bb38-f00a26deb893",
   "metadata": {},
   "outputs": [
    {
     "data": {
      "text/plain": [
       "{5, 6, 8, 14, 15, 20}"
      ]
     },
     "execution_count": 70,
     "metadata": {},
     "output_type": "execute_result"
    }
   ],
   "source": [
    "s = {5,20,6,8,15,15,14,20,5,6}\n",
    "s"
   ]
  },
  {
   "cell_type": "code",
   "execution_count": 71,
   "id": "500e9214-8f30-45c9-8e28-6608eb11bc8a",
   "metadata": {},
   "outputs": [
    {
     "data": {
      "text/plain": [
       "{(1, 2), (1, 2, 5), (2,), (3, 4), (5, 8, 4, 1)}"
      ]
     },
     "execution_count": 71,
     "metadata": {},
     "output_type": "execute_result"
    }
   ],
   "source": [
    "ss = {(1,2),(3,4),(1,2),(2,),(1,2,5),(5,8,4,1,)}\n",
    "ss"
   ]
  },
  {
   "cell_type": "code",
   "execution_count": 72,
   "id": "0728564a-be3f-4937-87e1-74433a8756c5",
   "metadata": {},
   "outputs": [
    {
     "name": "stdout",
     "output_type": "stream",
     "text": [
      "{9, 2, 5, 6}\n",
      "{'o', 'e', 'h', 'l'}\n",
      "{'a', 'b'}\n"
     ]
    }
   ],
   "source": [
    "s = set([5,6,9,5,2])\n",
    "print(s)\n",
    "s = set('hello')\n",
    "print(s)\n",
    "s = set({'a':1,'b':2})\n",
    "print(s)"
   ]
  },
  {
   "cell_type": "code",
   "execution_count": 73,
   "id": "855a9898-da0c-4aa5-892a-d80c818f153d",
   "metadata": {},
   "outputs": [
    {
     "data": {
      "text/plain": [
       "{(1, 2), (1, 2, 5), (2,), (3, 4), (5, 8, 4, 1), 10}"
      ]
     },
     "execution_count": 73,
     "metadata": {},
     "output_type": "execute_result"
    }
   ],
   "source": [
    "ss.add(10)\n",
    "ss"
   ]
  },
  {
   "cell_type": "code",
   "execution_count": 74,
   "id": "8ac8d0b9-f666-4065-b8ca-b7ecba0723a0",
   "metadata": {},
   "outputs": [
    {
     "data": {
      "text/plain": [
       "{4, 5, 8, 9}"
      ]
     },
     "execution_count": 74,
     "metadata": {},
     "output_type": "execute_result"
    }
   ],
   "source": [
    "s1 = {5,4,8}\n",
    "s2 = {9,8,5}\n",
    "s2.update(s1)\n",
    "s2"
   ]
  },
  {
   "cell_type": "code",
   "execution_count": 75,
   "id": "14bca672-e6a7-4d33-bd38-70865fede86b",
