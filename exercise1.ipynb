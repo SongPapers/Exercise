# exercise
{
 "cells": [
  {
   "cell_type": "markdown",
   "id": "6ac3d9e1-62ec-40a2-87f9-56da803d6308",
   "metadata": {
    "tags": []
   },
