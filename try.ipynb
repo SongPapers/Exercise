{
 "cells": [
  {
   "cell_type": "code",
   "execution_count": null,
   "id": "0770ed1d-cdd6-4b0f-8963-4f46a16cbd71",
   "metadata": {},
   "outputs": [],
   "source": [
    "import numpy as np\n",
    "import pandas as pd"
   ]
  },
  {
   "cell_type": "code",
   "execution_count": null,
   "id": "dfc5b5bb-2963-4828-a4ce-290fdd3661e6",
   "metadata": {},
   "outputs": [],
   "source": [
    "data = {\n",
    "  \"calories\": [420, 380, 390],\n",
    "  \"duration\": [50, 40, 45]\n",
    "}\n",
    "\n",
    "# 数据载入到 DataFrame 对象\n",
    "df = pd.DataFrame(data)\n",
    "\n",
    "# 返回第一行和第二行\n",
    "print(df)\n",
    "print(df.loc[[0, 1]])\n",
    "print(df[['calories', 'calories']])\n",
    "df"
   ]
  },
  {
   "cell_type": "code",
   "execution_count": null,
   "id": "9200f394-0ef8-4079-91c8-49507e8162ee",
   "metadata": {},
   "outputs": [],
   "source": [
    "left=pd.DataFrame({\n",
    "    'key':[0,1,2],\n",
    "    'left':['A','B','C']})\n",
    "right=pd.DataFrame({\n",
    "    'key':[1,2,3],\n",
    "    'right':['A','C','D']})\n",
    "pd.merge(left,right,on='key',how='left')"
   ]
  },
  {
   "cell_type": "code",
   "execution_count": null,
   "id": "b9f2f060-7ab4-4395-b9ad-5e17e94412c6",
   "metadata": {},
   "outputs": [],
   "source": [
    "pd1 = pd.DataFrame(np.zeros((3,4)),columns=['a','b','c','d'])\n",
    "pd2 = pd.DataFrame()\n",
    "pd3 = pd.DataFrame(np.ones((2,3)),columns=['c','b','d'])\n",
    "\n",
    "print(pd1,'\\n',pd2,'\\n',pd3)\n",
    "pd.concat([pd1,pd2,pd3])"
   ]
  },
  {
   "cell_type": "code",
   "execution_count": null,
   "id": "54d585ab-17ef-41ee-8045-a2522c1d9957",
   "metadata": {},
   "outputs": [],
   "source": [
    "def dexFSP(n):\n",
    "    x = 2  # 转换为二进制，所以这里取x=2\n",
    "    b = []  # 存储余数\n",
    "    type = \"\"\n",
    "    while True:  # 一直循环，商为0时利用break退出循环\n",
    "        s = n // 2  # 商\n",
    "        y = n % 2  # 余数\n",
    "        b = b + [y]  # 每一个余数存储到b中\n",
    "        if s == 0:\n",
    "            break  # 余数为0时结束循环\n",
    "        n = s\n",
    "    b.reverse()  # 使b中的元素反向排列\n",
    "    b = [str(i) for i in b]\n",
    "    a = ''.join(b[:-6])\n",
    "    # print(a)\n",
    "    slot_dex = \"\".join(a[13:19])\n",
    "    port_dex = \"\".join(a[19:26])\n",
    "\n",
    "    slot = int(slot_dex,2)\n",
    "    port = int(port_dex, 2)\n",
    "    if a[0:7] == \"1100000\":\n",
    "        type = \"ADSL\"\n",
    "    elif a[0:7] == \"1111100\" or a[0:7] == \"1111000\":\n",
    "        type = \"VDSL2\"\n",
    "    elif a[0:7] == \"1011000\":\n",
    "        type = \"SHDSL\"\n",
    "    return slot,port,type"
   ]
  },
  {
   "cell_type": "code",
   "execution_count": null,
   "id": "98b26cc4-cda8-401a-a59f-80d7bed4bfb2",
   "metadata": {},
   "outputs": [],
   "source": [
    "dexFSP(120365240)"
   ]
  },
  {
   "cell_type": "code",
   "execution_count": null,
   "id": "f9a0266c-a308-45dc-a422-1999ca58b94a",
   "metadata": {},
   "outputs": [],
   "source": [
    "n = 124\n",
    "x = 2  # 转换为二进制，所以这里取x=2\n",
    "b = []  # 存储余数\n",
    "type = \"\"\n",
    "while True:  # 一直循环，商为0时利用break退出循环\n",
    "    s = n // 2  # 商\n",
    "    y = n % 2  # 余数\n",
    "    b = b + [y]  # 每一个余数存储到b中\n",
    "    if s == 0:\n",
    "        break  # 余数为0时结束循环\n",
    "    n = s\n",
    "b.reverse()  # 使b中的元素反向排列\n",
    "b = [str(i) for i in b]\n",
    "a = ''.join(b[:-6])\n",
    "# print(a)\n",
    "a,b,n"
   ]
  },
  {
   "cell_type": "code",
   "execution_count": null,
   "id": "79de7938-be7c-4b05-9d10-6a6e819e660a",
   "metadata": {},
   "outputs": [],
   "source": [
    "slot_dex = \"\".join(a[13:19])\n",
    "port_dex = \"\".join(a[19:26])\n",
    "\n",
    "slot = int(slot_dex,2)\n",
    "port = int(port_dex, 2)\n",
    "if a[0:7] == \"1100000\":\n",
    "    type = \"ADSL\"\n",
    "elif a[0:7] == \"1111100\" or a[0:7] == \"1111000\":\n",
    "    type = \"VDSL2\"\n",
    "elif a[0:7] == \"1011000\":\n",
    "    type = \"SHDSL\""
   ]
  },
  {
   "cell_type": "code",
   "execution_count": null,
   "id": "b5da14ef-1204-49f6-935c-01a2f988c343",
   "metadata": {},
   "outputs": [],
   "source": [
    "fir = 'hello'\n",
    "sec = 'monkey'\n",
    "result = '%s, %s' % (fir, sec)\n",
    "print(result)"
   ]
  },
  {
   "cell_type": "code",
   "execution_count": null,
   "id": "303a7a24-b08f-42e1-8c34-4cecd6d8a625",
   "metadata": {},
   "outputs": [],
   "source": [
    "import re\n",
    "ifindex_patten = r\"ifIndex\\W\\s*(\\d+)\"\n",
    "log_patten = r\"\\s*display\\s*log\\s*all\\s*\"\n",
    "cmd_patten = r\"Cmd\\W(.*)\"\n",
    "time_patten = r\"\\d{4}\\W\\d{2}\\W\\d{2}\\s*\\d+\\W\\d+\\W\\d+\"    # 精确匹配\\d{4} n个前面表达式\n",
    "content_patten = r\".*\"\n",
    "\n",
    "# file = r'D:\\Code\\data\\msan with VDPM and cpe is ok.txt'\n",
    "file = r'D:\\Code\\data\\test.txt'\n",
    "with open(file, \"r\", encoding=\"gb18030\", errors=\"ignore\") as f:\n",
    "    # with as 简化了 try finally\n",
    "    i = -1\n",
    "    for x in f:\n",
    "        i += 1\n",
    "        print(i,x)\n",
    "        if re.compile(log_patten).findall(x):\n",
    "            print(i,re.compile(log_patten).findall(x))\n",
    "        if re.compile(time_patten).findall(x):\n",
    "            print(re.compile(time_patten).findall(x))\n",
    "            print(\"\".join(re.compile(time_patten).findall(x)))\n",
    "        if re.compile(cmd_patten).findall(x):\n",
    "            print(re.compile(cmd_patten).findall(x))\n",
    "            print(\"\".join(re.compile(cmd_patten).findall(x)).strip())\n",
    "        if re.compile(content_patten).findall(x):\n",
    "            print(re.compile(content_patten).findall(x))\n",
    "            print(\"\".join(re.compile(content_patten).findall(x)).strip())\n",
    "            "
   ]
  },
  {
   "cell_type": "code",
   "execution_count": null,
   "id": "f1381a54-f676-4560-90ca-cb889945842d",
   "metadata": {},
   "outputs": [],
   "source": [
    "ifindex_patten = r\"ifIndex\\W\\s*(\\d+)\"\n",
    "log_patten = r\"\\s*display\\s*log\\s*all\\s*\"\n",
    "cmd_patten = r\"Cmd\\W(.*)\"\n",
    "time_patten = r\"\\d{4}\\W\\d{2}\\W\\d{2}\\s*\\d+\\W\\d+\\W\\d+\"    # 精确匹配\\d{4} n个前面表达式\n",
    "content_patten = r\".*\"\n",
    "stop_patten = r\"-------+\"\n",
    "log_flag = False\n",
    "cmd_flag = False\n",
    "command_list = [\"Index\",\"interface\",\"activate\",\"quickadd\",\n",
    "                    \"deactivate\",\"xdsl vectoring\",\"reset\",\"power\",\"reboot\",\n",
    "                    \"modify\",\"quickmodify\",\"add\",\"profile\"]\n",
    "\n",
    "# file = r'D:\\Code\\data\\msan with VDPM and cpe is ok.txt'\n",
    "file = r'D:\\Code\\data\\test.txt'\n",
    "with open(file, \"r\", encoding=\"gb18030\", errors=\"ignore\") as f:\n",
    "    for i, x in enumerate(f):\n",
    "        print(i, x)\n",
    "        if re.compile(log_patten).findall(x):\n",
    "            log_flag = True\n",
    "\n",
    "        if log_flag and re.compile(time_patten).findall(x):\n",
    "            time = \"\".join(re.compile(time_patten).findall(x))\n",
    "            print('time',time)\n",
    "        if log_flag and re.compile(cmd_patten).findall(x):\n",
    "            cmd = \"\".join(re.compile(cmd_patten).findall(x)).strip()\n",
    "            cmd_flag = True\n",
    "            print('cmd',cmd)\n",
    "            continue    # 为什么加这个？\n",
    "        if log_flag and cmd_flag and re.compile(content_patten).findall(x):\n",
    "            cmd1 = \"\".join(re.compile(content_patten).findall(x)).strip()\n",
    "            print('cmd1',cmd1)\n",
    "            if re.compile(stop_patten).findall(cmd1):\n",
    "                pass\n",
    "            else:\n",
    "                cmd += cmd1 + \" \" + \"\\n\"\n",
    "                print('cmd+=',cmd)\n",
    "            for c in command_list:\n",
    "                if c in cmd:\n",
    "                    command_flag = True"
   ]
  },
  {
   "cell_type": "code",
   "execution_count": null,
   "id": "d46de8e0-90e6-4e8d-b4e0-aa81bbe91a60",
   "metadata": {},
   "outputs": [],
   "source": []
  },
  {
   "cell_type": "code",
   "execution_count": null,
   "id": "b07cb076-92c9-4453-a3a0-d72374988844",
   "metadata": {},
   "outputs": [],
   "source": [
    "# ['2018-11-26 18:17:03']\n",
    "# 2018-11-26 18:17:03\n",
    "# ['  Time: 2018-11-26 18:17:03+00:00              ', '', '']\n",
    "# Time: 2018-11-26 18:17:03+00:00\n",
    "\n",
    "ss = ['  Time: 2018-11-26 18:17:03+00:00              ', '', '']\n",
    "\"-\".join(ss),\"\".join(ss).strip()"
   ]
  },
  {
   "cell_type": "code",
   "execution_count": null,
   "id": "f8c51085-5783-4a76-928a-15555f51c90d",
   "metadata": {},
   "outputs": [],
   "source": [
    "if []:\n",
    "    print(1)\n",
    "elif ['']:\n",
    "      print(2)"
   ]
  },
  {
   "cell_type": "code",
   "execution_count": null,
   "id": "16baa72a-65bb-4d5f-955c-92e945c5f233",
   "metadata": {},
   "outputs": [],
   "source": [
    "import re\n",
    "line = \"Cats are smarter than dogs\"\n",
    "matchObj = re.match( r'(.*) are (.*?) .*', line, re.M|re.I)\n",
    "if matchObj:\n",
    "    print(\"matchObj.group() : \", matchObj.group())\n",
    "    print(\"matchObj.group(1) : \", matchObj.group(1))\n",
    "    print(\"matchObj.group(2) : \", matchObj.group(2))\n",
    "else:\n",
    "    print (\"No match!!\")"
   ]
  },
  {
   "cell_type": "code",
   "execution_count": null,
   "id": "479e5abd-bb0c-45cf-9b02-f031f0966962",
   "metadata": {},
   "outputs": [],
   "source": [
    "re.compile(r'(.*) are (.*?) .*').findall(line)"
   ]
  },
  {
   "cell_type": "code",
   "execution_count": null,
   "id": "d307c206-7525-48d0-8c35-160f9fc20e41",
   "metadata": {},
   "outputs": [],
   "source": [
    "ss = [0, 0, 0, 0, 0, 0, 1, 0, 0, 0, 1, 1, 0, 1, 0, 1, 1, 0, 0, 0, 0, 0, 0, 0, 0, 0, 0, 1, 1, 1, 1, 1]\n",
    "','.join(ss)"
   ]
  },
  {
   "cell_type": "code",
   "execution_count": null,
   "id": "6ced8bb2-4e96-435e-a72f-8b7349e4aeac",
   "metadata": {},
   "outputs": [],
   "source": [
    "sss = '11111000000000011010110001000000'\n",
    "n = 4160859200\n",
    "x = 2  # 转换为二进制，所以这里取x=2\n",
    "b = []  # 存储余数\n",
    "type = \"\"\n",
    "while True:  # 一直循环，商为0时利用break退出循环\n",
    "    s = n // 2  # 商\n",
    "    y = n % 2  # 余数\n",
    "    b = b + [str(y)]  # 每一个余数存储到b中\n",
    "    if s == 0:\n",
    "        break  # 余数为0时结束循环\n",
    "    n = s\n",
    "''.join(b),b"
   ]
  },
  {
   "cell_type": "code",
   "execution_count": null,
   "id": "397f1788-ddf9-4fcd-8031-cdb7d93c2459",
   "metadata": {},
   "outputs": [],
   "source": [
    "b.reverse()\n",
    "n = 4160859200\n",
    "bb = ''.join(b)\n",
    "bb = '0b'+bb\n",
    "bin(n)==bb"
   ]
  },
  {
   "cell_type": "code",
   "execution_count": null,
   "id": "62ad1ac1-9770-4df0-8959-279304e603a0",
   "metadata": {},
   "outputs": [],
   "source": [
    "a = bin(n)[2:-6]\n",
    "a"
   ]
  },
  {
   "cell_type": "code",
   "execution_count": null,
   "id": "d24a373a-2c07-48a6-8bca-ad2cb8cafb90",
   "metadata": {},
   "outputs": [],
   "source": [
    "40/1500"
   ]
  },
  {
   "cell_type": "code",
   "execution_count": null,
   "id": "8e9063a1-9352-43f7-b3a9-24619f28629b",
   "metadata": {},
   "outputs": [],
   "source": [
    "22500*1000*2/300000000"
   ]
  },
  {
   "cell_type": "code",
   "execution_count": null,
   "id": "70488cce-626f-484d-8932-c0812c788c2a",
   "metadata": {},
   "outputs": [],
   "source": [
    "n=4160859200\n",
    "a = bin(n)[2:-6]\n",
    "a,a[:7],a[13:19],a[19:26]"
   ]
  },
  {
   "cell_type": "code",
   "execution_count": null,
   "id": "d5b91a04-551e-4a65-aa0b-d5b390790068",
   "metadata": {},
   "outputs": [],
   "source": [
    "int(a[19:26],2)"
   ]
  },
  {
   "cell_type": "code",
   "execution_count": null,
   "id": "74907c6c-10a6-460c-a713-07fae8ddd003",
   "metadata": {},
   "outputs": [],
   "source": [
    "dict_dexFSP = {\"1100000\": \"ADSL\",\n",
    "               \"1111100\": \"VDSL2\",\n",
    "               \"1111000\": \"VDSL2\",\n",
    "               \"1011000\": \"SHDSL\",\n",
    "               }\n",
    "dict_dexFSP[a[0:7]]"
   ]
  },
  {
   "cell_type": "code",
   "execution_count": null,
   "id": "21e01c75-11ef-46b9-9af2-dfb164cd7979",
   "metadata": {},
   "outputs": [],
   "source": [
    "# try:\n",
    "#     dict_dexFSP[a[0:8]]\n",
    "#     print(\"这是一个测试文件，用于测试异常!!\")\n",
    "# except IOError:\n",
    "#     print(\"Error\")\n",
    "# finally:\n",
    "#     print(1)"
   ]
  },
  {
   "cell_type": "code",
   "execution_count": null,
   "id": "8afccc26-5c74-4442-855e-e6e509e6010b",
   "metadata": {},
   "outputs": [],
   "source": [
    "import itertools\n",
    "type_list = []\n",
    "up_down_list = ['upstream', 'downstream']\n",
    "index_value = ['index', 'value']\n",
    "\n",
    "\n",
    "for i in itertools.product(type_list, up_down_list, index_value):\n",
    "    print(i)"
   ]
  },
  {
   "cell_type": "code",
   "execution_count": null,
   "id": "4c196794-f83b-4f74-aa5d-5317276e70f4",
   "metadata": {},
   "outputs": [],
   "source": [
    "import re\n",
    "from pandas.core.frame import DataFrame\n",
    "\n",
    "# 检查二\n",
    "# interface vdsl 0/X\n",
    "vdsl_interface_vdsl_patten = r\"interface\\s*vdsl\\s*0/(\\d+)\"\n",
    "# display sub-carrier snr port X downstream|upstream\n",
    "sub_carrier_snr_port_downstream_patten = \\\n",
    "    r\"\\Wdisplay\\s*sub\\Wcarrier\\s*snr\\s*port\\s*(\\d+)\\s*(downstream|upstream)\\s*\"\n",
    "# 33: 0.0 34: 0.0 35: 0.0 36: 0.0 37: 0.0 38: 0.0\n",
    "snr_patten = r\"\\s*(\\d+)\\W\\s+(\\d+\\W\\d+) \\\n",
    "             \\s*(\\d+)\\W\\s+(\\d+\\W\\d+) \\\n",
    "             \\s*(\\d*)\\W*\\s*(\\d*\\W*\\d*) \\\n",
    "             \\s*(\\d*)\\W*\\s*(\\d*\\W*\\d*) \\\n",
    "             \\s*(\\d*)\\W*\\s*(\\d*\\W*\\d*) \\\n",
    "             \\s*(\\d*)\\W*\\s*(\\d*\\W*\\d*)\\s*\"\n",
    "stop_patten = r\"-------+\"\n",
    "\n",
    "slot = \"\"\n",
    "port = \"\"\n",
    "up_down = \"\"\n",
    "group = \"1\"\n",
    "perTonetype = \"Snr\"\n",
    "\n",
    "value_list = []\n",
    "index_list = []\n",
    "new_index_list = []\n",
    "new_value_list = []\n",
    "data_dict = {}\n",
    "\n",
    "sub_carrier_snr_port_downstream_flag = False\n",
    "interface_flag = False\n",
    "snr_flag = False\n",
    "file = r'D:\\Code\\data\\check2.txt'\n",
    "\n",
    "with open(file, \"r\", encoding=\"gb18030\", errors=\"ignore\") as f:\n",
    "    for x in f:\n",
    "        if interface_flag is True and re.compile(vdsl_interface_vdsl_patten).findall(x):\n",
    "            interface_flag = False\n",
    "\n",
    "        if interface_flag is False and re.compile(vdsl_interface_vdsl_patten).findall(x):\n",
    "            slot = \"\".join(re.compile(vdsl_interface_vdsl_patten).findall(x))\n",
    "            interface_flag = True\n",
    "\n",
    "        if interface_flag is True and re.compile(sub_carrier_snr_port_downstream_patten).findall(x):\n",
    "            portinfo = re.compile(sub_carrier_snr_port_downstream_patten).findall(x)\n",
    "            port = portinfo[0][0]\n",
    "            up_down = portinfo[0][1]\n",
    "            sub_carrier_snr_port_downstream_flag = True\n",
    "        if interface_flag == True and sub_carrier_snr_port_downstream_flag == True and re.compile(snr_patten).findall(x):\n",
    "            snr_index_value = re.compile(snr_patten).findall(x)\n",
    "            index_list.append(snr_index_value[0][0])\n",
    "            value_list.append(snr_index_value[0][1])\n",
    "            index_list.append(snr_index_value[0][2])\n",
    "            value_list.append(snr_index_value[0][3])\n",
    "            index_list.append(snr_index_value[0][4])\n",
    "            value_list.append(snr_index_value[0][5])\n",
    "            index_list.append(snr_index_value[0][6])\n",
    "            value_list.append(snr_index_value[0][7])\n",
    "            index_list.append(snr_index_value[0][8])\n",
    "            value_list.append(snr_index_value[0][9])\n",
    "            index_list.append(snr_index_value[0][10])\n",
    "            value_list.append(snr_index_value[0][11])\n",
    "            snr_flag = True\n",
    "\n",
    "        if interface_flag is True and sub_carrier_snr_port_downstream_flag \\\n",
    "                and snr_flag and re.compile(stop_patten).findall(x):\n",
    "            sub_carrier_snr_port_downstream_flag = False\n",
    "            snr_flag = False\n",
    "\n",
    "            key = \"0/\" + slot + \"/\" + port + \"_\" + up_down\n",
    "\n",
    "            index_list = [int(i) for i in index_list if i != '']\n",
    "            value_list = [float(i) for i in value_list if i != '']\n",
    "\n",
    "            for x in index_list:\n",
    "                ins = x * int(group)\n",
    "                for y in range(0, int(group)):\n",
    "                    new_index_list.append(ins + y)\n",
    "\n",
    "            for v in value_list:\n",
    "                for c in range(0, int(group)):\n",
    "                    new_value_list.append(v)\n",
    "\n",
    "            new_value_list = [float(i) for i in new_value_list]\n",
    "\n",
    "            data_dict[key + \"_index\"] = new_index_list\n",
    "            data_dict[key + \"_value\"] = new_value_list\n",
    "\n",
    "            index_list = []\n",
    "            value_list = []\n",
    "            new_value_list = []\n",
    "            new_index_list = []\n",
    "\n",
    "max_length = 0\n",
    "for i in data_dict:\n",
    "    if len(data_dict[i]) >= max_length:\n",
    "        max_length = len(data_dict[i])\n",
    "\n",
    "# 补齐数据长度\n",
    "for i in data_dict:\n",
    "    if len(data_dict[i]) < max_length:\n",
    "        data_dict[i] += ([''] * (max_length - len(data_dict[i])))\n",
    "\n",
    "df = DataFrame(data_dict)\n",
    "\n"
   ]
  },
  {
   "cell_type": "code",
   "execution_count": null,
   "id": "6973fb8b-3438-4ae1-9204-66bd845a3435",
   "metadata": {},
   "outputs": [],
   "source": [
    "qln_patten2 = r\"\\s*(\\d+)\\W(\\W\\d+\\W\\d+)\\s*(\\d+)\\W(\\W\\d+\\W\\d+)\\s*(\\d+)\\W(\\W\\d+\\W\\d+)\\s*(\\d+)\\W(\\W\\d+\\W\\d+)\\s*(\\d+)\\W(\\W\\d+\\W\\d+)\\s*(\\d+)\\W(\\W\\d+\\W\\d+)\\s*\"\n",
    "\n",
    "qln_patten1 = r\"\\s*(\\d+)\\W(\\W\\d+\\W\\d+) \\\n",
    "             \\s*(\\d+)\\W(\\W\\d+\\W\\d+) \\\n",
    "             \\s*(\\d+)\\W(\\W\\d+\\W\\d+) \\\n",
    "             \\s*(\\d+)\\W(\\W\\d+\\W\\d+) \\\n",
    "             \\s*(\\d+)\\W(\\W\\d+\\W\\d+) \\\n",
    "             \\s*(\\d+)\\W(\\W\\d+\\W\\d+)\\s*\"\n",
    "qln_patten = r\"\\s*(\\d+)\\W(\\W\\d+\\W\\d+)\" \\\n",
    "             r\"\\s*(\\d+)\\W(\\W\\d+\\W\\d+)\" \\\n",
    "             r\"\\s*(\\d+)\\W(\\W\\d+\\W\\d+)\" \\\n",
    "             r\"\\s*(\\d+)\\W(\\W\\d+\\W\\d+)\" \\\n",
    "             r\"\\s*(\\d+)\\W(\\W\\d+\\W\\d+)\" \\\n",
    "             r\"\\s*(\\d+)\\W(\\W\\d+\\W\\d+)\\s*\"\n",
    "data1 = '   501:-117.5  502:-125.5  503:-129.0  504:-131.0  505:-132.0  506:-132.5  \\n'\n",
    "qln_patten==qln_patten1"
   ]
  },
  {
   "cell_type": "code",
   "execution_count": null,
   "id": "c5f7df23-077e-43f7-b9fe-e1e50ade4666",
   "metadata": {},
   "outputs": [],
   "source": [
    "x = '    39:-114.0   40:-115.5   41:-116.5   42:-116.0   43:-115.5   44:-115.0  \\n'\n",
    "qln_index_value = re.compile(qln_patten).findall(data1)\n",
    "qln_index_value[0][0]"
   ]
  },
  {
   "cell_type": "code",
   "execution_count": null,
   "id": "86ed6f53-4a42-4bd2-998f-4fdab4cd6c9c",
   "metadata": {},
   "outputs": [],
   "source": [
    "index_list = []\n",
    "index_list.append(qln_index_value[0][0])\n",
    "index_list"
   ]
  },
  {
   "cell_type": "code",
   "execution_count": null,
   "id": "e5a73ed7-b7b6-415b-8ae9-3e05a0172dbf",
   "metadata": {},
   "outputs": [],
   "source": [
    "type(qln_index_value[0]),type(qln_index_value)"
   ]
  },
  {
   "cell_type": "code",
   "execution_count": null,
   "id": "3b99100e-1b49-4830-9ff5-7b2078b1d5d1",
   "metadata": {},
   "outputs": [],
   "source": [
    "len(list(qln_index_value[0]))"
   ]
  },
  {
   "cell_type": "code",
   "execution_count": null,
   "id": "3a1fafad-dd43-4584-8650-159b439fb900",
   "metadata": {},
   "outputs": [],
   "source": [
    "qln_index_value[0][::2],qln_index_value[0][1::2],qln_index_value"
   ]
  },
  {
   "cell_type": "code",
   "execution_count": null,
   "id": "5774afee-264f-4833-ab20-26b52e0567aa",
   "metadata": {},
   "outputs": [],
   "source": [
    "index_list = []\n",
    "index_list.extend(qln_index_value[0][::2])\n",
    "# index_list.append('6')\n",
    "# index_list.extend(qln_index_value[0][1:3:2])\n",
    "index_list"
   ]
  },
  {
   "cell_type": "code",
   "execution_count": null,
   "id": "f90e75a8-39b8-46ef-823f-9f3e06e2207d",
   "metadata": {},
   "outputs": [],
   "source": [
    "# index_list.append('')\n",
    "ss = list(map(int, index_list))\n",
    "# index_list\n",
    "len(ss),ss"
   ]
  },
  {
   "cell_type": "code",
   "execution_count": null,
   "id": "72cb6dc4-0c4d-4182-bbd9-cf290118d9e1",
   "metadata": {},
   "outputs": [],
   "source": [
    "ss = [1,2,3]\n",
    "# ss = [1,1,2,2,3,3]\n",
    "# ss = [2,3,4,5,6,7]\n",
    "group = 2\n",
    "list(range(ss[0]*group, (ss[-1]+1)*group))"
   ]
  },
  {
   "cell_type": "code",
   "execution_count": null,
   "id": "a80749d7-55f0-44c8-b6a5-138c2713ba5b",
   "metadata": {},
   "outputs": [],
   "source": [
    "index_list1 = []\n",
    "index_list1 = list(map(lambda x: [x]*group, index_list))\n",
    "[float(x) for xdim1 in index_list1 for x in xdim1]"
   ]
  },
  {
   "cell_type": "code",
   "execution_count": null,
   "id": "5692b163-2b82-40c4-927f-6180046e52de",
   "metadata": {},
   "outputs": [],
   "source": [
    "x ='           display sub-carrier qln port 35 downstream '\n",
    "sub_carrier_qln_port_downstream_patten = \\\n",
    "    r\"\\Wdisplay\\s*sub-carrier\\s*qln\\s*port\\s*(\\d+)\\s*(downstream|upstream)\\s*\"\n",
    "portinfo = re.compile(sub_carrier_qln_port_downstream_patten).findall(x)\n",
    "portinfo"
   ]
  },
  {
   "cell_type": "code",
   "execution_count": null,
   "id": "b1786abf-0433-4350-a6f3-2c013ffbb448",
   "metadata": {},
   "outputs": [],
   "source": [
    "re.compile(sub_carrier_qln_port_downstream_patten)"
   ]
  },
  {
   "cell_type": "code",
   "execution_count": null,
   "id": "0a049bc3-3786-46b1-b9f0-52502a97897d",
   "metadata": {},
   "outputs": [],
   "source": [
    "info = re.compile(qln_patten).findall(data1),\n",
    "re.compile(qln_patten1).findall(data1),re.compile(qln_patten2).findall(data1)"
   ]
  },
  {
   "cell_type": "code",
   "execution_count": null,
   "id": "2c54e56a-769f-426b-a5d4-5c914d1f1673",
   "metadata": {},
   "outputs": [],
   "source": [
    "ss = info[0][0]\n",
    "ss"
   ]
  },
  {
   "cell_type": "code",
   "execution_count": null,
   "id": "72f71554-deae-49ab-9ed3-03bc0546d49c",
   "metadata": {},
   "outputs": [],
   "source": [
    "index_list = qln_index_value[0][::2]\n",
    "value_list = qln_index_value[0][1::2]\n",
    "index_list = [int(i) for i in index_list if i != '']\n",
    "value_list = [float(i) for i in value_list if i != '']\n",
    "index_list,value_list"
   ]
  },
  {
   "cell_type": "code",
   "execution_count": null,
   "id": "2e7c0ba5-4bf8-4017-936c-3dd0b58fe31c",
   "metadata": {},
   "outputs": [],
   "source": [
    "new_index_list = []\n",
    "new_value_list = []\n",
    "group = 2\n",
    "for x in index_list:\n",
    "    ins = x * int(group)\n",
    "    for y in range(0, int(group)):\n",
    "        new_index_list.append(ins + y)\n",
    "\n",
    "for v in value_list:\n",
    "    for c in range(0, int(group)):\n",
    "        new_value_list.append(v)\n",
    "new_index_list, new_value_list"
   ]
  },
  {
   "cell_type": "code",
   "execution_count": null,
   "id": "7d183a84-0f3d-469e-b604-bcb9fac22463",
   "metadata": {},
   "outputs": [],
   "source": [
    "index_list,group"
   ]
  },
  {
   "cell_type": "code",
   "execution_count": null,
   "id": "0d4df7c4-7782-4b2a-a765-bd8efb08ad08",
   "metadata": {},
   "outputs": [],
   "source": [
    "new_index_list = []\n",
    "for x in index_list:\n",
    "    ins = x * int(group)\n",
    "    for y in range(0, int(group)):\n",
    "        new_index_list.append(ins + y)\n",
    "new_index_list"
   ]
  },
  {
   "cell_type": "code",
   "execution_count": null,
   "id": "44b945c1-ec47-45a7-8579-168061d54110",
   "metadata": {},
   "outputs": [],
   "source": [
    "new_index_list = [2,5,6]\n",
    "new_index_list = [i+x*int(group) for x in new_index_list for i in range(int(group))]\n",
    "new_index_list"
   ]
  },
  {
   "cell_type": "code",
   "execution_count": null,
   "id": "b9ea110c-6832-4779-b463-0ad6cc474081",
   "metadata": {},
   "outputs": [],
   "source": [
    "data_dict = {\n",
    "'0//35_downstream_index' : [66, 67, 68, 69, 70, 71, 72, 73, 74, 75, 76, 77, 78, 79, 80, 81, 82, 83, 84, 85, 86, 87, 88, 89, 90, 91, 92, 93, 94, 95, 96, 97, 98, 99, 100, 101],\n",
    "'0//35_downstream_value' : [-111.0, -111.0, -114.0, -114.0, -116.0, -116.0, -118.0, -118.0, -118.0, -118.0, -116.5, -116.5, -114.0, -114.0, -115.5, -115.5, -116.5, -116.5, -116.0, -116.0, -115.5, -115.5, -115.0, -115.0, -114.0, -114.0, -112.0, -112.0, -106.5, -106.5, -112.5, -112.5, -114.0, -114.0, -115.5, -115.5],\n",
    "'0//35_upstream_index' : [7, 8, 9, 10, 11, 12, 13, 14, 15, 16, 17, 18, 19, 20, 21, 22, 23, 24, 25, 26, 27, 28, 29, 30],\n",
    "'0//35_upstream_value' : [-116.5, -114.5, -113.0, -110.5, -111.0, -111.5, -111.0, -110.5, -108.0, -107.5, -109.5, -110.0, -110.5, -110.5, -110.0, -110.5, -110.5, -110.5, -111.0, -111.5, -111.0, -112.0, -112.5, -114.0],\n",
    "}"
   ]
  },
  {
   "cell_type": "code",
   "execution_count": null,
   "id": "b82cf826-a7cf-49a6-9e3b-ecb5954e02bb",
   "metadata": {},
   "outputs": [],
   "source": [
    "max_length = 0\n",
    "for i in data_dict:\n",
    "    if len(data_dict[i]) >= max_length:\n",
    "        max_length = len(data_dict[i])\n",
    "max_length"
   ]
  },
  {
   "cell_type": "code",
   "execution_count": null,
   "id": "52aab28a-5793-4fe4-8d32-a15883ba3135",
   "metadata": {},
   "outputs": [],
   "source": [
    "for i in data_dict:\n",
    "    print(len(data_dict[i]),data_dict[i],)"
   ]
  },
  {
   "cell_type": "code",
   "execution_count": null,
   "id": "af738969-1072-4272-a485-e3c16e528af5",
   "metadata": {},
   "outputs": [],
   "source": [
    "max([len(data_dict[i]) for i in data_dict])"
   ]
  },
  {
   "cell_type": "code",
   "execution_count": null,
   "id": "32d60cbb-fdbe-406c-bc50-4d716f64b922",
   "metadata": {},
   "outputs": [],
   "source": [
    "for i in data_dict:\n",
    "    if len(data_dict[i]) < max_length:\n",
    "        data_dict[i] += ([''] * (max_length - len(data_dict[i])))\n",
    "\n",
    "data_dict"
   ]
  }
 ],
 "metadata": {
  "kernelspec": {
   "display_name": "Python 3",
   "language": "python",
   "name": "python3"
  },
  "language_info": {
   "codemirror_mode": {
    "name": "ipython",
    "version": 3
   },
   "file_extension": ".py",
   "mimetype": "text/x-python",
   "name": "python",
   "nbconvert_exporter": "python",
   "pygments_lexer": "ipython3",
   "version": "3.6.5"
  }
 },
 "nbformat": 4,
 "nbformat_minor": 5
}
